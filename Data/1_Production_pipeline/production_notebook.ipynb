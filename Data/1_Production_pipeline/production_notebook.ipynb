{
 "cells": [
  {
   "cell_type": "markdown",
   "metadata": {
    "id": "6iYacmX4DNcj"
   },
   "source": [
    "# Setting up python for pruduction!\n",
    "\n",
    "Here we will put together a series of Python scripts, each with a specific role in the data pipeline. This structure mimics a real-world production environment where different components of a data pipeline are separated for clarity and ease of maintenance, and reusability.\n",
    "\n",
    "---\n",
    "\n",
    "**About the data**\n",
    "\n",
    "In this example we will be using the pokeAPI as it is super stable and easy to understand.\n"
   ]
  },
  {
   "cell_type": "markdown",
   "metadata": {
    "id": "CDJi7vPpWhQj"
   },
   "source": [
    "## The project file tree\n",
    "\n",
    "```bash\n",
    "pokemon_analysis_project/\n",
    "├── pokemon_analyzer/\n",
    "│   ├── __init__.py\n",
    "│   ├── get_data.py\n",
    "│   ├── clean_data.py\n",
    "│   ├── feature_engineering.py\n",
    "│   ├── create_plots.py\n",
    "│   └── main.py\n",
    "│\n",
    "├── data/\n",
    "│   ├── raw_pokemon_data.csv\n",
    "│   ├── cleaned_pokemon_data.csv\n",
    "│   └── featured_pokemon_data.csv\n",
    "│\n",
    "├── logs/\n",
    "│   └── data_fetch.log\n",
    "│\n",
    "├── plots/\n",
    "│   ├── attack_vs_defense.html\n",
    "│   ├── type_distribution.html\n",
    "│   └── combat_total_by_speed.html\n",
    "│\n",
    "└── requirements.txt\n",
    "```\n"
   ]
  },
  {
   "cell_type": "markdown",
   "metadata": {
    "id": "0aClCzLhXS0Z"
   },
   "source": [
    "---\n",
    "\n",
    "We designed this pipeline with the principle of \"Separation of Concerns\". Each file has one clear responsibility. This makes the project easy to understand, debug, and extend.\n",
    "\n",
    "## get_data.py\n",
    "\n",
    "- **What it does:** This script is solely responsible for data acquisition. It connects to the external PokéAPI, fetches the raw data, and saves it.\n",
    "\n",
    "- **Why it's separate:** Data fetching can be complex and unreliable. By isolating it, we can focus on API logic, error handling (like request exceptions), logging, and user experience (the tqdm progress bar) without cluttering the data cleaning or analysis code.\n",
    "\n",
    "## clean_data.py\n",
    "\n",
    "- **What it does:** Takes the raw, messy data and prepares it for analysis. This includes handling missing values (type2), converting units (height/weight), and standardizing formats.\n",
    "\n",
    "- **Why it's separate:** Data cleaning is a distinct and often iterative process. Separating it allows us to create a reliable, clean dataset that can be used by multiple different analyses or models later. It ensures that any subsequent step starts from the same clean baseline.\n",
    "\n",
    "## feature_engineering.py\n",
    "\n",
    "- **What it does:** This is the creative part of the analysis. It takes the clean data and creates new, insightful columns (features) like combat_total and bmi.\n",
    "\n",
    "- **Why it's separate:** Feature engineering is experimental. You might try creating ten different features and only keep two. By having this logic in its own file, we can easily add, remove, and test new features without any risk of breaking the initial data fetching or cleaning steps.\n",
    "\n",
    "## create_plots.py\n",
    "\n",
    "- **What it does:** This is the presentation layer. It takes the final, featured data and generates visualizations.\n",
    "\n",
    "- **Why it's separate:** The way we present data can change frequently based on the audience. This file isolates all visualization logic (using plotly), making it easy to change a plot type, add a new graph, or switch to a different plotting library entirely, without affecting the underlying data. We also built in flexibility to save files or display in notebooks.\n",
    "\n",
    "## main.py\n",
    "\n",
    "- **What it does:** This is the orchestrator. It doesn't perform any analysis itself; its only job is to call the functions from the other scripts in the correct order to run the entire pipeline from start to finish.\n",
    "\n",
    "- **Why it's separate:** It provides a single, clear entry point to the application. When someone wants to run the project, they only need to run python `main.py`. It documents the workflow of the entire project at a high level.\n"
   ]
  },
  {
   "cell_type": "markdown",
   "metadata": {
    "id": "iTShHWtZMtoc"
   },
   "source": [
    "# 1. get_data.py\n"
   ]
  },
  {
   "cell_type": "code",
   "execution_count": null,
   "metadata": {
    "colab": {
     "base_uri": "https://localhost:8080/"
    },
    "id": "uFYiQVUeDMBF",
    "outputId": "ec5dfaf0-37f3-4e77-c7be-5306d087b6e2"
   },
   "outputs": [
    {
     "name": "stdout",
     "output_type": "stream",
     "text": [
      "Running get_data.py as a standalone script.\n",
      "Fetching data... (See 'logs/data_fetch.log' for detailed logs)\n"
     ]
    },
    {
     "name": "stderr",
     "output_type": "stream",
     "text": [
      "Fetching Pokémon: 100%|██████████| 151/151 [00:20<00:00,  7.30it/s]"
     ]
    },
    {
     "name": "stdout",
     "output_type": "stream",
     "text": [
      "\n",
      "Data saved successfully to data/raw_pokemon_data.csv\n"
     ]
    },
    {
     "name": "stderr",
     "output_type": "stream",
     "text": [
      "\n"
     ]
    }
   ],
   "source": [
    "import requests\n",
    "import pandas as pd\n",
    "import os\n",
    "import logging\n",
    "import requests\n",
    "from tqdm import tqdm\n",
    "\n",
    "\n",
    "def setup_logging():\n",
    "    \"\"\"\n",
    "    Configures a robust logger to write to a file and the console.\n",
    "    This function is safe to call multiple times.\n",
    "    \"\"\"\n",
    "    # Create a 'logs' directory if it doesn't exist\n",
    "    if not os.path.exists('logs'):\n",
    "        os.makedirs('logs')\n",
    "\n",
    "    log = logging.getLogger()  # Get the root logger\n",
    "    log.setLevel(logging.INFO)  # Set the lowest level to capture all messages\n",
    "\n",
    "    # If handlers are already present, remove them.\n",
    "    # This ensures we don't add duplicate handlers on subsequent calls.\n",
    "    if log.hasHandlers():\n",
    "        log.handlers.clear()\n",
    "\n",
    "    # Create file handler which logs detailed INFO messages\n",
    "    fh = logging.FileHandler('logs/data_fetch.log', mode='w')\n",
    "    fh.setLevel(logging.INFO)\n",
    "    fh_formatter = logging.Formatter(\n",
    "        '%(asctime)s - %(levelname)s - %(message)s')\n",
    "    fh.setFormatter(fh_formatter)\n",
    "    log.addHandler(fh)\n",
    "\n",
    "    # Create console handler with a higher log level (WARNING)\n",
    "    # This keeps the console clean for the progress bar.\n",
    "    ch = logging.StreamHandler()\n",
    "    ch.setLevel(logging.WARNING)\n",
    "    ch_formatter = logging.Formatter('%(levelname)s: %(message)s')\n",
    "    ch.setFormatter(ch_formatter)\n",
    "    log.addHandler(ch)\n",
    "\n",
    "\n",
    "def get_pokemon_data(num_pokemon=151):\n",
    "    \"\"\"\n",
    "    Fetches data for a specified number of Pokémon from the PokéAPI, showing a progress bar.\n",
    "\n",
    "    Args:\n",
    "        num_pokemon (int): The number of Pokémon to fetch (defaults to 151).\n",
    "\n",
    "    Returns:\n",
    "        pandas.DataFrame: A DataFrame containing the fetched Pokémon data.\n",
    "                          Returns None if the request fails.\n",
    "    \"\"\"\n",
    "\n",
    "    setup_logging()\n",
    "    logging.info(f\"Starting API fetch for {num_pokemon} Pokémon.\")\n",
    "\n",
    "    print(\"Fetching data... (See 'logs/data_fetch.log' for detailed logs)\")\n",
    "    base_url = \"https://pokeapi.co/api/v2/pokemon\"\n",
    "    pokemon_data = []\n",
    "\n",
    "    for i in tqdm(range(1, num_pokemon + 1), desc=\"Fetching Pokémon\"):\n",
    "        try:\n",
    "            response = requests.get(f\"{base_url}/{i}\")\n",
    "            response.raise_for_status()\n",
    "            data = response.json()\n",
    "\n",
    "            pokemon_info = {\n",
    "                'id': data['id'],\n",
    "                'name': data['name'],\n",
    "                'height': data['height'],\n",
    "                'weight': data['weight'],\n",
    "                'base_experience': data['base_experience'],\n",
    "                'type1': data['types'][0]['type']['name'],\n",
    "                'type2': data['types'][1]['type']['name'] if len(data['types']) > 1 else None,\n",
    "                'hp': data['stats'][0]['base_stat'],\n",
    "                'attack': data['stats'][1]['base_stat'],\n",
    "                'defense': data['stats'][2]['base_stat'],\n",
    "                'special-attack': data['stats'][3]['base_stat'],\n",
    "                'special-defense': data['stats'][4]['base_stat'],\n",
    "                'speed': data['stats'][5]['base_stat'],\n",
    "                'sprite_url': data['sprites']['front_default']\n",
    "            }\n",
    "            pokemon_data.append(pokemon_info)\n",
    "            logging.info(\n",
    "                f\"Successfully fetched data for #{data['id']} - {data['name']}.\")\n",
    "\n",
    "        except requests.exceptions.RequestException as e:\n",
    "            logging.error(f\"Error fetching data for Pokémon ID {i}: {e}\")\n",
    "            continue\n",
    "\n",
    "    if not pokemon_data:\n",
    "        logging.warning(\"No data was fetched. The final DataFrame is empty.\")\n",
    "        return None\n",
    "\n",
    "    logging.info(f\"Successfully fetched data for {len(pokemon_data)} Pokémon.\")\n",
    "    return pd.DataFrame(pokemon_data)\n",
    "\n",
    "\n",
    "def save_data(df, folder=\"data\", filename=\"raw_pokemon_data.csv\"):\n",
    "    \"\"\"\n",
    "    Saves a DataFrame to a CSV file.\n",
    "\n",
    "    Args:\n",
    "        df (pandas.DataFrame): The DataFrame to save.\n",
    "        folder (str): The directory to save the file in.\n",
    "        filename (str): The name of the file.\n",
    "    \"\"\"\n",
    "    if df is None:\n",
    "        logging.warning(\"DataFrame is None, skipping save.\")\n",
    "        return\n",
    "\n",
    "    if not os.path.exists(folder):\n",
    "        os.makedirs(folder)\n",
    "\n",
    "    filepath = os.path.join(folder, filename)\n",
    "    df.to_csv(filepath, index=False)\n",
    "    print(f\"\\nData saved successfully to {filepath}\")\n",
    "    logging.info(f\"DataFrame saved to {filepath}\")\n",
    "\n",
    "\n",
    "if __name__ == \"__main__\":\n",
    "    print(\"Running get_data.py as a standalone script.\")\n",
    "    raw_data = get_pokemon_data(151)\n",
    "    if raw_data is not None:\n",
    "        save_data(raw_data)"
   ]
  },
  {
   "cell_type": "markdown",
   "metadata": {
    "id": "l0Ko9pTvN2Lx"
   },
   "source": [
    "# 2. clean_data.py\n"
   ]
  },
  {
   "cell_type": "code",
   "execution_count": null,
   "metadata": {
    "colab": {
     "base_uri": "https://localhost:8080/"
    },
    "id": "rhg9rSUaN1Tm",
    "outputId": "264ffdf3-0837-40a8-e280-87fa2a4a9c8c"
   },
   "outputs": [
    {
     "name": "stdout",
     "output_type": "stream",
     "text": [
      "Running clean_data.py as a standalone script.\n",
      "Starting data cleaning process...\n",
      "Raw data loaded successfully.\n",
      "Filled missing 'type2' values.\n",
      "Converted weight to kg and height to meters.\n",
      "Cleaned data saved successfully to data/cleaned_pokemon_data.csv\n",
      "\n",
      "Cleaned Data Head:\n",
      "   id        name  base_experience  type1   type2  hp  attack  defense  \\\n",
      "0   1   bulbasaur               64  grass  poison  45      49       49   \n",
      "1   2     ivysaur              142  grass  poison  60      62       63   \n",
      "2   3    venusaur              236  grass  poison  80      82       83   \n",
      "3   4  charmander               62   fire    None  39      52       43   \n",
      "4   5  charmeleon              142   fire    None  58      64       58   \n",
      "\n",
      "   special-attack  special-defense  speed  \\\n",
      "0              65               65     45   \n",
      "1              80               80     60   \n",
      "2             100              100     80   \n",
      "3              60               50     65   \n",
      "4              80               65     80   \n",
      "\n",
      "                                          sprite_url  weight_kg  height_m  \n",
      "0  https://raw.githubusercontent.com/PokeAPI/spri...        6.9       0.7  \n",
      "1  https://raw.githubusercontent.com/PokeAPI/spri...       13.0       1.0  \n",
      "2  https://raw.githubusercontent.com/PokeAPI/spri...      100.0       2.0  \n",
      "3  https://raw.githubusercontent.com/PokeAPI/spri...        8.5       0.6  \n",
      "4  https://raw.githubusercontent.com/PokeAPI/spri...       19.0       1.1  \n"
     ]
    }
   ],
   "source": [
    "\n",
    "\n",
    "def clean_pokemon_data(input_path=\"data/raw_pokemon_data.csv\", output_path=\"data/cleaned_pokemon_data.csv\"):\n",
    "    \"\"\"\n",
    "    Cleans the raw Pokémon data.\n",
    "    - Fills missing 'type2' values.\n",
    "    - Converts weight from hectograms to kilograms.\n",
    "    - Converts height from decimetres to meters.\n",
    "\n",
    "    Args:\n",
    "        input_path (str): The path to the raw data CSV file.\n",
    "        output_path (str): The path to save the cleaned data CSV file.\n",
    "\n",
    "    Returns:\n",
    "        pandas.DataFrame: The cleaned DataFrame.\n",
    "    \"\"\"\n",
    "\n",
    "    print(\"Starting data cleaning process...\")\n",
    "    try:\n",
    "        df = pd.read_csv(input_path)\n",
    "        print(\"Raw data loaded successfully.\")\n",
    "    except FileNotFoundError:\n",
    "        print(f\"Error: The file {input_path} was not found.\")\n",
    "        return None\n",
    "\n",
    "    # Data Cleaning Steps\n",
    "\n",
    "    # 1. Handle missing data\n",
    "    # The 'type2' column has missing values for Pokémon with only one type.\n",
    "    # We assign the result back to the column to avoid the FutureWarning.\n",
    "    df['type2'] = df['type2'].fillna('None')\n",
    "    print(\"Filled missing 'type2' values.\")\n",
    "\n",
    "    # 2. Convert units for clarity\n",
    "    # The API provides weight in hectograms and height in decimetres.\n",
    "    # Let's convert them to more standard units (kg and meters).\n",
    "    df['weight_kg'] = df['weight'] / 10.0\n",
    "    df['height_m'] = df['height'] / 10.0\n",
    "    print(\"Converted weight to kg and height to meters.\")\n",
    "\n",
    "    # Drop the original columns\n",
    "    df.drop(['weight', 'height'], axis=1, inplace=True)\n",
    "\n",
    "    # Save Cleaned Data\n",
    "    # It's good practice to save intermediate results\n",
    "    output_folder = os.path.dirname(output_path)\n",
    "    if not os.path.exists(output_folder):\n",
    "        os.makedirs(output_folder)\n",
    "\n",
    "    df.to_csv(output_path, index=False)\n",
    "    print(f\"Cleaned data saved successfully to {output_path}\")\n",
    "\n",
    "    return df\n",
    "\n",
    "\n",
    "if __name__ == \"__main__\":\n",
    "    print(\"Running clean_data.py as a standalone script.\")\n",
    "    cleaned_df = clean_pokemon_data()\n",
    "    if cleaned_df is not None:\n",
    "        print(\"\\nCleaned Data Head:\")\n",
    "        print(cleaned_df.head())"
   ]
  },
  {
   "cell_type": "markdown",
   "metadata": {
    "id": "fdgssgyzO1M-"
   },
   "source": [
    "# 3. feature_engineering.py\n"
   ]
  },
  {
   "cell_type": "code",
   "execution_count": null,
   "metadata": {
    "colab": {
     "base_uri": "https://localhost:8080/"
    },
    "id": "x_7Aa2O3O-p3",
    "outputId": "38a69716-ea5a-4444-bc76-8649fa955be3"
   },
   "outputs": [
    {
     "name": "stdout",
     "output_type": "stream",
     "text": [
      "Running feature_engineering.py as a standalone script.\n",
      "Starting feature engineering process...\n",
      "Cleaned data loaded successfully.\n",
      "Created 'combat_total' feature.\n",
      "Created 'bmi' feature.\n",
      "Created 'speed_category' feature.\n",
      "Featured data saved successfully to data/featured_pokemon_data.csv\n",
      "\n",
      "Featured Data Head (with new columns):\n",
      "         name  combat_total        bmi speed_category\n",
      "0   bulbasaur           318  14.081633           Slow\n",
      "1     ivysaur           405  13.000000        Average\n",
      "2    venusaur           525  25.000000           Fast\n",
      "3  charmander           309  23.611111        Average\n",
      "4  charmeleon           405  15.702479           Fast\n"
     ]
    }
   ],
   "source": [
    "import numpy as np\n",
    "\n",
    "\n",
    "def create_features(input_path=\"data/cleaned_pokemon_data.csv\", output_path=\"data/featured_pokemon_data.csv\"):\n",
    "    \"\"\"\n",
    "    Engineers new features from the cleaned Pokémon data.\n",
    "    - Calculates a 'combat_total' stat.\n",
    "    - Calculates BMI (Body Mass Index).\n",
    "    - Categorizes Pokémon by speed.\n",
    "\n",
    "    Args:\n",
    "        input_path (str): Path to the cleaned data CSV.\n",
    "        output_path (str): Path to save the featured data CSV.\n",
    "\n",
    "    Returns:\n",
    "        pandas.DataFrame: DataFrame with new features.\n",
    "    \"\"\"\n",
    "    print(\"Starting feature engineering process...\")\n",
    "    try:\n",
    "        df = pd.read_csv(input_path)\n",
    "        print(\"Cleaned data loaded successfully.\")\n",
    "    except FileNotFoundError:\n",
    "        print(f\"Error: The file {input_path} was not found.\")\n",
    "        return None\n",
    "\n",
    "    # Feature Engineering Steps\n",
    "\n",
    "    # 1. Create a 'combat_total' stat\n",
    "    # This gives a general idea of a Pokémon's overall strength in battle.\n",
    "    stat_columns = ['hp', 'attack', 'defense',\n",
    "                    'special-attack', 'special-defense', 'speed']\n",
    "    df['combat_total'] = df[stat_columns].sum(axis=1)\n",
    "    print(\"Created 'combat_total' feature.\")\n",
    "\n",
    "    # 2. Calculate Body Mass Index (BMI)\n",
    "    # BMI = weight (kg) / (height (m))^2\n",
    "    df['bmi'] = df.apply(\n",
    "        lambda row: row['weight_kg'] /\n",
    "        (row['height_m'] ** 2) if row['height_m'] > 0 else 0,\n",
    "        axis=1\n",
    "    )\n",
    "    print(\"Created 'bmi' feature.\")\n",
    "\n",
    "    # 3. Categorize Pokémon by Speed\n",
    "    # Create descriptive categories for speed stat.\n",
    "    speed_bins = [0, 50, 80, 100, np.inf]\n",
    "    speed_labels = ['Slow', 'Average', 'Fast', 'Very Fast']\n",
    "    df['speed_category'] = pd.cut(\n",
    "        df['speed'], bins=speed_bins, labels=speed_labels, right=False)\n",
    "    print(\"Created 'speed_category' feature.\")\n",
    "\n",
    "    # Save Featured Data\n",
    "    output_folder = os.path.dirname(output_path)\n",
    "    if not os.path.exists(output_folder):\n",
    "        os.makedirs(output_folder)\n",
    "\n",
    "    df.to_csv(output_path, index=False)\n",
    "    print(f\"Featured data saved successfully to {output_path}\")\n",
    "\n",
    "    return df\n",
    "\n",
    "\n",
    "if __name__ == \"__main__\":\n",
    "    print(\"Running feature_engineering.py as a standalone script.\")\n",
    "    featured_df = create_features()\n",
    "    if featured_df is not None:\n",
    "        print(\"\\nFeatured Data Head (with new columns):\")\n",
    "        print(featured_df[['name', 'combat_total',\n",
    "              'bmi', 'speed_category']].head())"
   ]
  },
  {
   "cell_type": "markdown",
   "metadata": {
    "id": "oqxLLGd9PVvQ"
   },
   "source": [
    "# 4. create_plots.py\n"
   ]
  },
  {
   "cell_type": "code",
   "execution_count": null,
   "metadata": {
    "colab": {
     "base_uri": "https://localhost:8080/"
    },
    "id": "UH86QjQFPaBP",
    "outputId": "1cbecda2-892b-4ee3-942c-8aaee7dc8d91"
   },
   "outputs": [
    {
     "name": "stdout",
     "output_type": "stream",
     "text": [
      "Running create_plots.py as a standalone script (saving files).\n",
      "Starting plot generation...\n",
      "Featured data loaded successfully.\n",
      "Saving plot files in 'plots/'\n",
      "- Saved: plots/attack_vs_defense.html\n",
      "- Saved: plots/type_distribution.html\n",
      "- Saved: plots/combat_total_by_speed.html\n",
      "\n",
      "Plot generation complete.\n"
     ]
    }
   ],
   "source": [
    "import plotly.express as px\n",
    "import plotly.io as pio\n",
    "\n",
    "\n",
    "def create_and_save_plots(input_path=\"data/featured_pokemon_data.csv\",\n",
    "                          output_folder=\"plots\",\n",
    "                          save_files=True,\n",
    "                          display_in_notebook=False):\n",
    "    \"\"\"\n",
    "    Creates various plots from the featured Pokémon data.\n",
    "    - Saves them as HTML files if save_files is True.\n",
    "    - Displays them inline in a notebook if display_in_notebook is True.\n",
    "\n",
    "    Args:\n",
    "        input_path (str): Path to the featured data CSV.\n",
    "        output_folder (str): Directory to save the plot HTML files.\n",
    "        save_files (bool): If True, saves plots as HTML files.\n",
    "        display_in_notebook (bool): If True, displays plots directly using fig.show().\n",
    "    \"\"\"\n",
    "    print(\"Starting plot generation...\")\n",
    "    try:\n",
    "        df = pd.read_csv(input_path)\n",
    "        print(\"Featured data loaded successfully.\")\n",
    "    except FileNotFoundError:\n",
    "        print(f\"Error: The file {input_path} was not found.\")\n",
    "        return\n",
    "\n",
    "    # Plot 1: Attack vs. Defense Scatter Plot\n",
    "    fig1 = px.scatter(\n",
    "        df,\n",
    "        x='attack',\n",
    "        y='defense',\n",
    "        color='type1',\n",
    "        hover_data=['name', 'combat_total'],\n",
    "        title='Attack vs. Defense of Generation 1 Pokémon',\n",
    "        labels={'attack': 'Attack Stat',\n",
    "                'defense': 'Defense Stat', 'type1': 'Primary Type'}\n",
    "    )\n",
    "\n",
    "    # Plot 2: Distribution of Primary Types\n",
    "    type_counts = df['type1'].value_counts()\n",
    "    fig2 = px.bar(\n",
    "        x=type_counts.index,\n",
    "        y=type_counts.values,\n",
    "        title='Distribution of Primary Pokémon Types',\n",
    "        labels={'x': 'Pokémon Type', 'y': 'Count'}\n",
    "    )\n",
    "\n",
    "    # Plot 3: Combat Total by Speed Category\n",
    "    fig3 = px.box(\n",
    "        df,\n",
    "        x='speed_category',\n",
    "        y='combat_total',\n",
    "        color='speed_category',\n",
    "        title='Combat Power by Speed Category',\n",
    "        labels={'speed_category': 'Speed Category',\n",
    "                'combat_total': 'Total Combat Stats'},\n",
    "        category_orders={\"speed_category\": [\n",
    "            \"Slow\", \"Average\", \"Fast\", \"Very Fast\"]}\n",
    "    )\n",
    "\n",
    "    # Display or Save the plots\n",
    "    if display_in_notebook:\n",
    "        print(\"Displaying plots in notebook...\")\n",
    "        fig1.show()\n",
    "        fig2.show()\n",
    "        fig3.show()\n",
    "\n",
    "    if save_files:\n",
    "        if not os.path.exists(output_folder):\n",
    "            os.makedirs(output_folder)\n",
    "        print(f\"Saving plot files in '{output_folder}/'\")\n",
    "\n",
    "        plot1_path = os.path.join(output_folder, \"attack_vs_defense.html\")\n",
    "        pio.write_html(fig1, file=plot1_path, auto_open=False)\n",
    "        print(f\"- Saved: {plot1_path}\")\n",
    "\n",
    "        plot2_path = os.path.join(output_folder, \"type_distribution.html\")\n",
    "        pio.write_html(fig2, file=plot2_path, auto_open=False)\n",
    "        print(f\"- Saved: {plot2_path}\")\n",
    "\n",
    "        plot3_path = os.path.join(output_folder, \"combat_total_by_speed.html\")\n",
    "        pio.write_html(fig3, file=plot3_path, auto_open=False)\n",
    "        print(f\"- Saved: {plot3_path}\")\n",
    "\n",
    "    print(\"\\nPlot generation complete.\")\n",
    "\n",
    "\n",
    "if __name__ == \"__main__\":\n",
    "    print(\"Running create_plots.py as a standalone script (saving files).\")\n",
    "    create_and_save_plots(display_in_notebook=False, save_files=True)"
   ]
  },
  {
   "cell_type": "code",
   "execution_count": 10,
   "metadata": {
    "colab": {
     "base_uri": "https://localhost:8080/",
     "height": 1000
    },
    "id": "KxHRQghQRdUZ",
    "outputId": "4f1825b0-85e2-4b8a-b491-6df341ca8434"
   },
   "outputs": [
    {
     "name": "stdout",
     "output_type": "stream",
     "text": [
      "Generating and displaying plots for the notebook...\n",
      "Starting plot generation...\n",
      "Featured data loaded successfully.\n",
      "Displaying plots in notebook...\n"
     ]
    },
    {
     "data": {
      "application/vnd.plotly.v1+json": {
       "config": {
        "plotlyServerURL": "https://plot.ly"
       },
       "data": [
        {
         "customdata": [
          [
           "bulbasaur",
           318
          ],
          [
           "ivysaur",
           405
          ],
          [
           "venusaur",
           525
          ],
          [
           "oddish",
           320
          ],
          [
           "gloom",
           395
          ],
          [
           "vileplume",
           490
          ],
          [
           "bellsprout",
           300
          ],
          [
           "weepinbell",
           390
          ],
          [
           "victreebel",
           490
          ],
          [
           "exeggcute",
           325
          ],
          [
           "exeggutor",
           530
          ],
          [
           "tangela",
           435
          ]
         ],
         "hovertemplate": "Primary Type=grass<br>Attack Stat=%{x}<br>Defense Stat=%{y}<br>name=%{customdata[0]}<br>combat_total=%{customdata[1]}<extra></extra>",
         "legendgroup": "grass",
         "marker": {
          "color": "#636efa",
          "symbol": "circle"
         },
         "mode": "markers",
         "name": "grass",
         "orientation": "v",
         "showlegend": true,
         "type": "scatter",
         "x": {
          "bdata": "MT5SMkFQS1ppKF83",
          "dtype": "i1"
         },
         "xaxis": "x",
         "y": {
          "bdata": "MT9TN0ZVIzJBUFVz",
          "dtype": "i1"
         },
         "yaxis": "y"
        },
        {
         "customdata": [
          [
           "charmander",
           309
          ],
          [
           "charmeleon",
           405
          ],
          [
           "charizard",
           534
          ],
          [
           "vulpix",
           299
          ],
          [
           "ninetales",
           505
          ],
          [
           "growlithe",
           350
          ],
          [
           "arcanine",
           555
          ],
          [
           "ponyta",
           410
          ],
          [
           "rapidash",
           500
          ],
          [
           "magmar",
           495
          ],
          [
           "flareon",
           525
          ],
          [
           "moltres",
           580
          ]
         ],
         "hovertemplate": "Primary Type=fire<br>Attack Stat=%{x}<br>Defense Stat=%{y}<br>name=%{customdata[0]}<br>combat_total=%{customdata[1]}<extra></extra>",
         "legendgroup": "fire",
         "marker": {
          "color": "#EF553B",
          "symbol": "circle"
         },
         "mode": "markers",
         "name": "fire",
         "orientation": "v",
         "showlegend": true,
         "type": "scatter",
         "x": {
          "bdata": "NABAAFQAKQBMAEYAbgBVAGQAXwCCAGQA",
          "dtype": "i2"
         },
         "xaxis": "x",
         "y": {
          "bdata": "KzpOKEstUDdGOTxa",
          "dtype": "i1"
         },
         "yaxis": "y"
        },
        {
         "customdata": [
          [
           "squirtle",
           314
          ],
          [
           "wartortle",
           405
          ],
          [
           "blastoise",
           530
          ],
          [
           "psyduck",
           320
          ],
          [
           "golduck",
           500
          ],
          [
           "poliwag",
           300
          ],
          [
           "poliwhirl",
           385
          ],
          [
           "poliwrath",
           510
          ],
          [
           "tentacool",
           335
          ],
          [
           "tentacruel",
           515
          ],
          [
           "slowpoke",
           315
          ],
          [
           "slowbro",
           490
          ],
          [
           "seel",
           325
          ],
          [
           "dewgong",
           475
          ],
          [
           "shellder",
           305
          ],
          [
           "cloyster",
           525
          ],
          [
           "krabby",
           325
          ],
          [
           "kingler",
           475
          ],
          [
           "horsea",
           295
          ],
          [
           "seadra",
           440
          ],
          [
           "goldeen",
           320
          ],
          [
           "seaking",
           450
          ],
          [
           "staryu",
           340
          ],
          [
           "starmie",
           520
          ],
          [
           "magikarp",
           200
          ],
          [
           "gyarados",
           540
          ],
          [
           "lapras",
           535
          ],
          [
           "vaporeon",
           525
          ]
         ],
         "hovertemplate": "Primary Type=water<br>Attack Stat=%{x}<br>Defense Stat=%{y}<br>name=%{customdata[0]}<br>combat_total=%{customdata[1]}<extra></extra>",
         "legendgroup": "water",
         "marker": {
          "color": "#00cc96",
          "symbol": "circle"
         },
         "mode": "markers",
         "name": "water",
         "orientation": "v",
         "showlegend": true,
         "type": "scatter",
         "x": {
          "bdata": "MAA/AFMANABSADIAQQBfACgARgBBAEsALQBGAEEAXwBpAIIAKABBAEMAXAAtAEsACgB9AFUAQQA=",
          "dtype": "i2"
         },
         "xaxis": "x",
         "y": {
          "bdata": "QQBQAGQAMABOACgAQQBfACMAQQBBAG4ANwBQAGQAtABaAHMARgBfADwAQQA3AFUANwBPAFAAPAA=",
          "dtype": "i2"
         },
         "yaxis": "y"
        },
        {
         "customdata": [
          [
           "caterpie",
           195
          ],
          [
           "metapod",
           205
          ],
          [
           "butterfree",
           395
          ],
          [
           "weedle",
           195
          ],
          [
           "kakuna",
           205
          ],
          [
           "beedrill",
           395
          ],
          [
           "paras",
           285
          ],
          [
           "parasect",
           405
          ],
          [
           "venonat",
           305
          ],
          [
           "venomoth",
           450
          ],
          [
           "scyther",
           500
          ],
          [
           "pinsir",
           500
          ]
         ],
         "hovertemplate": "Primary Type=bug<br>Attack Stat=%{x}<br>Defense Stat=%{y}<br>name=%{customdata[0]}<br>combat_total=%{customdata[1]}<extra></extra>",
         "legendgroup": "bug",
         "marker": {
          "color": "#ab63fa",
          "symbol": "circle"
         },
         "mode": "markers",
         "name": "bug",
         "orientation": "v",
         "showlegend": true,
         "type": "scatter",
         "x": {
          "bdata": "HhQtIxlaRl83QW59",
          "dtype": "i1"
         },
         "xaxis": "x",
         "y": {
          "bdata": "IzcyHjIoN1AyPFBk",
          "dtype": "i1"
         },
         "yaxis": "y"
        },
        {
         "customdata": [
          [
           "pidgey",
           251
          ],
          [
           "pidgeotto",
           349
          ],
          [
           "pidgeot",
           479
          ],
          [
           "rattata",
           253
          ],
          [
           "raticate",
           413
          ],
          [
           "spearow",
           262
          ],
          [
           "fearow",
           442
          ],
          [
           "jigglypuff",
           270
          ],
          [
           "wigglytuff",
           435
          ],
          [
           "meowth",
           290
          ],
          [
           "persian",
           440
          ],
          [
           "farfetchd",
           377
          ],
          [
           "doduo",
           310
          ],
          [
           "dodrio",
           470
          ],
          [
           "lickitung",
           385
          ],
          [
           "chansey",
           450
          ],
          [
           "kangaskhan",
           490
          ],
          [
           "tauros",
           490
          ],
          [
           "ditto",
           288
          ],
          [
           "eevee",
           325
          ],
          [
           "porygon",
           395
          ],
          [
           "snorlax",
           540
          ]
         ],
         "hovertemplate": "Primary Type=normal<br>Attack Stat=%{x}<br>Defense Stat=%{y}<br>name=%{customdata[0]}<br>combat_total=%{customdata[1]}<extra></extra>",
         "legendgroup": "normal",
         "marker": {
          "color": "#FFA15A",
          "symbol": "circle"
         },
         "mode": "markers",
         "name": "normal",
         "orientation": "v",
         "showlegend": true,
         "type": "scatter",
         "x": {
          "bdata": "LTxQOFE8Wi1GLUZaVW43BV9kMDc8bg==",
          "dtype": "i1"
         },
         "xaxis": "x",
         "y": {
          "bdata": "KDdLIzweQRQtIzw3LUZLBVBfMDJGQQ==",
          "dtype": "i1"
         },
         "yaxis": "y"
        },
        {
         "customdata": [
          [
           "ekans",
           288
          ],
          [
           "arbok",
           448
          ],
          [
           "nidoran-f",
           275
          ],
          [
           "nidorina",
           365
          ],
          [
           "nidoqueen",
           505
          ],
          [
           "nidoran-m",
           273
          ],
          [
           "nidorino",
           365
          ],
          [
           "nidoking",
           505
          ],
          [
           "zubat",
           245
          ],
          [
           "golbat",
           455
          ],
          [
           "grimer",
           325
          ],
          [
           "muk",
           500
          ],
          [
           "koffing",
           340
          ],
          [
           "weezing",
           490
          ]
         ],
         "hovertemplate": "Primary Type=poison<br>Attack Stat=%{x}<br>Defense Stat=%{y}<br>name=%{customdata[0]}<br>combat_total=%{customdata[1]}<extra></extra>",
         "legendgroup": "poison",
         "marker": {
          "color": "#19d3f3",
          "symbol": "circle"
         },
         "mode": "markers",
         "name": "poison",
         "orientation": "v",
         "showlegend": true,
         "type": "scatter",
         "x": {
          "bdata": "PF8vPlw5SGYtUFBpQVo=",
          "dtype": "i1"
         },
         "xaxis": "x",
         "y": {
          "bdata": "LEU0Q1coOU0jRjJLX3g=",
          "dtype": "i1"
         },
         "yaxis": "y"
        },
        {
         "customdata": [
          [
           "pikachu",
           320
          ],
          [
           "raichu",
           485
          ],
          [
           "magnemite",
           325
          ],
          [
           "magneton",
           465
          ],
          [
           "voltorb",
           330
          ],
          [
           "electrode",
           490
          ],
          [
           "electabuzz",
           490
          ],
          [
           "jolteon",
           525
          ],
          [
           "zapdos",
           580
          ]
         ],
         "hovertemplate": "Primary Type=electric<br>Attack Stat=%{x}<br>Defense Stat=%{y}<br>name=%{customdata[0]}<br>combat_total=%{customdata[1]}<extra></extra>",
         "legendgroup": "electric",
         "marker": {
          "color": "#FF6692",
          "symbol": "circle"
         },
         "mode": "markers",
         "name": "electric",
         "orientation": "v",
         "showlegend": true,
         "type": "scatter",
         "x": {
          "bdata": "N1ojPB4yU0Fa",
          "dtype": "i1"
         },
         "xaxis": "x",
         "y": {
          "bdata": "KDdGXzJGOTxV",
          "dtype": "i1"
         },
         "yaxis": "y"
        },
        {
         "customdata": [
          [
           "sandshrew",
           300
          ],
          [
           "sandslash",
           450
          ],
          [
           "diglett",
           265
          ],
          [
           "dugtrio",
           425
          ],
          [
           "cubone",
           320
          ],
          [
           "marowak",
           425
          ],
          [
           "rhyhorn",
           345
          ],
          [
           "rhydon",
           485
          ]
         ],
         "hovertemplate": "Primary Type=ground<br>Attack Stat=%{x}<br>Defense Stat=%{y}<br>name=%{customdata[0]}<br>combat_total=%{customdata[1]}<extra></extra>",
         "legendgroup": "ground",
         "marker": {
          "color": "#B6E880",
          "symbol": "circle"
         },
         "mode": "markers",
         "name": "ground",
         "orientation": "v",
         "showlegend": true,
         "type": "scatter",
         "x": {
          "bdata": "SwBkADcAZAAyAFAAVQCCAA==",
          "dtype": "i2"
         },
         "xaxis": "x",
         "y": {
          "bdata": "VW4ZMl9uX3g=",
          "dtype": "i1"
         },
         "yaxis": "y"
        },
        {
         "customdata": [
          [
           "clefairy",
           323
          ],
          [
           "clefable",
           483
          ]
         ],
         "hovertemplate": "Primary Type=fairy<br>Attack Stat=%{x}<br>Defense Stat=%{y}<br>name=%{customdata[0]}<br>combat_total=%{customdata[1]}<extra></extra>",
         "legendgroup": "fairy",
         "marker": {
          "color": "#FF97FF",
          "symbol": "circle"
         },
         "mode": "markers",
         "name": "fairy",
         "orientation": "v",
         "showlegend": true,
         "type": "scatter",
         "x": {
          "bdata": "LUY=",
          "dtype": "i1"
         },
         "xaxis": "x",
         "y": {
          "bdata": "MEk=",
          "dtype": "i1"
         },
         "yaxis": "y"
        },
        {
         "customdata": [
          [
           "mankey",
           305
          ],
          [
           "primeape",
           455
          ],
          [
           "machop",
           305
          ],
          [
           "machoke",
           405
          ],
          [
           "machamp",
           505
          ],
          [
           "hitmonlee",
           455
          ],
          [
           "hitmonchan",
           455
          ]
         ],
         "hovertemplate": "Primary Type=fighting<br>Attack Stat=%{x}<br>Defense Stat=%{y}<br>name=%{customdata[0]}<br>combat_total=%{customdata[1]}<extra></extra>",
         "legendgroup": "fighting",
         "marker": {
          "color": "#FECB52",
          "symbol": "circle"
         },
         "mode": "markers",
         "name": "fighting",
         "orientation": "v",
         "showlegend": true,
         "type": "scatter",
         "x": {
          "bdata": "UABpAFAAZACCAHgAaQA=",
          "dtype": "i2"
         },
         "xaxis": "x",
         "y": {
          "bdata": "IzwyRlA1Tw==",
          "dtype": "i1"
         },
         "yaxis": "y"
        },
        {
         "customdata": [
          [
           "abra",
           310
          ],
          [
           "kadabra",
           400
          ],
          [
           "alakazam",
           500
          ],
          [
           "drowzee",
           328
          ],
          [
           "hypno",
           483
          ],
          [
           "mr-mime",
           460
          ],
          [
           "mewtwo",
           680
          ],
          [
           "mew",
           600
          ]
         ],
         "hovertemplate": "Primary Type=psychic<br>Attack Stat=%{x}<br>Defense Stat=%{y}<br>name=%{customdata[0]}<br>combat_total=%{customdata[1]}<extra></extra>",
         "legendgroup": "psychic",
         "marker": {
          "color": "#636efa",
          "symbol": "circle"
         },
         "mode": "markers",
         "name": "psychic",
         "orientation": "v",
         "showlegend": true,
         "type": "scatter",
         "x": {
          "bdata": "FCMyMEktbmQ=",
          "dtype": "i1"
         },
         "xaxis": "x",
         "y": {
          "bdata": "Dx4tLUZBWmQ=",
          "dtype": "i1"
         },
         "yaxis": "y"
        },
        {
         "customdata": [
          [
           "geodude",
           300
          ],
          [
           "graveler",
           390
          ],
          [
           "golem",
           495
          ],
          [
           "onix",
           385
          ],
          [
           "omanyte",
           355
          ],
          [
           "omastar",
           495
          ],
          [
           "kabuto",
           355
          ],
          [
           "kabutops",
           495
          ],
          [
           "aerodactyl",
           515
          ]
         ],
         "hovertemplate": "Primary Type=rock<br>Attack Stat=%{x}<br>Defense Stat=%{y}<br>name=%{customdata[0]}<br>combat_total=%{customdata[1]}<extra></extra>",
         "legendgroup": "rock",
         "marker": {
          "color": "#EF553B",
          "symbol": "circle"
         },
         "mode": "markers",
         "name": "rock",
         "orientation": "v",
         "showlegend": true,
         "type": "scatter",
         "x": {
          "bdata": "UF94LSg8UHNp",
          "dtype": "i1"
         },
         "xaxis": "x",
         "y": {
          "bdata": "ZABzAIIAoABkAH0AWgBpAEEA",
          "dtype": "i2"
         },
         "yaxis": "y"
        },
        {
         "customdata": [
          [
           "gastly",
           310
          ],
          [
           "haunter",
           405
          ],
          [
           "gengar",
           500
          ]
         ],
         "hovertemplate": "Primary Type=ghost<br>Attack Stat=%{x}<br>Defense Stat=%{y}<br>name=%{customdata[0]}<br>combat_total=%{customdata[1]}<extra></extra>",
         "legendgroup": "ghost",
         "marker": {
          "color": "#00cc96",
          "symbol": "circle"
         },
         "mode": "markers",
         "name": "ghost",
         "orientation": "v",
         "showlegend": true,
         "type": "scatter",
         "x": {
          "bdata": "IzJB",
          "dtype": "i1"
         },
         "xaxis": "x",
         "y": {
          "bdata": "Hi08",
          "dtype": "i1"
         },
         "yaxis": "y"
        },
        {
         "customdata": [
          [
           "jynx",
           455
          ],
          [
           "articuno",
           580
          ]
         ],
         "hovertemplate": "Primary Type=ice<br>Attack Stat=%{x}<br>Defense Stat=%{y}<br>name=%{customdata[0]}<br>combat_total=%{customdata[1]}<extra></extra>",
         "legendgroup": "ice",
         "marker": {
          "color": "#ab63fa",
          "symbol": "circle"
         },
         "mode": "markers",
         "name": "ice",
         "orientation": "v",
         "showlegend": true,
         "type": "scatter",
         "x": {
          "bdata": "MlU=",
          "dtype": "i1"
         },
         "xaxis": "x",
         "y": {
          "bdata": "I2Q=",
          "dtype": "i1"
         },
         "yaxis": "y"
        },
        {
         "customdata": [
          [
           "dratini",
           300
          ],
          [
           "dragonair",
           420
          ],
          [
           "dragonite",
           600
          ]
         ],
         "hovertemplate": "Primary Type=dragon<br>Attack Stat=%{x}<br>Defense Stat=%{y}<br>name=%{customdata[0]}<br>combat_total=%{customdata[1]}<extra></extra>",
         "legendgroup": "dragon",
         "marker": {
          "color": "#FFA15A",
          "symbol": "circle"
         },
         "mode": "markers",
         "name": "dragon",
         "orientation": "v",
         "showlegend": true,
         "type": "scatter",
         "x": {
          "bdata": "QABUAIYA",
          "dtype": "i2"
         },
         "xaxis": "x",
         "y": {
          "bdata": "LUFf",
          "dtype": "i1"
         },
         "yaxis": "y"
        }
       ],
       "layout": {
        "legend": {
         "title": {
          "text": "Primary Type"
         },
         "tracegroupgap": 0
        },
        "template": {
         "data": {
          "bar": [
           {
            "error_x": {
             "color": "#2a3f5f"
            },
            "error_y": {
             "color": "#2a3f5f"
            },
            "marker": {
             "line": {
              "color": "#E5ECF6",
              "width": 0.5
             },
             "pattern": {
              "fillmode": "overlay",
              "size": 10,
              "solidity": 0.2
             }
            },
            "type": "bar"
           }
          ],
          "barpolar": [
           {
            "marker": {
             "line": {
              "color": "#E5ECF6",
              "width": 0.5
             },
             "pattern": {
              "fillmode": "overlay",
              "size": 10,
              "solidity": 0.2
             }
            },
            "type": "barpolar"
           }
          ],
          "carpet": [
           {
            "aaxis": {
             "endlinecolor": "#2a3f5f",
             "gridcolor": "white",
             "linecolor": "white",
             "minorgridcolor": "white",
             "startlinecolor": "#2a3f5f"
            },
            "baxis": {
             "endlinecolor": "#2a3f5f",
             "gridcolor": "white",
             "linecolor": "white",
             "minorgridcolor": "white",
             "startlinecolor": "#2a3f5f"
            },
            "type": "carpet"
           }
          ],
          "choropleth": [
           {
            "colorbar": {
             "outlinewidth": 0,
             "ticks": ""
            },
            "type": "choropleth"
           }
          ],
          "contour": [
           {
            "colorbar": {
             "outlinewidth": 0,
             "ticks": ""
            },
            "colorscale": [
             [
              0,
              "#0d0887"
             ],
             [
              0.1111111111111111,
              "#46039f"
             ],
             [
              0.2222222222222222,
              "#7201a8"
             ],
             [
              0.3333333333333333,
              "#9c179e"
             ],
             [
              0.4444444444444444,
              "#bd3786"
             ],
             [
              0.5555555555555556,
              "#d8576b"
             ],
             [
              0.6666666666666666,
              "#ed7953"
             ],
             [
              0.7777777777777778,
              "#fb9f3a"
             ],
             [
              0.8888888888888888,
              "#fdca26"
             ],
             [
              1,
              "#f0f921"
             ]
            ],
            "type": "contour"
           }
          ],
          "contourcarpet": [
           {
            "colorbar": {
             "outlinewidth": 0,
             "ticks": ""
            },
            "type": "contourcarpet"
           }
          ],
          "heatmap": [
           {
            "colorbar": {
             "outlinewidth": 0,
             "ticks": ""
            },
            "colorscale": [
             [
              0,
              "#0d0887"
             ],
             [
              0.1111111111111111,
              "#46039f"
             ],
             [
              0.2222222222222222,
              "#7201a8"
             ],
             [
              0.3333333333333333,
              "#9c179e"
             ],
             [
              0.4444444444444444,
              "#bd3786"
             ],
             [
              0.5555555555555556,
              "#d8576b"
             ],
             [
              0.6666666666666666,
              "#ed7953"
             ],
             [
              0.7777777777777778,
              "#fb9f3a"
             ],
             [
              0.8888888888888888,
              "#fdca26"
             ],
             [
              1,
              "#f0f921"
             ]
            ],
            "type": "heatmap"
           }
          ],
          "histogram": [
           {
            "marker": {
             "pattern": {
              "fillmode": "overlay",
              "size": 10,
              "solidity": 0.2
             }
            },
            "type": "histogram"
           }
          ],
          "histogram2d": [
           {
            "colorbar": {
             "outlinewidth": 0,
             "ticks": ""
            },
            "colorscale": [
             [
              0,
              "#0d0887"
             ],
             [
              0.1111111111111111,
              "#46039f"
             ],
             [
              0.2222222222222222,
              "#7201a8"
             ],
             [
              0.3333333333333333,
              "#9c179e"
             ],
             [
              0.4444444444444444,
              "#bd3786"
             ],
             [
              0.5555555555555556,
              "#d8576b"
             ],
             [
              0.6666666666666666,
              "#ed7953"
             ],
             [
              0.7777777777777778,
              "#fb9f3a"
             ],
             [
              0.8888888888888888,
              "#fdca26"
             ],
             [
              1,
              "#f0f921"
             ]
            ],
            "type": "histogram2d"
           }
          ],
          "histogram2dcontour": [
           {
            "colorbar": {
             "outlinewidth": 0,
             "ticks": ""
            },
            "colorscale": [
             [
              0,
              "#0d0887"
             ],
             [
              0.1111111111111111,
              "#46039f"
             ],
             [
              0.2222222222222222,
              "#7201a8"
             ],
             [
              0.3333333333333333,
              "#9c179e"
             ],
             [
              0.4444444444444444,
              "#bd3786"
             ],
             [
              0.5555555555555556,
              "#d8576b"
             ],
             [
              0.6666666666666666,
              "#ed7953"
             ],
             [
              0.7777777777777778,
              "#fb9f3a"
             ],
             [
              0.8888888888888888,
              "#fdca26"
             ],
             [
              1,
              "#f0f921"
             ]
            ],
            "type": "histogram2dcontour"
           }
          ],
          "mesh3d": [
           {
            "colorbar": {
             "outlinewidth": 0,
             "ticks": ""
            },
            "type": "mesh3d"
           }
          ],
          "parcoords": [
           {
            "line": {
             "colorbar": {
              "outlinewidth": 0,
              "ticks": ""
             }
            },
            "type": "parcoords"
           }
          ],
          "pie": [
           {
            "automargin": true,
            "type": "pie"
           }
          ],
          "scatter": [
           {
            "fillpattern": {
             "fillmode": "overlay",
             "size": 10,
             "solidity": 0.2
            },
            "type": "scatter"
           }
          ],
          "scatter3d": [
           {
            "line": {
             "colorbar": {
              "outlinewidth": 0,
              "ticks": ""
             }
            },
            "marker": {
             "colorbar": {
              "outlinewidth": 0,
              "ticks": ""
             }
            },
            "type": "scatter3d"
           }
          ],
          "scattercarpet": [
           {
            "marker": {
             "colorbar": {
              "outlinewidth": 0,
              "ticks": ""
             }
            },
            "type": "scattercarpet"
           }
          ],
          "scattergeo": [
           {
            "marker": {
             "colorbar": {
              "outlinewidth": 0,
              "ticks": ""
             }
            },
            "type": "scattergeo"
           }
          ],
          "scattergl": [
           {
            "marker": {
             "colorbar": {
              "outlinewidth": 0,
              "ticks": ""
             }
            },
            "type": "scattergl"
           }
          ],
          "scattermap": [
           {
            "marker": {
             "colorbar": {
              "outlinewidth": 0,
              "ticks": ""
             }
            },
            "type": "scattermap"
           }
          ],
          "scattermapbox": [
           {
            "marker": {
             "colorbar": {
              "outlinewidth": 0,
              "ticks": ""
             }
            },
            "type": "scattermapbox"
           }
          ],
          "scatterpolar": [
           {
            "marker": {
             "colorbar": {
              "outlinewidth": 0,
              "ticks": ""
             }
            },
            "type": "scatterpolar"
           }
          ],
          "scatterpolargl": [
           {
            "marker": {
             "colorbar": {
              "outlinewidth": 0,
              "ticks": ""
             }
            },
            "type": "scatterpolargl"
           }
          ],
          "scatterternary": [
           {
            "marker": {
             "colorbar": {
              "outlinewidth": 0,
              "ticks": ""
             }
            },
            "type": "scatterternary"
           }
          ],
          "surface": [
           {
            "colorbar": {
             "outlinewidth": 0,
             "ticks": ""
            },
            "colorscale": [
             [
              0,
              "#0d0887"
             ],
             [
              0.1111111111111111,
              "#46039f"
             ],
             [
              0.2222222222222222,
              "#7201a8"
             ],
             [
              0.3333333333333333,
              "#9c179e"
             ],
             [
              0.4444444444444444,
              "#bd3786"
             ],
             [
              0.5555555555555556,
              "#d8576b"
             ],
             [
              0.6666666666666666,
              "#ed7953"
             ],
             [
              0.7777777777777778,
              "#fb9f3a"
             ],
             [
              0.8888888888888888,
              "#fdca26"
             ],
             [
              1,
              "#f0f921"
             ]
            ],
            "type": "surface"
           }
          ],
          "table": [
           {
            "cells": {
             "fill": {
              "color": "#EBF0F8"
             },
             "line": {
              "color": "white"
             }
            },
            "header": {
             "fill": {
              "color": "#C8D4E3"
             },
             "line": {
              "color": "white"
             }
            },
            "type": "table"
           }
          ]
         },
         "layout": {
          "annotationdefaults": {
           "arrowcolor": "#2a3f5f",
           "arrowhead": 0,
           "arrowwidth": 1
          },
          "autotypenumbers": "strict",
          "coloraxis": {
           "colorbar": {
            "outlinewidth": 0,
            "ticks": ""
           }
          },
          "colorscale": {
           "diverging": [
            [
             0,
             "#8e0152"
            ],
            [
             0.1,
             "#c51b7d"
            ],
            [
             0.2,
             "#de77ae"
            ],
            [
             0.3,
             "#f1b6da"
            ],
            [
             0.4,
             "#fde0ef"
            ],
            [
             0.5,
             "#f7f7f7"
            ],
            [
             0.6,
             "#e6f5d0"
            ],
            [
             0.7,
             "#b8e186"
            ],
            [
             0.8,
             "#7fbc41"
            ],
            [
             0.9,
             "#4d9221"
            ],
            [
             1,
             "#276419"
            ]
           ],
           "sequential": [
            [
             0,
             "#0d0887"
            ],
            [
             0.1111111111111111,
             "#46039f"
            ],
            [
             0.2222222222222222,
             "#7201a8"
            ],
            [
             0.3333333333333333,
             "#9c179e"
            ],
            [
             0.4444444444444444,
             "#bd3786"
            ],
            [
             0.5555555555555556,
             "#d8576b"
            ],
            [
             0.6666666666666666,
             "#ed7953"
            ],
            [
             0.7777777777777778,
             "#fb9f3a"
            ],
            [
             0.8888888888888888,
             "#fdca26"
            ],
            [
             1,
             "#f0f921"
            ]
           ],
           "sequentialminus": [
            [
             0,
             "#0d0887"
            ],
            [
             0.1111111111111111,
             "#46039f"
            ],
            [
             0.2222222222222222,
             "#7201a8"
            ],
            [
             0.3333333333333333,
             "#9c179e"
            ],
            [
             0.4444444444444444,
             "#bd3786"
            ],
            [
             0.5555555555555556,
             "#d8576b"
            ],
            [
             0.6666666666666666,
             "#ed7953"
            ],
            [
             0.7777777777777778,
             "#fb9f3a"
            ],
            [
             0.8888888888888888,
             "#fdca26"
            ],
            [
             1,
             "#f0f921"
            ]
           ]
          },
          "colorway": [
           "#636efa",
           "#EF553B",
           "#00cc96",
           "#ab63fa",
           "#FFA15A",
           "#19d3f3",
           "#FF6692",
           "#B6E880",
           "#FF97FF",
           "#FECB52"
          ],
          "font": {
           "color": "#2a3f5f"
          },
          "geo": {
           "bgcolor": "white",
           "lakecolor": "white",
           "landcolor": "#E5ECF6",
           "showlakes": true,
           "showland": true,
           "subunitcolor": "white"
          },
          "hoverlabel": {
           "align": "left"
          },
          "hovermode": "closest",
          "mapbox": {
           "style": "light"
          },
          "paper_bgcolor": "white",
          "plot_bgcolor": "#E5ECF6",
          "polar": {
           "angularaxis": {
            "gridcolor": "white",
            "linecolor": "white",
            "ticks": ""
           },
           "bgcolor": "#E5ECF6",
           "radialaxis": {
            "gridcolor": "white",
            "linecolor": "white",
            "ticks": ""
           }
          },
          "scene": {
           "xaxis": {
            "backgroundcolor": "#E5ECF6",
            "gridcolor": "white",
            "gridwidth": 2,
            "linecolor": "white",
            "showbackground": true,
            "ticks": "",
            "zerolinecolor": "white"
           },
           "yaxis": {
            "backgroundcolor": "#E5ECF6",
            "gridcolor": "white",
            "gridwidth": 2,
            "linecolor": "white",
            "showbackground": true,
            "ticks": "",
            "zerolinecolor": "white"
           },
           "zaxis": {
            "backgroundcolor": "#E5ECF6",
            "gridcolor": "white",
            "gridwidth": 2,
            "linecolor": "white",
            "showbackground": true,
            "ticks": "",
            "zerolinecolor": "white"
           }
          },
          "shapedefaults": {
           "line": {
            "color": "#2a3f5f"
           }
          },
          "ternary": {
           "aaxis": {
            "gridcolor": "white",
            "linecolor": "white",
            "ticks": ""
           },
           "baxis": {
            "gridcolor": "white",
            "linecolor": "white",
            "ticks": ""
           },
           "bgcolor": "#E5ECF6",
           "caxis": {
            "gridcolor": "white",
            "linecolor": "white",
            "ticks": ""
           }
          },
          "title": {
           "x": 0.05
          },
          "xaxis": {
           "automargin": true,
           "gridcolor": "white",
           "linecolor": "white",
           "ticks": "",
           "title": {
            "standoff": 15
           },
           "zerolinecolor": "white",
           "zerolinewidth": 2
          },
          "yaxis": {
           "automargin": true,
           "gridcolor": "white",
           "linecolor": "white",
           "ticks": "",
           "title": {
            "standoff": 15
           },
           "zerolinecolor": "white",
           "zerolinewidth": 2
          }
         }
        },
        "title": {
         "text": "Attack vs. Defense of Generation 1 Pokémon"
        },
        "xaxis": {
         "anchor": "y",
         "domain": [
          0,
          1
         ],
         "title": {
          "text": "Attack Stat"
         }
        },
        "yaxis": {
         "anchor": "x",
         "domain": [
          0,
          1
         ],
         "title": {
          "text": "Defense Stat"
         }
        }
       }
      }
     },
     "metadata": {},
     "output_type": "display_data"
    },
    {
     "data": {
      "application/vnd.plotly.v1+json": {
       "config": {
        "plotlyServerURL": "https://plot.ly"
       },
       "data": [
        {
         "hovertemplate": "Pokémon Type=%{x}<br>Count=%{y}<extra></extra>",
         "legendgroup": "",
         "marker": {
          "color": "#636efa",
          "pattern": {
           "shape": ""
          }
         },
         "name": "",
         "orientation": "v",
         "showlegend": false,
         "textposition": "auto",
         "type": "bar",
         "x": [
          "water",
          "normal",
          "poison",
          "grass",
          "fire",
          "bug",
          "electric",
          "rock",
          "ground",
          "psychic",
          "fighting",
          "ghost",
          "dragon",
          "fairy",
          "ice"
         ],
         "xaxis": "x",
         "y": {
          "bdata": "HBYODAwMCQkICAcDAwIC",
          "dtype": "i1"
         },
         "yaxis": "y"
        }
       ],
       "layout": {
        "barmode": "relative",
        "legend": {
         "tracegroupgap": 0
        },
        "template": {
         "data": {
          "bar": [
           {
            "error_x": {
             "color": "#2a3f5f"
            },
            "error_y": {
             "color": "#2a3f5f"
            },
            "marker": {
             "line": {
              "color": "#E5ECF6",
              "width": 0.5
             },
             "pattern": {
              "fillmode": "overlay",
              "size": 10,
              "solidity": 0.2
             }
            },
            "type": "bar"
           }
          ],
          "barpolar": [
           {
            "marker": {
             "line": {
              "color": "#E5ECF6",
              "width": 0.5
             },
             "pattern": {
              "fillmode": "overlay",
              "size": 10,
              "solidity": 0.2
             }
            },
            "type": "barpolar"
           }
          ],
          "carpet": [
           {
            "aaxis": {
             "endlinecolor": "#2a3f5f",
             "gridcolor": "white",
             "linecolor": "white",
             "minorgridcolor": "white",
             "startlinecolor": "#2a3f5f"
            },
            "baxis": {
             "endlinecolor": "#2a3f5f",
             "gridcolor": "white",
             "linecolor": "white",
             "minorgridcolor": "white",
             "startlinecolor": "#2a3f5f"
            },
            "type": "carpet"
           }
          ],
          "choropleth": [
           {
            "colorbar": {
             "outlinewidth": 0,
             "ticks": ""
            },
            "type": "choropleth"
           }
          ],
          "contour": [
           {
            "colorbar": {
             "outlinewidth": 0,
             "ticks": ""
            },
            "colorscale": [
             [
              0,
              "#0d0887"
             ],
             [
              0.1111111111111111,
              "#46039f"
             ],
             [
              0.2222222222222222,
              "#7201a8"
             ],
             [
              0.3333333333333333,
              "#9c179e"
             ],
             [
              0.4444444444444444,
              "#bd3786"
             ],
             [
              0.5555555555555556,
              "#d8576b"
             ],
             [
              0.6666666666666666,
              "#ed7953"
             ],
             [
              0.7777777777777778,
              "#fb9f3a"
             ],
             [
              0.8888888888888888,
              "#fdca26"
             ],
             [
              1,
              "#f0f921"
             ]
            ],
            "type": "contour"
           }
          ],
          "contourcarpet": [
           {
            "colorbar": {
             "outlinewidth": 0,
             "ticks": ""
            },
            "type": "contourcarpet"
           }
          ],
          "heatmap": [
           {
            "colorbar": {
             "outlinewidth": 0,
             "ticks": ""
            },
            "colorscale": [
             [
              0,
              "#0d0887"
             ],
             [
              0.1111111111111111,
              "#46039f"
             ],
             [
              0.2222222222222222,
              "#7201a8"
             ],
             [
              0.3333333333333333,
              "#9c179e"
             ],
             [
              0.4444444444444444,
              "#bd3786"
             ],
             [
              0.5555555555555556,
              "#d8576b"
             ],
             [
              0.6666666666666666,
              "#ed7953"
             ],
             [
              0.7777777777777778,
              "#fb9f3a"
             ],
             [
              0.8888888888888888,
              "#fdca26"
             ],
             [
              1,
              "#f0f921"
             ]
            ],
            "type": "heatmap"
           }
          ],
          "histogram": [
           {
            "marker": {
             "pattern": {
              "fillmode": "overlay",
              "size": 10,
              "solidity": 0.2
             }
            },
            "type": "histogram"
           }
          ],
          "histogram2d": [
           {
            "colorbar": {
             "outlinewidth": 0,
             "ticks": ""
            },
            "colorscale": [
             [
              0,
              "#0d0887"
             ],
             [
              0.1111111111111111,
              "#46039f"
             ],
             [
              0.2222222222222222,
              "#7201a8"
             ],
             [
              0.3333333333333333,
              "#9c179e"
             ],
             [
              0.4444444444444444,
              "#bd3786"
             ],
             [
              0.5555555555555556,
              "#d8576b"
             ],
             [
              0.6666666666666666,
              "#ed7953"
             ],
             [
              0.7777777777777778,
              "#fb9f3a"
             ],
             [
              0.8888888888888888,
              "#fdca26"
             ],
             [
              1,
              "#f0f921"
             ]
            ],
            "type": "histogram2d"
           }
          ],
          "histogram2dcontour": [
           {
            "colorbar": {
             "outlinewidth": 0,
             "ticks": ""
            },
            "colorscale": [
             [
              0,
              "#0d0887"
             ],
             [
              0.1111111111111111,
              "#46039f"
             ],
             [
              0.2222222222222222,
              "#7201a8"
             ],
             [
              0.3333333333333333,
              "#9c179e"
             ],
             [
              0.4444444444444444,
              "#bd3786"
             ],
             [
              0.5555555555555556,
              "#d8576b"
             ],
             [
              0.6666666666666666,
              "#ed7953"
             ],
             [
              0.7777777777777778,
              "#fb9f3a"
             ],
             [
              0.8888888888888888,
              "#fdca26"
             ],
             [
              1,
              "#f0f921"
             ]
            ],
            "type": "histogram2dcontour"
           }
          ],
          "mesh3d": [
           {
            "colorbar": {
             "outlinewidth": 0,
             "ticks": ""
            },
            "type": "mesh3d"
           }
          ],
          "parcoords": [
           {
            "line": {
             "colorbar": {
              "outlinewidth": 0,
              "ticks": ""
             }
            },
            "type": "parcoords"
           }
          ],
          "pie": [
           {
            "automargin": true,
            "type": "pie"
           }
          ],
          "scatter": [
           {
            "fillpattern": {
             "fillmode": "overlay",
             "size": 10,
             "solidity": 0.2
            },
            "type": "scatter"
           }
          ],
          "scatter3d": [
           {
            "line": {
             "colorbar": {
              "outlinewidth": 0,
              "ticks": ""
             }
            },
            "marker": {
             "colorbar": {
              "outlinewidth": 0,
              "ticks": ""
             }
            },
            "type": "scatter3d"
           }
          ],
          "scattercarpet": [
           {
            "marker": {
             "colorbar": {
              "outlinewidth": 0,
              "ticks": ""
             }
            },
            "type": "scattercarpet"
           }
          ],
          "scattergeo": [
           {
            "marker": {
             "colorbar": {
              "outlinewidth": 0,
              "ticks": ""
             }
            },
            "type": "scattergeo"
           }
          ],
          "scattergl": [
           {
            "marker": {
             "colorbar": {
              "outlinewidth": 0,
              "ticks": ""
             }
            },
            "type": "scattergl"
           }
          ],
          "scattermap": [
           {
            "marker": {
             "colorbar": {
              "outlinewidth": 0,
              "ticks": ""
             }
            },
            "type": "scattermap"
           }
          ],
          "scattermapbox": [
           {
            "marker": {
             "colorbar": {
              "outlinewidth": 0,
              "ticks": ""
             }
            },
            "type": "scattermapbox"
           }
          ],
          "scatterpolar": [
           {
            "marker": {
             "colorbar": {
              "outlinewidth": 0,
              "ticks": ""
             }
            },
            "type": "scatterpolar"
           }
          ],
          "scatterpolargl": [
           {
            "marker": {
             "colorbar": {
              "outlinewidth": 0,
              "ticks": ""
             }
            },
            "type": "scatterpolargl"
           }
          ],
          "scatterternary": [
           {
            "marker": {
             "colorbar": {
              "outlinewidth": 0,
              "ticks": ""
             }
            },
            "type": "scatterternary"
           }
          ],
          "surface": [
           {
            "colorbar": {
             "outlinewidth": 0,
             "ticks": ""
            },
            "colorscale": [
             [
              0,
              "#0d0887"
             ],
             [
              0.1111111111111111,
              "#46039f"
             ],
             [
              0.2222222222222222,
              "#7201a8"
             ],
             [
              0.3333333333333333,
              "#9c179e"
             ],
             [
              0.4444444444444444,
              "#bd3786"
             ],
             [
              0.5555555555555556,
              "#d8576b"
             ],
             [
              0.6666666666666666,
              "#ed7953"
             ],
             [
              0.7777777777777778,
              "#fb9f3a"
             ],
             [
              0.8888888888888888,
              "#fdca26"
             ],
             [
              1,
              "#f0f921"
             ]
            ],
            "type": "surface"
           }
          ],
          "table": [
           {
            "cells": {
             "fill": {
              "color": "#EBF0F8"
             },
             "line": {
              "color": "white"
             }
            },
            "header": {
             "fill": {
              "color": "#C8D4E3"
             },
             "line": {
              "color": "white"
             }
            },
            "type": "table"
           }
          ]
         },
         "layout": {
          "annotationdefaults": {
           "arrowcolor": "#2a3f5f",
           "arrowhead": 0,
           "arrowwidth": 1
          },
          "autotypenumbers": "strict",
          "coloraxis": {
           "colorbar": {
            "outlinewidth": 0,
            "ticks": ""
           }
          },
          "colorscale": {
           "diverging": [
            [
             0,
             "#8e0152"
            ],
            [
             0.1,
             "#c51b7d"
            ],
            [
             0.2,
             "#de77ae"
            ],
            [
             0.3,
             "#f1b6da"
            ],
            [
             0.4,
             "#fde0ef"
            ],
            [
             0.5,
             "#f7f7f7"
            ],
            [
             0.6,
             "#e6f5d0"
            ],
            [
             0.7,
             "#b8e186"
            ],
            [
             0.8,
             "#7fbc41"
            ],
            [
             0.9,
             "#4d9221"
            ],
            [
             1,
             "#276419"
            ]
           ],
           "sequential": [
            [
             0,
             "#0d0887"
            ],
            [
             0.1111111111111111,
             "#46039f"
            ],
            [
             0.2222222222222222,
             "#7201a8"
            ],
            [
             0.3333333333333333,
             "#9c179e"
            ],
            [
             0.4444444444444444,
             "#bd3786"
            ],
            [
             0.5555555555555556,
             "#d8576b"
            ],
            [
             0.6666666666666666,
             "#ed7953"
            ],
            [
             0.7777777777777778,
             "#fb9f3a"
            ],
            [
             0.8888888888888888,
             "#fdca26"
            ],
            [
             1,
             "#f0f921"
            ]
           ],
           "sequentialminus": [
            [
             0,
             "#0d0887"
            ],
            [
             0.1111111111111111,
             "#46039f"
            ],
            [
             0.2222222222222222,
             "#7201a8"
            ],
            [
             0.3333333333333333,
             "#9c179e"
            ],
            [
             0.4444444444444444,
             "#bd3786"
            ],
            [
             0.5555555555555556,
             "#d8576b"
            ],
            [
             0.6666666666666666,
             "#ed7953"
            ],
            [
             0.7777777777777778,
             "#fb9f3a"
            ],
            [
             0.8888888888888888,
             "#fdca26"
            ],
            [
             1,
             "#f0f921"
            ]
           ]
          },
          "colorway": [
           "#636efa",
           "#EF553B",
           "#00cc96",
           "#ab63fa",
           "#FFA15A",
           "#19d3f3",
           "#FF6692",
           "#B6E880",
           "#FF97FF",
           "#FECB52"
          ],
          "font": {
           "color": "#2a3f5f"
          },
          "geo": {
           "bgcolor": "white",
           "lakecolor": "white",
           "landcolor": "#E5ECF6",
           "showlakes": true,
           "showland": true,
           "subunitcolor": "white"
          },
          "hoverlabel": {
           "align": "left"
          },
          "hovermode": "closest",
          "mapbox": {
           "style": "light"
          },
          "paper_bgcolor": "white",
          "plot_bgcolor": "#E5ECF6",
          "polar": {
           "angularaxis": {
            "gridcolor": "white",
            "linecolor": "white",
            "ticks": ""
           },
           "bgcolor": "#E5ECF6",
           "radialaxis": {
            "gridcolor": "white",
            "linecolor": "white",
            "ticks": ""
           }
          },
          "scene": {
           "xaxis": {
            "backgroundcolor": "#E5ECF6",
            "gridcolor": "white",
            "gridwidth": 2,
            "linecolor": "white",
            "showbackground": true,
            "ticks": "",
            "zerolinecolor": "white"
           },
           "yaxis": {
            "backgroundcolor": "#E5ECF6",
            "gridcolor": "white",
            "gridwidth": 2,
            "linecolor": "white",
            "showbackground": true,
            "ticks": "",
            "zerolinecolor": "white"
           },
           "zaxis": {
            "backgroundcolor": "#E5ECF6",
            "gridcolor": "white",
            "gridwidth": 2,
            "linecolor": "white",
            "showbackground": true,
            "ticks": "",
            "zerolinecolor": "white"
           }
          },
          "shapedefaults": {
           "line": {
            "color": "#2a3f5f"
           }
          },
          "ternary": {
           "aaxis": {
            "gridcolor": "white",
            "linecolor": "white",
            "ticks": ""
           },
           "baxis": {
            "gridcolor": "white",
            "linecolor": "white",
            "ticks": ""
           },
           "bgcolor": "#E5ECF6",
           "caxis": {
            "gridcolor": "white",
            "linecolor": "white",
            "ticks": ""
           }
          },
          "title": {
           "x": 0.05
          },
          "xaxis": {
           "automargin": true,
           "gridcolor": "white",
           "linecolor": "white",
           "ticks": "",
           "title": {
            "standoff": 15
           },
           "zerolinecolor": "white",
           "zerolinewidth": 2
          },
          "yaxis": {
           "automargin": true,
           "gridcolor": "white",
           "linecolor": "white",
           "ticks": "",
           "title": {
            "standoff": 15
           },
           "zerolinecolor": "white",
           "zerolinewidth": 2
          }
         }
        },
        "title": {
         "text": "Distribution of Primary Pokémon Types"
        },
        "xaxis": {
         "anchor": "y",
         "domain": [
          0,
          1
         ],
         "title": {
          "text": "Pokémon Type"
         }
        },
        "yaxis": {
         "anchor": "x",
         "domain": [
          0,
          1
         ],
         "title": {
          "text": "Count"
         }
        }
       }
      }
     },
     "metadata": {},
     "output_type": "display_data"
    },
    {
     "data": {
      "application/vnd.plotly.v1+json": {
       "config": {
        "plotlyServerURL": "https://plot.ly"
       },
       "data": [
        {
         "alignmentgroup": "True",
         "hovertemplate": "Speed Category=%{x}<br>Total Combat Stats=%{y}<extra></extra>",
         "legendgroup": "Slow",
         "marker": {
          "color": "#636efa"
         },
         "name": "Slow",
         "notched": false,
         "offsetgroup": "Slow",
         "orientation": "v",
         "showlegend": true,
         "type": "box",
         "x": [
          "Slow",
          "Slow",
          "Slow",
          "Slow",
          "Slow",
          "Slow",
          "Slow",
          "Slow",
          "Slow",
          "Slow",
          "Slow",
          "Slow",
          "Slow",
          "Slow",
          "Slow",
          "Slow",
          "Slow",
          "Slow",
          "Slow",
          "Slow",
          "Slow",
          "Slow",
          "Slow",
          "Slow",
          "Slow",
          "Slow",
          "Slow",
          "Slow",
          "Slow",
          "Slow",
          "Slow",
          "Slow",
          "Slow",
          "Slow",
          "Slow",
          "Slow",
          "Slow",
          "Slow",
          "Slow"
         ],
         "x0": " ",
         "xaxis": "x",
         "y": {
          "bdata": "PgE6AcMAzQDNACwBEwFDAQ4BswFAAYsBHQGVATEBMQGVASwBLAGGAe8BOwHqAUUBRQFFATEBSAFFAUABqQGBAVQBWQHlASABiwFjARwC",
          "dtype": "i2"
         },
         "y0": " ",
         "yaxis": "y"
        },
        {
         "alignmentgroup": "True",
         "hovertemplate": "Speed Category=%{x}<br>Total Combat Stats=%{y}<extra></extra>",
         "legendgroup": "Average",
         "marker": {
          "color": "#EF553B"
         },
         "name": "Average",
         "notched": false,
         "offsetgroup": "Average",
         "orientation": "v",
         "showlegend": true,
         "type": "box",
         "x": [
          "Average",
          "Average",
          "Average",
          "Average",
          "Average",
          "Average",
          "Average",
          "Average",
          "Average",
          "Average",
          "Average",
          "Average",
          "Average",
          "Average",
          "Average",
          "Average",
          "Average",
          "Average",
          "Average",
          "Average",
          "Average",
          "Average",
          "Average",
          "Average",
          "Average",
          "Average",
          "Average",
          "Average",
          "Average",
          "Average",
          "Average",
          "Average",
          "Average",
          "Average",
          "Average",
          "Average",
          "Average",
          "Average",
          "Average",
          "Average",
          "Average",
          "Average",
          "Average",
          "Average",
          "Average",
          "Average",
          "Average",
          "Average",
          "Average",
          "Average",
          "Average",
          "Average",
          "Average",
          "Average",
          "Average"
         ],
         "x0": " ",
         "xaxis": "x",
         "y": {
          "bdata": "lQE1AZUBEgKLAcMAiwH7AF0B/QAGASABwgFtAfkBEQFtAeMBKwH1AOoBQAExAV4B/gH5AYYB6gFPAdEBeQE2AdsB9AENAoEB4wFFAdsBEgLHAeoBwgGzAScBQAHCARcCRQENAg0C7wFjASwBpAE=",
          "dtype": "i2"
         },
         "y0": " ",
         "yaxis": "y"
        },
        {
         "alignmentgroup": "True",
         "hovertemplate": "Speed Category=%{x}<br>Total Combat Stats=%{y}<extra></extra>",
         "legendgroup": "Fast",
         "marker": {
          "color": "#00cc96"
         },
         "name": "Fast",
         "notched": false,
         "offsetgroup": "Fast",
         "orientation": "v",
         "showlegend": true,
         "type": "box",
         "x": [
          "Fast",
          "Fast",
          "Fast",
          "Fast",
          "Fast",
          "Fast",
          "Fast",
          "Fast",
          "Fast",
          "Fast",
          "Fast",
          "Fast",
          "Fast",
          "Fast",
          "Fast",
          "Fast",
          "Fast",
          "Fast",
          "Fast",
          "Fast",
          "Fast",
          "Fast",
          "Fast",
          "Fast",
          "Fast",
          "Fast",
          "Fast",
          "Fast",
          "Fast",
          "Fast",
          "Fast",
          "Fast",
          "Fast"
         ],
         "x0": " ",
         "xaxis": "x",
         "y": {
          "bdata": "DQKVAZ0BwAFAAfkBxwHCAQkBIgH0AccBKwIsAYEBNgGaATYBlQHHAeoBuAFUAcwBxwHvAfQByAAcAu8BRAJEAlgC",
          "dtype": "i2"
         },
         "y0": " ",
         "yaxis": "y"
        },
        {
         "alignmentgroup": "True",
         "hovertemplate": "Speed Category=%{x}<br>Total Combat Stats=%{y}<extra></extra>",
         "legendgroup": "Very Fast",
         "marker": {
          "color": "#ab63fa"
         },
         "name": "Very Fast",
         "notched": false,
         "offsetgroup": "Very Fast",
         "orientation": "v",
         "showlegend": true,
         "type": "box",
         "x": [
          "Very Fast",
          "Very Fast",
          "Very Fast",
          "Very Fast",
          "Very Fast",
          "Very Fast",
          "Very Fast",
          "Very Fast",
          "Very Fast",
          "Very Fast",
          "Very Fast",
          "Very Fast",
          "Very Fast",
          "Very Fast",
          "Very Fast",
          "Very Fast",
          "Very Fast",
          "Very Fast",
          "Very Fast",
          "Very Fast",
          "Very Fast",
          "Very Fast",
          "Very Fast",
          "Very Fast"
         ],
         "x0": " ",
         "xaxis": "x",
         "y": {
          "bdata": "FgLfAboB5QH5AakBuAGQAfQBAwL0AdYB9AFKAeoBCAL0AeoB6gENAgMCRAKoAlgC",
          "dtype": "i2"
         },
         "y0": " ",
         "yaxis": "y"
        }
       ],
       "layout": {
        "boxmode": "overlay",
        "legend": {
         "title": {
          "text": "Speed Category"
         },
         "tracegroupgap": 0
        },
        "template": {
         "data": {
          "bar": [
           {
            "error_x": {
             "color": "#2a3f5f"
            },
            "error_y": {
             "color": "#2a3f5f"
            },
            "marker": {
             "line": {
              "color": "#E5ECF6",
              "width": 0.5
             },
             "pattern": {
              "fillmode": "overlay",
              "size": 10,
              "solidity": 0.2
             }
            },
            "type": "bar"
           }
          ],
          "barpolar": [
           {
            "marker": {
             "line": {
              "color": "#E5ECF6",
              "width": 0.5
             },
             "pattern": {
              "fillmode": "overlay",
              "size": 10,
              "solidity": 0.2
             }
            },
            "type": "barpolar"
           }
          ],
          "carpet": [
           {
            "aaxis": {
             "endlinecolor": "#2a3f5f",
             "gridcolor": "white",
             "linecolor": "white",
             "minorgridcolor": "white",
             "startlinecolor": "#2a3f5f"
            },
            "baxis": {
             "endlinecolor": "#2a3f5f",
             "gridcolor": "white",
             "linecolor": "white",
             "minorgridcolor": "white",
             "startlinecolor": "#2a3f5f"
            },
            "type": "carpet"
           }
          ],
          "choropleth": [
           {
            "colorbar": {
             "outlinewidth": 0,
             "ticks": ""
            },
            "type": "choropleth"
           }
          ],
          "contour": [
           {
            "colorbar": {
             "outlinewidth": 0,
             "ticks": ""
            },
            "colorscale": [
             [
              0,
              "#0d0887"
             ],
             [
              0.1111111111111111,
              "#46039f"
             ],
             [
              0.2222222222222222,
              "#7201a8"
             ],
             [
              0.3333333333333333,
              "#9c179e"
             ],
             [
              0.4444444444444444,
              "#bd3786"
             ],
             [
              0.5555555555555556,
              "#d8576b"
             ],
             [
              0.6666666666666666,
              "#ed7953"
             ],
             [
              0.7777777777777778,
              "#fb9f3a"
             ],
             [
              0.8888888888888888,
              "#fdca26"
             ],
             [
              1,
              "#f0f921"
             ]
            ],
            "type": "contour"
           }
          ],
          "contourcarpet": [
           {
            "colorbar": {
             "outlinewidth": 0,
             "ticks": ""
            },
            "type": "contourcarpet"
           }
          ],
          "heatmap": [
           {
            "colorbar": {
             "outlinewidth": 0,
             "ticks": ""
            },
            "colorscale": [
             [
              0,
              "#0d0887"
             ],
             [
              0.1111111111111111,
              "#46039f"
             ],
             [
              0.2222222222222222,
              "#7201a8"
             ],
             [
              0.3333333333333333,
              "#9c179e"
             ],
             [
              0.4444444444444444,
              "#bd3786"
             ],
             [
              0.5555555555555556,
              "#d8576b"
             ],
             [
              0.6666666666666666,
              "#ed7953"
             ],
             [
              0.7777777777777778,
              "#fb9f3a"
             ],
             [
              0.8888888888888888,
              "#fdca26"
             ],
             [
              1,
              "#f0f921"
             ]
            ],
            "type": "heatmap"
           }
          ],
          "histogram": [
           {
            "marker": {
             "pattern": {
              "fillmode": "overlay",
              "size": 10,
              "solidity": 0.2
             }
            },
            "type": "histogram"
           }
          ],
          "histogram2d": [
           {
            "colorbar": {
             "outlinewidth": 0,
             "ticks": ""
            },
            "colorscale": [
             [
              0,
              "#0d0887"
             ],
             [
              0.1111111111111111,
              "#46039f"
             ],
             [
              0.2222222222222222,
              "#7201a8"
             ],
             [
              0.3333333333333333,
              "#9c179e"
             ],
             [
              0.4444444444444444,
              "#bd3786"
             ],
             [
              0.5555555555555556,
              "#d8576b"
             ],
             [
              0.6666666666666666,
              "#ed7953"
             ],
             [
              0.7777777777777778,
              "#fb9f3a"
             ],
             [
              0.8888888888888888,
              "#fdca26"
             ],
             [
              1,
              "#f0f921"
             ]
            ],
            "type": "histogram2d"
           }
          ],
          "histogram2dcontour": [
           {
            "colorbar": {
             "outlinewidth": 0,
             "ticks": ""
            },
            "colorscale": [
             [
              0,
              "#0d0887"
             ],
             [
              0.1111111111111111,
              "#46039f"
             ],
             [
              0.2222222222222222,
              "#7201a8"
             ],
             [
              0.3333333333333333,
              "#9c179e"
             ],
             [
              0.4444444444444444,
              "#bd3786"
             ],
             [
              0.5555555555555556,
              "#d8576b"
             ],
             [
              0.6666666666666666,
              "#ed7953"
             ],
             [
              0.7777777777777778,
              "#fb9f3a"
             ],
             [
              0.8888888888888888,
              "#fdca26"
             ],
             [
              1,
              "#f0f921"
             ]
            ],
            "type": "histogram2dcontour"
           }
          ],
          "mesh3d": [
           {
            "colorbar": {
             "outlinewidth": 0,
             "ticks": ""
            },
            "type": "mesh3d"
           }
          ],
          "parcoords": [
           {
            "line": {
             "colorbar": {
              "outlinewidth": 0,
              "ticks": ""
             }
            },
            "type": "parcoords"
           }
          ],
          "pie": [
           {
            "automargin": true,
            "type": "pie"
           }
          ],
          "scatter": [
           {
            "fillpattern": {
             "fillmode": "overlay",
             "size": 10,
             "solidity": 0.2
            },
            "type": "scatter"
           }
          ],
          "scatter3d": [
           {
            "line": {
             "colorbar": {
              "outlinewidth": 0,
              "ticks": ""
             }
            },
            "marker": {
             "colorbar": {
              "outlinewidth": 0,
              "ticks": ""
             }
            },
            "type": "scatter3d"
           }
          ],
          "scattercarpet": [
           {
            "marker": {
             "colorbar": {
              "outlinewidth": 0,
              "ticks": ""
             }
            },
            "type": "scattercarpet"
           }
          ],
          "scattergeo": [
           {
            "marker": {
             "colorbar": {
              "outlinewidth": 0,
              "ticks": ""
             }
            },
            "type": "scattergeo"
           }
          ],
          "scattergl": [
           {
            "marker": {
             "colorbar": {
              "outlinewidth": 0,
              "ticks": ""
             }
            },
            "type": "scattergl"
           }
          ],
          "scattermap": [
           {
            "marker": {
             "colorbar": {
              "outlinewidth": 0,
              "ticks": ""
             }
            },
            "type": "scattermap"
           }
          ],
          "scattermapbox": [
           {
            "marker": {
             "colorbar": {
              "outlinewidth": 0,
              "ticks": ""
             }
            },
            "type": "scattermapbox"
           }
          ],
          "scatterpolar": [
           {
            "marker": {
             "colorbar": {
              "outlinewidth": 0,
              "ticks": ""
             }
            },
            "type": "scatterpolar"
           }
          ],
          "scatterpolargl": [
           {
            "marker": {
             "colorbar": {
              "outlinewidth": 0,
              "ticks": ""
             }
            },
            "type": "scatterpolargl"
           }
          ],
          "scatterternary": [
           {
            "marker": {
             "colorbar": {
              "outlinewidth": 0,
              "ticks": ""
             }
            },
            "type": "scatterternary"
           }
          ],
          "surface": [
           {
            "colorbar": {
             "outlinewidth": 0,
             "ticks": ""
            },
            "colorscale": [
             [
              0,
              "#0d0887"
             ],
             [
              0.1111111111111111,
              "#46039f"
             ],
             [
              0.2222222222222222,
              "#7201a8"
             ],
             [
              0.3333333333333333,
              "#9c179e"
             ],
             [
              0.4444444444444444,
              "#bd3786"
             ],
             [
              0.5555555555555556,
              "#d8576b"
             ],
             [
              0.6666666666666666,
              "#ed7953"
             ],
             [
              0.7777777777777778,
              "#fb9f3a"
             ],
             [
              0.8888888888888888,
              "#fdca26"
             ],
             [
              1,
              "#f0f921"
             ]
            ],
            "type": "surface"
           }
          ],
          "table": [
           {
            "cells": {
             "fill": {
              "color": "#EBF0F8"
             },
             "line": {
              "color": "white"
             }
            },
            "header": {
             "fill": {
              "color": "#C8D4E3"
             },
             "line": {
              "color": "white"
             }
            },
            "type": "table"
           }
          ]
         },
         "layout": {
          "annotationdefaults": {
           "arrowcolor": "#2a3f5f",
           "arrowhead": 0,
           "arrowwidth": 1
          },
          "autotypenumbers": "strict",
          "coloraxis": {
           "colorbar": {
            "outlinewidth": 0,
            "ticks": ""
           }
          },
          "colorscale": {
           "diverging": [
            [
             0,
             "#8e0152"
            ],
            [
             0.1,
             "#c51b7d"
            ],
            [
             0.2,
             "#de77ae"
            ],
            [
             0.3,
             "#f1b6da"
            ],
            [
             0.4,
             "#fde0ef"
            ],
            [
             0.5,
             "#f7f7f7"
            ],
            [
             0.6,
             "#e6f5d0"
            ],
            [
             0.7,
             "#b8e186"
            ],
            [
             0.8,
             "#7fbc41"
            ],
            [
             0.9,
             "#4d9221"
            ],
            [
             1,
             "#276419"
            ]
           ],
           "sequential": [
            [
             0,
             "#0d0887"
            ],
            [
             0.1111111111111111,
             "#46039f"
            ],
            [
             0.2222222222222222,
             "#7201a8"
            ],
            [
             0.3333333333333333,
             "#9c179e"
            ],
            [
             0.4444444444444444,
             "#bd3786"
            ],
            [
             0.5555555555555556,
             "#d8576b"
            ],
            [
             0.6666666666666666,
             "#ed7953"
            ],
            [
             0.7777777777777778,
             "#fb9f3a"
            ],
            [
             0.8888888888888888,
             "#fdca26"
            ],
            [
             1,
             "#f0f921"
            ]
           ],
           "sequentialminus": [
            [
             0,
             "#0d0887"
            ],
            [
             0.1111111111111111,
             "#46039f"
            ],
            [
             0.2222222222222222,
             "#7201a8"
            ],
            [
             0.3333333333333333,
             "#9c179e"
            ],
            [
             0.4444444444444444,
             "#bd3786"
            ],
            [
             0.5555555555555556,
             "#d8576b"
            ],
            [
             0.6666666666666666,
             "#ed7953"
            ],
            [
             0.7777777777777778,
             "#fb9f3a"
            ],
            [
             0.8888888888888888,
             "#fdca26"
            ],
            [
             1,
             "#f0f921"
            ]
           ]
          },
          "colorway": [
           "#636efa",
           "#EF553B",
           "#00cc96",
           "#ab63fa",
           "#FFA15A",
           "#19d3f3",
           "#FF6692",
           "#B6E880",
           "#FF97FF",
           "#FECB52"
          ],
          "font": {
           "color": "#2a3f5f"
          },
          "geo": {
           "bgcolor": "white",
           "lakecolor": "white",
           "landcolor": "#E5ECF6",
           "showlakes": true,
           "showland": true,
           "subunitcolor": "white"
          },
          "hoverlabel": {
           "align": "left"
          },
          "hovermode": "closest",
          "mapbox": {
           "style": "light"
          },
          "paper_bgcolor": "white",
          "plot_bgcolor": "#E5ECF6",
          "polar": {
           "angularaxis": {
            "gridcolor": "white",
            "linecolor": "white",
            "ticks": ""
           },
           "bgcolor": "#E5ECF6",
           "radialaxis": {
            "gridcolor": "white",
            "linecolor": "white",
            "ticks": ""
           }
          },
          "scene": {
           "xaxis": {
            "backgroundcolor": "#E5ECF6",
            "gridcolor": "white",
            "gridwidth": 2,
            "linecolor": "white",
            "showbackground": true,
            "ticks": "",
            "zerolinecolor": "white"
           },
           "yaxis": {
            "backgroundcolor": "#E5ECF6",
            "gridcolor": "white",
            "gridwidth": 2,
            "linecolor": "white",
            "showbackground": true,
            "ticks": "",
            "zerolinecolor": "white"
           },
           "zaxis": {
            "backgroundcolor": "#E5ECF6",
            "gridcolor": "white",
            "gridwidth": 2,
            "linecolor": "white",
            "showbackground": true,
            "ticks": "",
            "zerolinecolor": "white"
           }
          },
          "shapedefaults": {
           "line": {
            "color": "#2a3f5f"
           }
          },
          "ternary": {
           "aaxis": {
            "gridcolor": "white",
            "linecolor": "white",
            "ticks": ""
           },
           "baxis": {
            "gridcolor": "white",
            "linecolor": "white",
            "ticks": ""
           },
           "bgcolor": "#E5ECF6",
           "caxis": {
            "gridcolor": "white",
            "linecolor": "white",
            "ticks": ""
           }
          },
          "title": {
           "x": 0.05
          },
          "xaxis": {
           "automargin": true,
           "gridcolor": "white",
           "linecolor": "white",
           "ticks": "",
           "title": {
            "standoff": 15
           },
           "zerolinecolor": "white",
           "zerolinewidth": 2
          },
          "yaxis": {
           "automargin": true,
           "gridcolor": "white",
           "linecolor": "white",
           "ticks": "",
           "title": {
            "standoff": 15
           },
           "zerolinecolor": "white",
           "zerolinewidth": 2
          }
         }
        },
        "title": {
         "text": "Combat Power by Speed Category"
        },
        "xaxis": {
         "anchor": "y",
         "categoryarray": [
          "Slow",
          "Average",
          "Fast",
          "Very Fast"
         ],
         "categoryorder": "array",
         "domain": [
          0,
          1
         ],
         "title": {
          "text": "Speed Category"
         }
        },
        "yaxis": {
         "anchor": "x",
         "domain": [
          0,
          1
         ],
         "title": {
          "text": "Total Combat Stats"
         }
        }
       }
      }
     },
     "metadata": {},
     "output_type": "display_data"
    },
    {
     "name": "stdout",
     "output_type": "stream",
     "text": [
      "\n",
      "Plot generation complete.\n"
     ]
    }
   ],
   "source": [
    "# to show plots in notebook run this\n",
    "\n",
    "print(\"Generating and displaying plots for the notebook...\")\n",
    "\n",
    "create_and_save_plots(\n",
    "    input_path=\"data/featured_pokemon_data.csv\",\n",
    "    display_in_notebook=True,\n",
    "    save_files=False\n",
    ")"
   ]
  },
  {
   "cell_type": "markdown",
   "metadata": {
    "id": "4E5o9qyVPslk"
   },
   "source": [
    "# 5. **init**.py\n",
    "\n",
    "The **init**.py file, even when empty, serves a critical function in Python.\n",
    "\n",
    "It marks a directory as a Python \"package\". When Python's importer sees a directory containing an **init**.py file, it knows it can treat that directory as a single, importable package.\n",
    "\n",
    "It enables imports between modules. Without **init**.py inside the pokemon_analyzer/ directory, you would not be able to write from get_data import get_pokemon_data inside main.py. Python wouldn't recognize get_data as being part of a larger package.\n",
    "\n",
    "In short, it's the \"glue\" that allows our separate .py files to communicate with each other as part of a cohesive application. While it can be used for package-level initialization code, it is often left empty for simpler projects like this one.\n"
   ]
  },
  {
   "cell_type": "code",
   "execution_count": 11,
   "metadata": {
    "id": "4nBE2FnyPqt_"
   },
   "outputs": [
    {
     "name": "stdout",
     "output_type": "stream",
     "text": [
      "Pokemon analysis package initialized.\n"
     ]
    }
   ],
   "source": [
    "# This file can be empty.\n",
    "# Its presence makes the directory a Python package,\n",
    "# allowing for imports between the .py files.\n",
    "\n",
    "print(\"Pokemon analysis package initialized.\")"
   ]
  },
  {
   "cell_type": "markdown",
   "metadata": {
    "id": "Qpl0iX1iP-Id"
   },
   "source": [
    "# 6. main.py\n"
   ]
  },
  {
   "cell_type": "code",
   "execution_count": null,
   "metadata": {
    "colab": {
     "base_uri": "https://localhost:8080/"
    },
    "id": "7xQ7KPVSQC-W",
    "outputId": "c2d89a75-5ea4-4f05-e5bf-40d121fa09dd"
   },
   "outputs": [
    {
     "name": "stdout",
     "output_type": "stream",
     "text": [
      "=============================================\n",
      "=== STARTING POKEMON DATA ANALYSIS PIPELINE ===\n",
      "=============================================\n",
      "\n",
      "--- Step 1: Fetching Data from PokéAPI ---\n",
      "Fetching data... (See 'logs/data_fetch.log' for detailed logs)\n"
     ]
    },
    {
     "name": "stderr",
     "output_type": "stream",
     "text": [
      "Fetching Pokémon: 100%|██████████| 151/151 [00:19<00:00,  7.62it/s]\n"
     ]
    },
    {
     "name": "stdout",
     "output_type": "stream",
     "text": [
      "\n",
      "Data saved successfully to data/raw_pokemon_data.csv\n",
      "--- Step 1 Complete ---\n",
      "\n",
      "--- Step 2: Cleaning Raw Data ---\n",
      "Starting data cleaning process...\n",
      "Raw data loaded successfully.\n",
      "Filled missing 'type2' values.\n",
      "Converted weight to kg and height to meters.\n",
      "Cleaned data saved successfully to data/cleaned_pokemon_data.csv\n",
      "--- Step 2 Complete ---\n",
      "\n",
      "--- Step 3: Engineering New Features ---\n",
      "Starting feature engineering process...\n",
      "Cleaned data loaded successfully.\n",
      "Created 'combat_total' feature.\n",
      "Created 'bmi' feature.\n",
      "Created 'speed_category' feature.\n",
      "Featured data saved successfully to data/featured_pokemon_data.csv\n",
      "--- Step 3 Complete ---\n",
      "\n",
      "--- Step 4: Generating Visualizations ---\n",
      "Starting plot generation...\n",
      "Featured data loaded successfully.\n",
      "Saving plot files in 'plots/'\n",
      "- Saved: plots/attack_vs_defense.html\n",
      "- Saved: plots/type_distribution.html\n",
      "- Saved: plots/combat_total_by_speed.html\n",
      "\n",
      "Plot generation complete.\n",
      "--- Step 4 Complete ---\n",
      "\n",
      "======================================\n",
      "=== PIPELINE EXECUTION FINISHED! ===\n",
      "======================================\n",
      "Check the 'data' folder for CSV files and the 'plots' folder for HTML graphs.\n"
     ]
    }
   ],
   "source": [
    "# not used in the notebook as they are already imported above\n",
    "# Import the functions from our other scripts\n",
    "\n",
    "# from get_data import get_pokemon_data, save_data\n",
    "# from clean_data import clean_pokemon_data\n",
    "# from feature_engineering import create_features\n",
    "# from create_plots import create_and_save_plots\n",
    "\n",
    "def run_pipeline():\n",
    "    \"\"\"\n",
    "    Executes the entire Pokémon data analysis pipeline.\n",
    "    \"\"\"\n",
    "    print(\"=============================================\")\n",
    "    print(\"=== STARTING POKEMON DATA ANALYSIS PIPELINE ===\")\n",
    "    print(\"=============================================\\n\")\n",
    "\n",
    "    # Step 1: Get Data\n",
    "    print(\"Step 1: Fetching Data from PokéAPI \")\n",
    "    raw_df = get_pokemon_data(num_pokemon=151)\n",
    "    if raw_df is not None:\n",
    "        save_data(raw_df, folder=\"data\", filename=\"raw_pokemon_data.csv\")\n",
    "        print(\" Step 1 Complete \\n\")\n",
    "    else:\n",
    "        print(\"Failed to fetch data. Aborting pipeline.\")\n",
    "        return\n",
    "\n",
    "    # Step 2: Clean Data\n",
    "    print(\"Step 2: Cleaning Raw Data \")\n",
    "    cleaned_df = clean_pokemon_data(\n",
    "        input_path=\"data/raw_pokemon_data.csv\",\n",
    "        output_path=\"data/cleaned_pokemon_data.csv\"\n",
    "    )\n",
    "    if cleaned_df is not None:\n",
    "        print(\"Step 2 Complete \\n\")\n",
    "    else:\n",
    "        print(\"Failed to clean data. Aborting pipeline.\")\n",
    "        return\n",
    "\n",
    "    # Step 3: Feature Engineering\n",
    "    print(\"Step 3: Engineering New Features \")\n",
    "    featured_df = create_features(\n",
    "        input_path=\"data/cleaned_pokemon_data.csv\",\n",
    "        output_path=\"data/featured_pokemon_data.csv\"\n",
    "    )\n",
    "    if featured_df is not None:\n",
    "        print(\"Step 3 Complete \\n\")\n",
    "    else:\n",
    "        print(\"Failed to engineer features. Aborting pipeline.\")\n",
    "        return\n",
    "\n",
    "    # Step 4: Create Plots\n",
    "    print(\"Step 4: Generating Visualizations \")\n",
    "    create_and_save_plots(\n",
    "        input_path=\"data/featured_pokemon_data.csv\",\n",
    "        output_folder=\"plots\"\n",
    "    )\n",
    "    print(\"Step 4 Complete \\n\")\n",
    "\n",
    "    print(\"======================================\")\n",
    "    print(\"=== PIPELINE EXECUTION FINISHED! ===\")\n",
    "    print(\"======================================\")\n",
    "    print(\"Check the 'data' folder for CSV files and the 'plots' folder for HTML graphs.\")\n",
    "\n",
    "\n",
    "if __name__ == \"__main__\":\n",
    "    run_pipeline()"
   ]
  },
  {
   "cell_type": "markdown",
   "metadata": {
    "id": "EYNGYm5vSrsN"
   },
   "source": [
    "# Just for fun!\n"
   ]
  },
  {
   "cell_type": "code",
   "execution_count": null,
   "metadata": {
    "colab": {
     "base_uri": "https://localhost:8080/",
     "height": 557
    },
    "id": "vX9SjN-HSvez",
    "outputId": "3eb60292-d65e-43f2-b478-3cbe9c7187a2"
   },
   "outputs": [
    {
     "name": "stdout",
     "output_type": "stream",
     "text": [
      "--- Looking for Pokémon with ID: 130 ---\n"
     ]
    },
    {
     "data": {
      "text/html": [
       "<img src=\"https://raw.githubusercontent.com/PokeAPI/sprites/master/sprites/pokemon/130.png\" width=\"250\"/>"
      ],
      "text/plain": [
       "<IPython.core.display.Image object>"
      ]
     },
     "metadata": {},
     "output_type": "display_data"
    },
    {
     "name": "stdout",
     "output_type": "stream",
     "text": [
      "\n",
      "==============================\n",
      "Stats for: Gyarados (#130)\n",
      "==============================\n",
      "HP:              95\n",
      "Attack:          125\n",
      "Defense:         79\n",
      "Special Attack:  60\n",
      "Special Defense: 100\n",
      "Speed:           81\n",
      "------------------------------\n",
      "Total Stats:     540\n",
      "==============================\n",
      "\n"
     ]
    }
   ],
   "source": [
    "from IPython.display import display, Image\n",
    "\n",
    "\n",
    "def display_pokemon_by_id(pokemon_id, data_path=\"data/featured_pokemon_data.csv\"):\n",
    "\n",
    "    print(f\"--- Looking for Pokémon with ID: {pokemon_id} ---\")\n",
    "\n",
    "    # Read the data\n",
    "    df = pd.read_csv(data_path)\n",
    "\n",
    "    # Find the Pokémon by its ID\n",
    "    pokemon = df[df['id'] == pokemon_id].iloc[0]\n",
    "\n",
    "    # Get the data for display\n",
    "    name = pokemon['name'].capitalize()\n",
    "    image_url = pokemon['sprite_url']\n",
    "\n",
    "    # Display the image\n",
    "    display(Image(url=image_url, width=250))\n",
    "\n",
    "    # Print the stats\n",
    "    print(\"\\n\" + \"=\"*30)\n",
    "    print(f\"Stats for: {name} (#{pokemon['id']})\")\n",
    "    print(\"=\"*30)\n",
    "    print(f\"HP:              {pokemon['hp']}\")\n",
    "    print(f\"Attack:          {pokemon['attack']}\")\n",
    "    print(f\"Defense:         {pokemon['defense']}\")\n",
    "    print(f\"Special Attack:  {pokemon['special-attack']}\")\n",
    "    print(f\"Special Defense: {pokemon['special-defense']}\")\n",
    "    print(f\"Speed:           {pokemon['speed']}\")\n",
    "    print(\"-\"*30)\n",
    "    print(f\"Total Stats:     {pokemon['combat_total']}\")\n",
    "    print(\"=\"*30 + \"\\n\")\n",
    "\n",
    "\n",
    "if __name__ == \"__main__\":\n",
    "    user_input = input(\"Enter a Pokémon ID (1-151) to display: \")\n",
    "    pokemon_id_to_find = int(user_input)\n",
    "    display_pokemon_by_id(pokemon_id_to_find)"
   ]
  }
 ],
 "metadata": {
  "colab": {
   "provenance": []
  },
  "kernelspec": {
   "display_name": "venv",
   "language": "python",
   "name": "python3"
  },
  "language_info": {
   "codemirror_mode": {
    "name": "ipython",
    "version": 3
   },
   "file_extension": ".py",
   "mimetype": "text/x-python",
   "name": "python",
   "nbconvert_exporter": "python",
   "pygments_lexer": "ipython3",
   "version": "3.13.1"
  }
 },
 "nbformat": 4,
 "nbformat_minor": 0
}
