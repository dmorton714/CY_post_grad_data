{
  "cells": [
    {
      "cell_type": "code",
      "execution_count": 3,
      "metadata": {
        "id": "wLH5VbjtqQb1"
      },
      "outputs": [],
      "source": [
        "import pandas as pd\n",
        "import numpy as np"
      ]
    },
    {
      "cell_type": "markdown",
      "metadata": {
        "id": "-MUgGh7iyo1w"
      },
      "source": [
        "### Quick function to make our data"
      ]
    },
    {
      "cell_type": "code",
      "execution_count": 4,
      "metadata": {
        "id": "h9h0B7x2qQPu"
      },
      "outputs": [],
      "source": [
        "def create_sample_data():\n",
        "    data = {\n",
        "        'Name': ['Alice', 'Bob', 'Charlie', 'D@vid', np.nan],\n",
        "        'Age': [25, 30, 35, 40, 28],\n",
        "        'City': ['New York', 'Los Angeles', 'Chicago', 'Houston', 'Miami'],\n",
        "        'ExtraColumn': ['X', 'Y', 'Z', 'W', 'V']\n",
        "    }\n",
        "    return pd.DataFrame(data)"
      ]
    },
    {
      "cell_type": "markdown",
      "metadata": {
        "id": "mFZtyVqfyu_l"
      },
      "source": [
        "### The below drops a column and then does some cleaning."
      ]
    },
    {
      "cell_type": "code",
      "execution_count": 5,
      "metadata": {
        "id": "GK1mKmaAqPhx"
      },
      "outputs": [],
      "source": [
        "def drop_extra_column(df):\n",
        "    return df.drop(columns=['ExtraColumn'])"
      ]
    },
    {
      "cell_type": "code",
      "execution_count": 6,
      "metadata": {
        "id": "YooJez2yqgiP"
      },
      "outputs": [],
      "source": [
        "def clean_names(df):\n",
        "    df['Name'] = df['Name'].fillna('Unknown')\n",
        "    df['Name'] = df['Name'].str.replace(r'[^a-zA-Z ]', '', regex=True)\n",
        "    return df"
      ]
    },
    {
      "cell_type": "markdown",
      "metadata": {
        "id": "AaKXtKxzy4ra"
      },
      "source": [
        "### calling the functions to make the data then cleaning it."
      ]
    },
    {
      "cell_type": "code",
      "execution_count": 7,
      "metadata": {
        "colab": {
          "base_uri": "https://localhost:8080/",
          "height": 206
        },
        "id": "o5wPWdblqnFS",
        "outputId": "eafda5da-4abf-436a-9495-fbef83c2e5ab"
      },
      "outputs": [
        {
          "data": {
            "text/html": [
              "<div>\n",
              "<style scoped>\n",
              "    .dataframe tbody tr th:only-of-type {\n",
              "        vertical-align: middle;\n",
              "    }\n",
              "\n",
              "    .dataframe tbody tr th {\n",
              "        vertical-align: top;\n",
              "    }\n",
              "\n",
              "    .dataframe thead th {\n",
              "        text-align: right;\n",
              "    }\n",
              "</style>\n",
              "<table border=\"1\" class=\"dataframe\">\n",
              "  <thead>\n",
              "    <tr style=\"text-align: right;\">\n",
              "      <th></th>\n",
              "      <th>Name</th>\n",
              "      <th>Age</th>\n",
              "      <th>City</th>\n",
              "      <th>ExtraColumn</th>\n",
              "    </tr>\n",
              "  </thead>\n",
              "  <tbody>\n",
              "    <tr>\n",
              "      <th>0</th>\n",
              "      <td>Alice</td>\n",
              "      <td>25</td>\n",
              "      <td>New York</td>\n",
              "      <td>X</td>\n",
              "    </tr>\n",
              "    <tr>\n",
              "      <th>1</th>\n",
              "      <td>Bob</td>\n",
              "      <td>30</td>\n",
              "      <td>Los Angeles</td>\n",
              "      <td>Y</td>\n",
              "    </tr>\n",
              "    <tr>\n",
              "      <th>2</th>\n",
              "      <td>Charlie</td>\n",
              "      <td>35</td>\n",
              "      <td>Chicago</td>\n",
              "      <td>Z</td>\n",
              "    </tr>\n",
              "    <tr>\n",
              "      <th>3</th>\n",
              "      <td>D@vid</td>\n",
              "      <td>40</td>\n",
              "      <td>Houston</td>\n",
              "      <td>W</td>\n",
              "    </tr>\n",
              "    <tr>\n",
              "      <th>4</th>\n",
              "      <td>NaN</td>\n",
              "      <td>28</td>\n",
              "      <td>Miami</td>\n",
              "      <td>V</td>\n",
              "    </tr>\n",
              "  </tbody>\n",
              "</table>\n",
              "</div>"
            ],
            "text/plain": [
              "      Name  Age         City ExtraColumn\n",
              "0    Alice   25     New York           X\n",
              "1      Bob   30  Los Angeles           Y\n",
              "2  Charlie   35      Chicago           Z\n",
              "3    D@vid   40      Houston           W\n",
              "4      NaN   28        Miami           V"
            ]
          },
          "execution_count": 7,
          "metadata": {},
          "output_type": "execute_result"
        }
      ],
      "source": [
        "df = create_sample_data()\n",
        "df"
      ]
    },
    {
      "cell_type": "code",
      "execution_count": 8,
      "metadata": {
        "colab": {
          "base_uri": "https://localhost:8080/",
          "height": 206
        },
        "id": "JqgzDlU1q2fG",
        "outputId": "cc33cfac-49a2-4560-e1c7-6c3afcdaf773"
      },
      "outputs": [
        {
          "data": {
            "text/html": [
              "<div>\n",
              "<style scoped>\n",
              "    .dataframe tbody tr th:only-of-type {\n",
              "        vertical-align: middle;\n",
              "    }\n",
              "\n",
              "    .dataframe tbody tr th {\n",
              "        vertical-align: top;\n",
              "    }\n",
              "\n",
              "    .dataframe thead th {\n",
              "        text-align: right;\n",
              "    }\n",
              "</style>\n",
              "<table border=\"1\" class=\"dataframe\">\n",
              "  <thead>\n",
              "    <tr style=\"text-align: right;\">\n",
              "      <th></th>\n",
              "      <th>Name</th>\n",
              "      <th>Age</th>\n",
              "      <th>City</th>\n",
              "    </tr>\n",
              "  </thead>\n",
              "  <tbody>\n",
              "    <tr>\n",
              "      <th>0</th>\n",
              "      <td>Alice</td>\n",
              "      <td>25</td>\n",
              "      <td>New York</td>\n",
              "    </tr>\n",
              "    <tr>\n",
              "      <th>1</th>\n",
              "      <td>Bob</td>\n",
              "      <td>30</td>\n",
              "      <td>Los Angeles</td>\n",
              "    </tr>\n",
              "    <tr>\n",
              "      <th>2</th>\n",
              "      <td>Charlie</td>\n",
              "      <td>35</td>\n",
              "      <td>Chicago</td>\n",
              "    </tr>\n",
              "    <tr>\n",
              "      <th>3</th>\n",
              "      <td>Dvid</td>\n",
              "      <td>40</td>\n",
              "      <td>Houston</td>\n",
              "    </tr>\n",
              "    <tr>\n",
              "      <th>4</th>\n",
              "      <td>Unknown</td>\n",
              "      <td>28</td>\n",
              "      <td>Miami</td>\n",
              "    </tr>\n",
              "  </tbody>\n",
              "</table>\n",
              "</div>"
            ],
            "text/plain": [
              "      Name  Age         City\n",
              "0    Alice   25     New York\n",
              "1      Bob   30  Los Angeles\n",
              "2  Charlie   35      Chicago\n",
              "3     Dvid   40      Houston\n",
              "4  Unknown   28        Miami"
            ]
          },
          "execution_count": 8,
          "metadata": {},
          "output_type": "execute_result"
        }
      ],
      "source": [
        "df = drop_extra_column(df)\n",
        "df = clean_names(df)\n",
        "df"
      ]
    },
    {
      "cell_type": "markdown",
      "metadata": {
        "id": "l8UxhfmRqNuO"
      },
      "source": [
        "### The below is how it would be setup in a seperate python file a `.py`\n",
        "\n",
        "We do add a function, that was not in the code above.\n",
        "\n",
        "```python\n",
        "def clean_data()\n",
        "```\n",
        "This just calls the 2 cleaning functions."
      ]
    },
    {
      "cell_type": "code",
      "execution_count": 9,
      "metadata": {
        "colab": {
          "base_uri": "https://localhost:8080/"
        },
        "id": "zVbVxTTgqBUY",
        "outputId": "4c812c2d-a81b-46cc-d03d-f976e99f06e5"
      },
      "outputs": [
        {
          "name": "stdout",
          "output_type": "stream",
          "text": [
            "Raw Data:\n",
            "       Name  Age         City ExtraColumn\n",
            "0    Alice   25     New York           X\n",
            "1      Bob   30  Los Angeles           Y\n",
            "2  Charlie   35      Chicago           Z\n",
            "3    D@vid   40      Houston           W\n",
            "4      NaN   28        Miami           V\n",
            "\n",
            "Cleaned Data:\n",
            "       Name  Age         City\n",
            "0    Alice   25     New York\n",
            "1      Bob   30  Los Angeles\n",
            "2  Charlie   35      Chicago\n",
            "3     Dvid   40      Houston\n",
            "4  Unknown   28        Miami\n"
          ]
        }
      ],
      "source": [
        "import pandas as pd\n",
        "import numpy as np\n",
        "\n",
        "\n",
        "def create_sample_data():\n",
        "    data = {\n",
        "        'Name': ['Alice', 'Bob', 'Charlie', 'D@vid', np.nan],\n",
        "        'Age': [25, 30, 35, 40, 28],\n",
        "        'City': ['New York', 'Los Angeles', 'Chicago', 'Houston', 'Miami'],\n",
        "        'ExtraColumn': ['X', 'Y', 'Z', 'W', 'V']\n",
        "    }\n",
        "    return pd.DataFrame(data)\n",
        "\n",
        "\n",
        "def drop_extra_column(df):\n",
        "    return df.drop(columns=['ExtraColumn'])\n",
        "\n",
        "\n",
        "def clean_names(df):\n",
        "    df['Name'] = df['Name'].fillna('Unknown')\n",
        "    df['Name'] = df['Name'].str.replace(r'[^a-zA-Z ]', '', regex=True)\n",
        "    return df\n",
        "\n",
        "\n",
        "def clean_data(df):\n",
        "    df = drop_extra_column(df)\n",
        "    df = clean_names(df)\n",
        "    return df\n",
        "\n",
        "\n",
        "if __name__ == \"__main__\":\n",
        "    raw_df = create_sample_data()\n",
        "    print(\"Raw Data:\\n\", raw_df)\n",
        "\n",
        "    cleaned_df = clean_data(raw_df)\n",
        "    print(\"\\nCleaned Data:\\n\", cleaned_df)\n"
      ]
    },
    {
      "cell_type": "markdown",
      "metadata": {
        "id": "9FOq87ZnzcCT"
      },
      "source": [
        "# recap\n",
        "\n",
        "That is technically fine we would be able to call the individual functions into a python file or notebook and run them.\n",
        "\n",
        "we would do:\n",
        "```python\n",
        "from file.name import drop_extra_column\n",
        "```\n",
        "\n",
        "Then each function we needed we could repeat that process.\n",
        "\n",
        "We could also, but should never do:\n",
        "```python\n",
        "from file.name import *\n",
        "```\n",
        "\n",
        "This would bring in all the functions but can cause problems."
      ]
    },
    {
      "cell_type": "markdown",
      "metadata": {
        "id": "ByyhOdVEA1-p"
      },
      "source": [
        "## This is how it would be made into a class"
      ]
    },
    {
      "cell_type": "markdown",
      "metadata": {
        "id": "uH5GVZArqM92"
      },
      "source": [
        "# Here is the cleaning as a class."
      ]
    },
    {
      "cell_type": "code",
      "execution_count": 10,
      "metadata": {
        "id": "28uuntVNrVGk"
      },
      "outputs": [],
      "source": [
        "class DataCleaner:\n",
        "    def __init__(self, df):\n",
        "        self.df = df.copy()\n",
        "\n",
        "    def drop_extra_column(self):\n",
        "        if 'ExtraColumn' in self.df.columns:\n",
        "            self.df = self.df.drop(columns=['ExtraColumn'])\n",
        "        return self.df\n",
        "\n",
        "    def clean_names(self):\n",
        "        self.df['Name'] = self.df['Name'].fillna('Unknown')\n",
        "        self.df['Name'] = self.df['Name'].str.replace(r'[^a-zA-Z ]', '', regex=True)\n",
        "        return self.df\n",
        "\n",
        "    def clean(self):\n",
        "        self.drop_extra_column()\n",
        "        self.clean_names()\n",
        "        return self.df\n"
      ]
    },
    {
      "cell_type": "code",
      "execution_count": 11,
      "metadata": {
        "colab": {
          "base_uri": "https://localhost:8080/",
          "height": 206
        },
        "id": "yNI-4I9rrbvs",
        "outputId": "a7d2388d-3ecd-4152-8634-b9db7da2909d"
      },
      "outputs": [
        {
          "data": {
            "text/html": [
              "<div>\n",
              "<style scoped>\n",
              "    .dataframe tbody tr th:only-of-type {\n",
              "        vertical-align: middle;\n",
              "    }\n",
              "\n",
              "    .dataframe tbody tr th {\n",
              "        vertical-align: top;\n",
              "    }\n",
              "\n",
              "    .dataframe thead th {\n",
              "        text-align: right;\n",
              "    }\n",
              "</style>\n",
              "<table border=\"1\" class=\"dataframe\">\n",
              "  <thead>\n",
              "    <tr style=\"text-align: right;\">\n",
              "      <th></th>\n",
              "      <th>Name</th>\n",
              "      <th>Age</th>\n",
              "      <th>City</th>\n",
              "      <th>ExtraColumn</th>\n",
              "    </tr>\n",
              "  </thead>\n",
              "  <tbody>\n",
              "    <tr>\n",
              "      <th>0</th>\n",
              "      <td>Alice</td>\n",
              "      <td>25</td>\n",
              "      <td>New York</td>\n",
              "      <td>X</td>\n",
              "    </tr>\n",
              "    <tr>\n",
              "      <th>1</th>\n",
              "      <td>Bob</td>\n",
              "      <td>30</td>\n",
              "      <td>Los Angeles</td>\n",
              "      <td>Y</td>\n",
              "    </tr>\n",
              "    <tr>\n",
              "      <th>2</th>\n",
              "      <td>Charlie</td>\n",
              "      <td>35</td>\n",
              "      <td>Chicago</td>\n",
              "      <td>Z</td>\n",
              "    </tr>\n",
              "    <tr>\n",
              "      <th>3</th>\n",
              "      <td>D@vid</td>\n",
              "      <td>40</td>\n",
              "      <td>Houston</td>\n",
              "      <td>W</td>\n",
              "    </tr>\n",
              "    <tr>\n",
              "      <th>4</th>\n",
              "      <td>NaN</td>\n",
              "      <td>28</td>\n",
              "      <td>Miami</td>\n",
              "      <td>V</td>\n",
              "    </tr>\n",
              "  </tbody>\n",
              "</table>\n",
              "</div>"
            ],
            "text/plain": [
              "      Name  Age         City ExtraColumn\n",
              "0    Alice   25     New York           X\n",
              "1      Bob   30  Los Angeles           Y\n",
              "2  Charlie   35      Chicago           Z\n",
              "3    D@vid   40      Houston           W\n",
              "4      NaN   28        Miami           V"
            ]
          },
          "execution_count": 11,
          "metadata": {},
          "output_type": "execute_result"
        }
      ],
      "source": [
        "# making a dataframe to use the class on\n",
        "class_clean = create_sample_data()\n",
        "class_clean"
      ]
    },
    {
      "cell_type": "markdown",
      "metadata": {
        "id": "NBZD8kL401Xb"
      },
      "source": [
        "- The first line instantiates the class (That’s just a fancy way of saying we’re creating an object from the class so we can use it)\n",
        "- In the second line, we’re calling the clean method (function, they are called methods now that its in a class) on the cleaner object using dot notation."
      ]
    },
    {
      "cell_type": "code",
      "execution_count": 12,
      "metadata": {
        "colab": {
          "base_uri": "https://localhost:8080/",
          "height": 206
        },
        "id": "YR2KJGyrrqio",
        "outputId": "b788daa5-3f22-4880-c300-4671f733640f"
      },
      "outputs": [
        {
          "data": {
            "text/html": [
              "<div>\n",
              "<style scoped>\n",
              "    .dataframe tbody tr th:only-of-type {\n",
              "        vertical-align: middle;\n",
              "    }\n",
              "\n",
              "    .dataframe tbody tr th {\n",
              "        vertical-align: top;\n",
              "    }\n",
              "\n",
              "    .dataframe thead th {\n",
              "        text-align: right;\n",
              "    }\n",
              "</style>\n",
              "<table border=\"1\" class=\"dataframe\">\n",
              "  <thead>\n",
              "    <tr style=\"text-align: right;\">\n",
              "      <th></th>\n",
              "      <th>Name</th>\n",
              "      <th>Age</th>\n",
              "      <th>City</th>\n",
              "    </tr>\n",
              "  </thead>\n",
              "  <tbody>\n",
              "    <tr>\n",
              "      <th>0</th>\n",
              "      <td>Alice</td>\n",
              "      <td>25</td>\n",
              "      <td>New York</td>\n",
              "    </tr>\n",
              "    <tr>\n",
              "      <th>1</th>\n",
              "      <td>Bob</td>\n",
              "      <td>30</td>\n",
              "      <td>Los Angeles</td>\n",
              "    </tr>\n",
              "    <tr>\n",
              "      <th>2</th>\n",
              "      <td>Charlie</td>\n",
              "      <td>35</td>\n",
              "      <td>Chicago</td>\n",
              "    </tr>\n",
              "    <tr>\n",
              "      <th>3</th>\n",
              "      <td>Dvid</td>\n",
              "      <td>40</td>\n",
              "      <td>Houston</td>\n",
              "    </tr>\n",
              "    <tr>\n",
              "      <th>4</th>\n",
              "      <td>Unknown</td>\n",
              "      <td>28</td>\n",
              "      <td>Miami</td>\n",
              "    </tr>\n",
              "  </tbody>\n",
              "</table>\n",
              "</div>"
            ],
            "text/plain": [
              "      Name  Age         City\n",
              "0    Alice   25     New York\n",
              "1      Bob   30  Los Angeles\n",
              "2  Charlie   35      Chicago\n",
              "3     Dvid   40      Houston\n",
              "4  Unknown   28        Miami"
            ]
          },
          "execution_count": 12,
          "metadata": {},
          "output_type": "execute_result"
        }
      ],
      "source": [
        "cleaner = DataCleaner(class_clean)\n",
        "class_clean = cleaner.clean()\n",
        "class_clean"
      ]
    },
    {
      "cell_type": "markdown",
      "metadata": {
        "id": "wNQClcHQBUIK"
      },
      "source": [
        "With this example we have to call the class then call the method we want to use fromt he class."
      ]
    },
    {
      "cell_type": "markdown",
      "metadata": {
        "id": "0mwVEFWG1Lz2"
      },
      "source": [
        "### we can add to the __init__() to make the clean method auto run the class on data"
      ]
    },
    {
      "cell_type": "code",
      "execution_count": 13,
      "metadata": {
        "id": "qzd14Dri1X3M"
      },
      "outputs": [],
      "source": [
        "class AutoDataCleaner:\n",
        "    def __init__(self, df):\n",
        "        self.df = df.copy()\n",
        "        self.clean()\n",
        "\n",
        "    def drop_extra_column(self):\n",
        "        if 'ExtraColumn' in self.df.columns:\n",
        "            self.df = self.df.drop(columns=['ExtraColumn'])\n",
        "        return self.df\n",
        "\n",
        "    def clean_names(self):\n",
        "        self.df['Name'] = self.df['Name'].fillna('Unknown')\n",
        "        self.df['Name'] = self.df['Name'].str.replace(r'[^a-zA-Z ]', '', regex=True)\n",
        "        return self.df\n",
        "\n",
        "    def clean(self):\n",
        "        self.drop_extra_column()\n",
        "        self.clean_names()\n",
        "        return self.df"
      ]
    },
    {
      "cell_type": "code",
      "execution_count": 14,
      "metadata": {
        "colab": {
          "base_uri": "https://localhost:8080/"
        },
        "id": "yddivG5A1dXn",
        "outputId": "26f90fc6-8ca5-4f48-cfab-94477910f7f3"
      },
      "outputs": [
        {
          "name": "stdout",
          "output_type": "stream",
          "text": [
            "This is the raw data \n",
            " \n",
            "       Name  Age         City ExtraColumn\n",
            "0    Alice   25     New York           X\n",
            "1      Bob   30  Los Angeles           Y\n",
            "2  Charlie   35      Chicago           Z\n",
            "3    D@vid   40      Houston           W\n",
            "4      NaN   28        Miami           V\n",
            " \n",
            "\n",
            "This is the cleaned data \n",
            "\n",
            "       Name  Age         City\n",
            "0    Alice   25     New York\n",
            "1      Bob   30  Los Angeles\n",
            "2  Charlie   35      Chicago\n",
            "3     Dvid   40      Houston\n",
            "4  Unknown   28        Miami\n"
          ]
        }
      ],
      "source": [
        "auto_clean = create_sample_data()\n",
        "print(f'This is the raw data \\n \\n {auto_clean}\\n \\n')\n",
        "\n",
        "auto_clean = AutoDataCleaner(auto_clean)\n",
        "print(f'This is the cleaned data \\n\\n {auto_clean.df}')"
      ]
    },
    {
      "cell_type": "markdown",
      "metadata": {
        "id": "5Kj2gJkatDzP"
      },
      "source": [
        "To call each function itself we have to take out the ` # self.clean()` like it was originally"
      ]
    },
    {
      "cell_type": "code",
      "execution_count": 15,
      "metadata": {
        "id": "Lx1ePzKJtDIv"
      },
      "outputs": [],
      "source": [
        "class DataCleaner:\n",
        "    def __init__(self, df):\n",
        "        self.df = df.copy()\n",
        "        # self.clean()\n",
        "\n",
        "    def drop_extra_column(self):\n",
        "        if 'ExtraColumn' in self.df.columns:\n",
        "            self.df = self.df.drop(columns=['ExtraColumn'])\n",
        "        return self.df\n",
        "\n",
        "    def clean_names(self):\n",
        "        self.df['Name'] = self.df['Name'].fillna('Unknown')\n",
        "        self.df['Name'] = self.df['Name'].str.replace(r'[^a-zA-Z ]', '', regex=True)\n",
        "        return self.df\n",
        "\n",
        "    def clean(self):\n",
        "        self.drop_extra_column()\n",
        "        self.clean_names()\n",
        "        return self.df\n"
      ]
    },
    {
      "cell_type": "code",
      "execution_count": 16,
      "metadata": {
        "colab": {
          "base_uri": "https://localhost:8080/",
          "height": 206
        },
        "id": "V85Dh1P4tHJW",
        "outputId": "b6112d82-89f8-4b07-f327-1d812506cec1"
      },
      "outputs": [
        {
          "data": {
            "text/html": [
              "<div>\n",
              "<style scoped>\n",
              "    .dataframe tbody tr th:only-of-type {\n",
              "        vertical-align: middle;\n",
              "    }\n",
              "\n",
              "    .dataframe tbody tr th {\n",
              "        vertical-align: top;\n",
              "    }\n",
              "\n",
              "    .dataframe thead th {\n",
              "        text-align: right;\n",
              "    }\n",
              "</style>\n",
              "<table border=\"1\" class=\"dataframe\">\n",
              "  <thead>\n",
              "    <tr style=\"text-align: right;\">\n",
              "      <th></th>\n",
              "      <th>Name</th>\n",
              "      <th>Age</th>\n",
              "      <th>City</th>\n",
              "      <th>ExtraColumn</th>\n",
              "    </tr>\n",
              "  </thead>\n",
              "  <tbody>\n",
              "    <tr>\n",
              "      <th>0</th>\n",
              "      <td>Alice</td>\n",
              "      <td>25</td>\n",
              "      <td>New York</td>\n",
              "      <td>X</td>\n",
              "    </tr>\n",
              "    <tr>\n",
              "      <th>1</th>\n",
              "      <td>Bob</td>\n",
              "      <td>30</td>\n",
              "      <td>Los Angeles</td>\n",
              "      <td>Y</td>\n",
              "    </tr>\n",
              "    <tr>\n",
              "      <th>2</th>\n",
              "      <td>Charlie</td>\n",
              "      <td>35</td>\n",
              "      <td>Chicago</td>\n",
              "      <td>Z</td>\n",
              "    </tr>\n",
              "    <tr>\n",
              "      <th>3</th>\n",
              "      <td>D@vid</td>\n",
              "      <td>40</td>\n",
              "      <td>Houston</td>\n",
              "      <td>W</td>\n",
              "    </tr>\n",
              "    <tr>\n",
              "      <th>4</th>\n",
              "      <td>NaN</td>\n",
              "      <td>28</td>\n",
              "      <td>Miami</td>\n",
              "      <td>V</td>\n",
              "    </tr>\n",
              "  </tbody>\n",
              "</table>\n",
              "</div>"
            ],
            "text/plain": [
              "      Name  Age         City ExtraColumn\n",
              "0    Alice   25     New York           X\n",
              "1      Bob   30  Los Angeles           Y\n",
              "2  Charlie   35      Chicago           Z\n",
              "3    D@vid   40      Houston           W\n",
              "4      NaN   28        Miami           V"
            ]
          },
          "execution_count": 16,
          "metadata": {},
          "output_type": "execute_result"
        }
      ],
      "source": [
        "class_clean = create_sample_data()\n",
        "class_clean"
      ]
    },
    {
      "cell_type": "code",
      "execution_count": 17,
      "metadata": {
        "colab": {
          "base_uri": "https://localhost:8080/",
          "height": 206
        },
        "id": "7YfPTguUtI2s",
        "outputId": "02271903-789b-4bf7-fd75-4e1844d0ece8"
      },
      "outputs": [
        {
          "data": {
            "text/html": [
              "<div>\n",
              "<style scoped>\n",
              "    .dataframe tbody tr th:only-of-type {\n",
              "        vertical-align: middle;\n",
              "    }\n",
              "\n",
              "    .dataframe tbody tr th {\n",
              "        vertical-align: top;\n",
              "    }\n",
              "\n",
              "    .dataframe thead th {\n",
              "        text-align: right;\n",
              "    }\n",
              "</style>\n",
              "<table border=\"1\" class=\"dataframe\">\n",
              "  <thead>\n",
              "    <tr style=\"text-align: right;\">\n",
              "      <th></th>\n",
              "      <th>Name</th>\n",
              "      <th>Age</th>\n",
              "      <th>City</th>\n",
              "      <th>ExtraColumn</th>\n",
              "    </tr>\n",
              "  </thead>\n",
              "  <tbody>\n",
              "    <tr>\n",
              "      <th>0</th>\n",
              "      <td>Alice</td>\n",
              "      <td>25</td>\n",
              "      <td>New York</td>\n",
              "      <td>X</td>\n",
              "    </tr>\n",
              "    <tr>\n",
              "      <th>1</th>\n",
              "      <td>Bob</td>\n",
              "      <td>30</td>\n",
              "      <td>Los Angeles</td>\n",
              "      <td>Y</td>\n",
              "    </tr>\n",
              "    <tr>\n",
              "      <th>2</th>\n",
              "      <td>Charlie</td>\n",
              "      <td>35</td>\n",
              "      <td>Chicago</td>\n",
              "      <td>Z</td>\n",
              "    </tr>\n",
              "    <tr>\n",
              "      <th>3</th>\n",
              "      <td>D@vid</td>\n",
              "      <td>40</td>\n",
              "      <td>Houston</td>\n",
              "      <td>W</td>\n",
              "    </tr>\n",
              "    <tr>\n",
              "      <th>4</th>\n",
              "      <td>NaN</td>\n",
              "      <td>28</td>\n",
              "      <td>Miami</td>\n",
              "      <td>V</td>\n",
              "    </tr>\n",
              "  </tbody>\n",
              "</table>\n",
              "</div>"
            ],
            "text/plain": [
              "      Name  Age         City ExtraColumn\n",
              "0    Alice   25     New York           X\n",
              "1      Bob   30  Los Angeles           Y\n",
              "2  Charlie   35      Chicago           Z\n",
              "3    D@vid   40      Houston           W\n",
              "4      NaN   28        Miami           V"
            ]
          },
          "execution_count": 17,
          "metadata": {},
          "output_type": "execute_result"
        }
      ],
      "source": [
        "cleaner = DataCleaner(class_clean)\n",
        "cleaner.df"
      ]
    },
    {
      "cell_type": "markdown",
      "metadata": {
        "id": "BxQW3XQzCg-q"
      },
      "source": [
        "## Step-by-Step Breakdown:\n",
        "### 1. DataCleaner(class_clean)\n",
        "This creates a new instance of the DataCleaner class.\n",
        "\n",
        "- It takes in a DataFrame (class_clean) and passes it to the class's __init__() method.\n",
        "\n",
        "- Inside __init__(), it makes a copy of that DataFrame and saves it to self.df\n",
        "\n",
        "- So now you have a DataCleaner object that has a copy of your original data inside it.\n",
        "\n",
        "\n",
        "### 2. cleaner = ...\n",
        "This stores the new DataCleaner object in the variable called cleaner.\n",
        "\n",
        "### 3. cleaner.df\n",
        "This accesses the .df attribute of the cleaner object — which is the cleaned (or original) DataFrame stored inside the class.\n",
        "\n",
        "## What This Lets You Do:\n",
        "- Now you can use methods like cleaner.drop_extra_column() or cleaner.clean_names().\n",
        "\n",
        "- Or, after doing those, just look at the data by typing cleaner.df.\n",
        "\n",
        "## In Simple Terms:\n",
        "You're making a helper object (cleaner) that knows how to clean your data, and then checking the current state of that data inside it using .df."
      ]
    },
    {
      "cell_type": "code",
      "execution_count": 18,
      "metadata": {
        "colab": {
          "base_uri": "https://localhost:8080/",
          "height": 206
        },
        "id": "tVuBN0GiDOAx",
        "outputId": "78294bf1-ca0b-4874-a70a-064361f05239"
      },
      "outputs": [
        {
          "data": {
            "text/html": [
              "<div>\n",
              "<style scoped>\n",
              "    .dataframe tbody tr th:only-of-type {\n",
              "        vertical-align: middle;\n",
              "    }\n",
              "\n",
              "    .dataframe tbody tr th {\n",
              "        vertical-align: top;\n",
              "    }\n",
              "\n",
              "    .dataframe thead th {\n",
              "        text-align: right;\n",
              "    }\n",
              "</style>\n",
              "<table border=\"1\" class=\"dataframe\">\n",
              "  <thead>\n",
              "    <tr style=\"text-align: right;\">\n",
              "      <th></th>\n",
              "      <th>Name</th>\n",
              "      <th>Age</th>\n",
              "      <th>City</th>\n",
              "    </tr>\n",
              "  </thead>\n",
              "  <tbody>\n",
              "    <tr>\n",
              "      <th>0</th>\n",
              "      <td>Alice</td>\n",
              "      <td>25</td>\n",
              "      <td>New York</td>\n",
              "    </tr>\n",
              "    <tr>\n",
              "      <th>1</th>\n",
              "      <td>Bob</td>\n",
              "      <td>30</td>\n",
              "      <td>Los Angeles</td>\n",
              "    </tr>\n",
              "    <tr>\n",
              "      <th>2</th>\n",
              "      <td>Charlie</td>\n",
              "      <td>35</td>\n",
              "      <td>Chicago</td>\n",
              "    </tr>\n",
              "    <tr>\n",
              "      <th>3</th>\n",
              "      <td>Dvid</td>\n",
              "      <td>40</td>\n",
              "      <td>Houston</td>\n",
              "    </tr>\n",
              "    <tr>\n",
              "      <th>4</th>\n",
              "      <td>Unknown</td>\n",
              "      <td>28</td>\n",
              "      <td>Miami</td>\n",
              "    </tr>\n",
              "  </tbody>\n",
              "</table>\n",
              "</div>"
            ],
            "text/plain": [
              "      Name  Age         City\n",
              "0    Alice   25     New York\n",
              "1      Bob   30  Los Angeles\n",
              "2  Charlie   35      Chicago\n",
              "3     Dvid   40      Houston\n",
              "4  Unknown   28        Miami"
            ]
          },
          "execution_count": 18,
          "metadata": {},
          "output_type": "execute_result"
        }
      ],
      "source": [
        "# now we can call methods on the cleaner dataframe\n",
        "cleaned_df = cleaner.clean()\n",
        "cleaned_df"
      ]
    },
    {
      "cell_type": "markdown",
      "metadata": {
        "id": "fifM6I3VtCnV"
      },
      "source": [
        "# usining only the column drop\n",
        "\n",
        "Calling a function from the class. We will assume we only want to drop columns."
      ]
    },
    {
      "cell_type": "code",
      "execution_count": 19,
      "metadata": {
        "colab": {
          "base_uri": "https://localhost:8080/",
          "height": 206
        },
        "id": "P---WBqvuQ5u",
        "outputId": "c5a7d97e-266d-44ad-b270-0e9ec46af3d2"
      },
      "outputs": [
        {
          "data": {
            "text/html": [
              "<div>\n",
              "<style scoped>\n",
              "    .dataframe tbody tr th:only-of-type {\n",
              "        vertical-align: middle;\n",
              "    }\n",
              "\n",
              "    .dataframe tbody tr th {\n",
              "        vertical-align: top;\n",
              "    }\n",
              "\n",
              "    .dataframe thead th {\n",
              "        text-align: right;\n",
              "    }\n",
              "</style>\n",
              "<table border=\"1\" class=\"dataframe\">\n",
              "  <thead>\n",
              "    <tr style=\"text-align: right;\">\n",
              "      <th></th>\n",
              "      <th>Name</th>\n",
              "      <th>Age</th>\n",
              "      <th>City</th>\n",
              "      <th>ExtraColumn</th>\n",
              "    </tr>\n",
              "  </thead>\n",
              "  <tbody>\n",
              "    <tr>\n",
              "      <th>0</th>\n",
              "      <td>Alice</td>\n",
              "      <td>25</td>\n",
              "      <td>New York</td>\n",
              "      <td>X</td>\n",
              "    </tr>\n",
              "    <tr>\n",
              "      <th>1</th>\n",
              "      <td>Bob</td>\n",
              "      <td>30</td>\n",
              "      <td>Los Angeles</td>\n",
              "      <td>Y</td>\n",
              "    </tr>\n",
              "    <tr>\n",
              "      <th>2</th>\n",
              "      <td>Charlie</td>\n",
              "      <td>35</td>\n",
              "      <td>Chicago</td>\n",
              "      <td>Z</td>\n",
              "    </tr>\n",
              "    <tr>\n",
              "      <th>3</th>\n",
              "      <td>D@vid</td>\n",
              "      <td>40</td>\n",
              "      <td>Houston</td>\n",
              "      <td>W</td>\n",
              "    </tr>\n",
              "    <tr>\n",
              "      <th>4</th>\n",
              "      <td>NaN</td>\n",
              "      <td>28</td>\n",
              "      <td>Miami</td>\n",
              "      <td>V</td>\n",
              "    </tr>\n",
              "  </tbody>\n",
              "</table>\n",
              "</div>"
            ],
            "text/plain": [
              "      Name  Age         City ExtraColumn\n",
              "0    Alice   25     New York           X\n",
              "1      Bob   30  Los Angeles           Y\n",
              "2  Charlie   35      Chicago           Z\n",
              "3    D@vid   40      Houston           W\n",
              "4      NaN   28        Miami           V"
            ]
          },
          "execution_count": 19,
          "metadata": {},
          "output_type": "execute_result"
        }
      ],
      "source": [
        "col_test = create_sample_data()\n",
        "col_test"
      ]
    },
    {
      "cell_type": "markdown",
      "metadata": {
        "id": "1KY7Rn5RxzyD"
      },
      "source": [
        "The first line instantiates the class. That’s just a fancy way of saying we’re creating an object from the class so we can use it. In the second line, we’re calling the drop_extra_column method on the cleaner object using dot notation."
      ]
    },
    {
      "cell_type": "code",
      "execution_count": 20,
      "metadata": {
        "colab": {
          "base_uri": "https://localhost:8080/",
          "height": 206
        },
        "id": "AvabFSp4ucU2",
        "outputId": "12641693-b203-4ff4-ea07-597e5a278c28"
      },
      "outputs": [
        {
          "data": {
            "text/html": [
              "<div>\n",
              "<style scoped>\n",
              "    .dataframe tbody tr th:only-of-type {\n",
              "        vertical-align: middle;\n",
              "    }\n",
              "\n",
              "    .dataframe tbody tr th {\n",
              "        vertical-align: top;\n",
              "    }\n",
              "\n",
              "    .dataframe thead th {\n",
              "        text-align: right;\n",
              "    }\n",
              "</style>\n",
              "<table border=\"1\" class=\"dataframe\">\n",
              "  <thead>\n",
              "    <tr style=\"text-align: right;\">\n",
              "      <th></th>\n",
              "      <th>Name</th>\n",
              "      <th>Age</th>\n",
              "      <th>City</th>\n",
              "    </tr>\n",
              "  </thead>\n",
              "  <tbody>\n",
              "    <tr>\n",
              "      <th>0</th>\n",
              "      <td>Alice</td>\n",
              "      <td>25</td>\n",
              "      <td>New York</td>\n",
              "    </tr>\n",
              "    <tr>\n",
              "      <th>1</th>\n",
              "      <td>Bob</td>\n",
              "      <td>30</td>\n",
              "      <td>Los Angeles</td>\n",
              "    </tr>\n",
              "    <tr>\n",
              "      <th>2</th>\n",
              "      <td>Charlie</td>\n",
              "      <td>35</td>\n",
              "      <td>Chicago</td>\n",
              "    </tr>\n",
              "    <tr>\n",
              "      <th>3</th>\n",
              "      <td>D@vid</td>\n",
              "      <td>40</td>\n",
              "      <td>Houston</td>\n",
              "    </tr>\n",
              "    <tr>\n",
              "      <th>4</th>\n",
              "      <td>NaN</td>\n",
              "      <td>28</td>\n",
              "      <td>Miami</td>\n",
              "    </tr>\n",
              "  </tbody>\n",
              "</table>\n",
              "</div>"
            ],
            "text/plain": [
              "      Name  Age         City\n",
              "0    Alice   25     New York\n",
              "1      Bob   30  Los Angeles\n",
              "2  Charlie   35      Chicago\n",
              "3    D@vid   40      Houston\n",
              "4      NaN   28        Miami"
            ]
          },
          "execution_count": 20,
          "metadata": {},
          "output_type": "execute_result"
        }
      ],
      "source": [
        "cleaner = DataCleaner(col_test)\n",
        "col_test = cleaner.drop_extra_column()\n",
        "col_test"
      ]
    },
    {
      "cell_type": "markdown",
      "metadata": {
        "id": "8Kxnig-Q2zvc"
      },
      "source": [
        "The benefit of writing code using classes instead of just standalone functions lies in the flexibility and organization classes provide. With a class, you can bundle related functions (methods) and the data they operate on (attributes) together, making your code more modular and easier to manage.\n",
        "\n",
        "For example, you can call the whole class to perform a complete cleaning process, or you can call individual methods to perform specific tasks as needed. This makes the code reusable, flexible, and better organized.\n"
      ]
    },
    {
      "cell_type": "markdown",
      "metadata": {
        "id": "_vItCSII4Htx"
      },
      "source": [
        "# The final boss!\n",
        "\n",
        "Adding the doc string and type hinting!"
      ]
    },
    {
      "cell_type": "code",
      "execution_count": 21,
      "metadata": {
        "id": "vmz_2bJL4E9W"
      },
      "outputs": [],
      "source": [
        "import pandas as pd\n",
        "\n",
        "class DataCleaner:\n",
        "    \"\"\"\n",
        "    A class for cleaning a pandas DataFrame by removing extra columns\n",
        "    and cleaning values in the 'Name' column.\n",
        "    \"\"\"\n",
        "\n",
        "    def __init__(self, df: pd.DataFrame):\n",
        "        \"\"\"\n",
        "        Initialize the DataCleaner with a DataFrame.\n",
        "\n",
        "        Args:\n",
        "            df (pd.DataFrame): The input DataFrame to be cleaned.\n",
        "        \"\"\"\n",
        "        self.df: pd.DataFrame = df.copy()\n",
        "\n",
        "    def drop_extra_column(self) -> pd.DataFrame:\n",
        "        \"\"\"\n",
        "        Drops the 'ExtraColumn' from the DataFrame if it exists.\n",
        "\n",
        "        Returns:\n",
        "            pd.DataFrame: The updated DataFrame without 'ExtraColumn'.\n",
        "        \"\"\"\n",
        "        if 'ExtraColumn' in self.df.columns:\n",
        "            self.df = self.df.drop(columns=['ExtraColumn'])\n",
        "        return self.df\n",
        "\n",
        "    def clean_names(self) -> pd.DataFrame:\n",
        "        \"\"\"\n",
        "        Cleans the 'Name' column by:\n",
        "        - Filling missing values with 'Unknown'\n",
        "        - Removing any characters that are not letters or spaces\n",
        "\n",
        "        Returns:\n",
        "            pd.DataFrame: The updated DataFrame with cleaned 'Name' values.\n",
        "        \"\"\"\n",
        "        self.df['Name'] = self.df['Name'].fillna('Unknown')\n",
        "        self.df['Name'] = self.df['Name'].str.replace(r'[^a-zA-Z ]', '', regex=True)\n",
        "        return self.df\n",
        "\n",
        "    def clean(self) -> pd.DataFrame:\n",
        "        \"\"\"\n",
        "        Applies all cleaning steps:\n",
        "        - Drops 'ExtraColumn'\n",
        "        - Cleans the 'Name' column\n",
        "\n",
        "        Returns:\n",
        "            pd.DataFrame: The fully cleaned DataFrame.\n",
        "        \"\"\"\n",
        "        self.drop_extra_column()\n",
        "        self.clean_names()\n",
        "        return self.df\n"
      ]
    },
    {
      "cell_type": "code",
      "execution_count": 22,
      "metadata": {
        "id": "VnurIVFX4ROK"
      },
      "outputs": [
        {
          "name": "stdout",
          "output_type": "stream",
          "text": [
            "\u001b[31mInit signature:\u001b[39m DataCleaner(df: pandas.core.frame.DataFrame)\n",
            "\u001b[31mDocstring:\u001b[39m     \n",
            "A class for cleaning a pandas DataFrame by removing extra columns\n",
            "and cleaning values in the 'Name' column.\n",
            "\u001b[31mInit docstring:\u001b[39m\n",
            "Initialize the DataCleaner with a DataFrame.\n",
            "\n",
            "Args:\n",
            "    df (pd.DataFrame): The input DataFrame to be cleaned.\n",
            "\u001b[31mType:\u001b[39m           type\n",
            "\u001b[31mSubclasses:\u001b[39m     "
          ]
        }
      ],
      "source": [
        "DataCleaner?"
      ]
    },
    {
      "cell_type": "code",
      "execution_count": 23,
      "metadata": {
        "id": "NVwe0aOk5GiY"
      },
      "outputs": [],
      "source": [
        "df = create_sample_data()\n",
        "cleaner = DataCleaner(df)"
      ]
    },
    {
      "cell_type": "code",
      "execution_count": 24,
      "metadata": {
        "id": "_rGubUrP4w-K"
      },
      "outputs": [
        {
          "name": "stdout",
          "output_type": "stream",
          "text": [
            "\u001b[31mSignature:\u001b[39m cleaner.drop_extra_column() -> pandas.core.frame.DataFrame\n",
            "\u001b[31mDocstring:\u001b[39m\n",
            "Drops the 'ExtraColumn' from the DataFrame if it exists.\n",
            "\n",
            "Returns:\n",
            "    pd.DataFrame: The updated DataFrame without 'ExtraColumn'.\n",
            "\u001b[31mFile:\u001b[39m      /var/folders/2d/yt4_w6zn5pbfjg_jx5sdmm180000gn/T/ipykernel_67974/59002941.py\n",
            "\u001b[31mType:\u001b[39m      method"
          ]
        }
      ],
      "source": [
        "cleaner.drop_extra_column?"
      ]
    },
    {
      "cell_type": "markdown",
      "metadata": {
        "id": "qPjjTYCT53t1"
      },
      "source": [
        "## What This Code Did:\n",
        "By adding docstrings (the triple-quoted text under each method and class) and type hints, you made your code self-documenting.\n",
        "\n",
        "## What \"self-documenting\" means:\n",
        "- You don’t need to read the source code to understand what each method does.\n",
        "- Anyone (including future-you) can:\n",
        "- Hover over methods in an IDE (like VS Code)\n",
        "- Use ? in a notebook (e.g., cleaner.drop_extra_column?)\n",
        "-Instantly see:\n",
        "\n",
        "  - What the method does\n",
        "  - What arguments it expects\n",
        "  - What type of data it returns\n",
        "\n",
        "## Example:\n",
        "When you type:\n",
        "\n",
        "```python\n",
        "cleaner.drop_extra_column?\n",
        "```\n",
        "\n",
        "You now see something like:\n",
        "\n",
        "```sql\n",
        "Signature: cleaner.drop_extra_column()\n",
        "Docstring: Drops the 'ExtraColumn' from the DataFrame if it exists.\n",
        "\n",
        "Returns:\n",
        "    pd.DataFrame: The updated DataFrame without 'ExtraColumn'.\n",
        "```\n",
        "\n",
        "Without even opening the file or reading the code, this tells you:\n",
        "- What the method does\n",
        "- That it doesn’t need any arguments\n",
        "- That it gives you back a cleaned DataFrame\n",
        "\n",
        "\n",
        "## Why It’s Useful:\n",
        "\n",
        "- Great for teamwork\n",
        "- Others can easily use your class without asking questions\n",
        "- Helps in debugging and testing... you know what to expect\n",
        "- Makes code more professional and maintainable\n",
        "- Some tools (like Sphinx or MkDocs) can even turn these docstrings into full documentation websites\n",
        "\n"
      ]
    }
  ],
  "metadata": {
    "colab": {
      "provenance": []
    },
    "kernelspec": {
      "display_name": "venv",
      "language": "python",
      "name": "python3"
    },
    "language_info": {
      "codemirror_mode": {
        "name": "ipython",
        "version": 3
      },
      "file_extension": ".py",
      "mimetype": "text/x-python",
      "name": "python",
      "nbconvert_exporter": "python",
      "pygments_lexer": "ipython3",
      "version": "3.12.2"
    }
  },
  "nbformat": 4,
  "nbformat_minor": 0
}
