{
  "cells": [
    {
      "cell_type": "markdown",
      "metadata": {},
      "source": [
        "# Introduction to Testing in Python\n",
        "\n",
        "In professional software development, testing is a fundamental practice. Especially when using Test-Driven Development (TDD). In TDD, developers often start by writing tests that define how the code should behave before the actual implementation begins. This approach not only helps ensure the code functions correctly but also promotes thoughtful design and helps catch edge cases early.\n",
        "\n",
        "\n",
        "As a new developer, it's common to be handed a set of tests and be asked to write code that passes them. This reverses the typical approach of \"write code, then test it\" and reinforces writing reliable, maintainable code from the start.\n",
        "\n",
        "In this section, we’ll explore three key approaches to testing in Python:\n",
        "\n",
        "- Testing with pandas: Since many data workflows use pandas, we’ll cover how to test dataframes and common patterns for validating data outputs.\n",
        "\n",
        "- unittest: Python’s built-in testing framework, widely used for creating structured, class-based test cases.\n",
        "\n",
        "- pytest: A powerful and more flexible testing tool that supports simpler syntax, fixtures, and detailed failure reporting.\n",
        "\n",
        "\n",
        "By understanding these tools and techniques, you'll be better prepared to work in real-world codebases, where automated testing is essential for ensuring software quality and reliability.\n",
        "\n",
        "---\n"
      ]
    },
    {
      "cell_type": "markdown",
      "metadata": {
        "id": "D5YsltiAbuwc"
      },
      "source": [
        "### **Table of Contents**\n",
        "* [Tests using Pandas Tests](#tests-using-pandas-tests)\n",
        "  * [What This Code Does Overall](#what-this-code-does-overall)\n",
        "  * [Function-by-Function](#function-by-function)\n",
        "* [Summary](#summary)\n",
        "* [Testing Time Using Pandas Testing](#testing-time-using-pandas-testing)\n",
        "  * [Defining the test data generator function](#defining-the-test-data-generator-function)\n",
        "  * [Demonstrating `prepare_dataframe_for_melt`](#demonstrating-prepare_dataframe_for_melt)\n",
        "  * [Demonstrating `unpivot_classes_to_rows`](#demonstrating-unpivot_classes_to_rows)\n",
        "  * [Demonstrating `_explode_grades_list`](#demonstrating-_explode_grades_list)\n",
        "  * [Demonstrating `add_assignment_numbers`](#demonstrating-add_assignment_numbers)\n",
        "* [A look at different tests](#a-look-at-different-tests)\n",
        "* [Unit testing](#unit-testing)\n",
        "  * [What Are Unit Tests?](#what-are-unit-tests)\n",
        "  * [This first test will fail](#this-first-test-will-fail)\n",
        "  * [Why the Tests Failed (Short + Clear)](#why-the-tests-failed-short--clear)\n",
        "  * [Why This Matters in Development](#why-this-matters-in-development)\n",
        "  * [We have 3 things to fix and now have to edit the function to no longer break.](#we-have-3-things-to-fix-and-now-have-to-edit-the-function-to-no-longer-break)\n",
        "  * [**Fix 1:** dtype mismatch in test_basic_explosion](#fix-1-dtype-mismatch-in-test_basic_explosion)\n",
        "  * [Fix 2: Error message mismatch in test_missing_grades_column_raises_error](#fix-2-error-message-mismatch-in-test_missing_grades_column_raises_error)\n",
        "  * [Fix 3: test_with_empty_list unexpected row](#fix-3-test_with_empty_list-unexpected-row)\n",
        "* [corrected function example](#corrected-function-example)\n",
        "* [working Unit test](#working-unit-test)\n",
        "* [pytest](#pytest)\n",
        "  * [How pytest Differs from Other Testing Approaches](#how-pytest-differs-from-other-testing-approaches)\n",
        "  * [Why pytest Needs a Separate File](#why-pytest-needs-a-separate-file)\n",
        "  * [How We Got pytest Working in a Notebook](#how-we-got-pytest-working-in-a-notebook)"
      ]
    },
    {
      "cell_type": "markdown",
      "metadata": {
        "id": "04HWOx1rYjE5"
      },
      "source": [
        "# Tests using Pandas Tests\n",
        "\n",
        "We're going to dive into unit testing. Unit tests are small, focused tests that verify individual parts of your code (often functions or methods) to make sure they behave as expected.\n",
        "\n",
        "[Documentation For Functions](https://pandas.pydata.org/docs/reference/testing.html)"
      ]
    },
    {
      "cell_type": "code",
      "execution_count": 2,
      "metadata": {
        "id": "PjHj7Ti3bBz6"
      },
      "outputs": [],
      "source": [
        "import random\n",
        "import json\n",
        "import pandas as pd\n",
        "import pandas.testing as pd_testing\n"
      ]
    },
    {
      "cell_type": "markdown",
      "metadata": {
        "id": "rk7i4HzQDriW"
      },
      "source": [
        "#### Making our Data\n",
        "In this example, we're setting up some fake test data. We're using the `random` module to generate different grades each time the function runs. This simulates a dynamic data environment. Similar to what you'd see in production, rather than relying on a fixed dataset. Testing with changing data helps ensure our code is flexible, not just tuned to pass one static scenario."
      ]
    },
    {
      "cell_type": "code",
      "execution_count": 3,
      "metadata": {
        "id": "Ol5gU_GYT-6b"
      },
      "outputs": [],
      "source": [
        "def generate_gradebook_dataset():\n",
        "    \"\"\"\n",
        "    Generates a dataset of student grades for multiple classes.\n",
        "\n",
        "    The dataset includes 6 classes, 10 students per class, and 10\n",
        "    randomly generated grades (between 60 and 100) for each student\n",
        "    in each class.\n",
        "\n",
        "    Returns:\n",
        "        dict: A nested dictionary representing the gradebook.\n",
        "              Format: {className: {studentName: [grades]}}\n",
        "    \"\"\"\n",
        "    # Set Parameters for the data\n",
        "    NUM_STUDENTS = 10\n",
        "    NUM_CLASSES = 6\n",
        "    NUM_ASSIGNMENTS = 10\n",
        "    MIN_GRADE = 60\n",
        "    MAX_GRADE = 100\n",
        "\n",
        "    # Set The student Names\n",
        "    student_names = [\n",
        "        \"Liam Smith\", \"Olivia Johnson\", \"Noah Williams\", \"Emma Brown\",\n",
        "        \"Oliver Jones\", \"Ava Garcia\", \"Elijah Miller\", \"Sophia Davis\",\n",
        "        \"James Rodriguez\", \"Isabella Martinez\"]\n",
        "\n",
        "    # List of class subjects\n",
        "    class_names = [\n",
        "        \"Algebra II\", \"American Literature\", \"Biology\",\n",
        "        \"World History\", \"Chemistry\", \"Art History\"]\n",
        "\n",
        "    # Define deict\n",
        "    school_grades = {}\n",
        "\n",
        "    print(\"Generating gradebook dataset...\")\n",
        "\n",
        "    # Iterate through each class\n",
        "    for class_name in class_names:\n",
        "        class_grades = {}\n",
        "        for student_name in student_names:\n",
        "            assignment_grades = [random.randint(MIN_GRADE, MAX_GRADE) for _ in range(NUM_ASSIGNMENTS)]\n",
        "            class_grades[student_name] = assignment_grades\n",
        "\n",
        "        school_grades[class_name] = class_grades\n",
        "\n",
        "    print(\"Dataset generation complete.\")\n",
        "    return school_grades\n"
      ]
    },
    {
      "cell_type": "code",
      "execution_count": 4,
      "metadata": {
        "colab": {
          "base_uri": "https://localhost:8080/",
          "height": 399
        },
        "id": "tWAzuG8pa-oq",
        "outputId": "2474d62a-d430-4eff-d54c-64abdd40fef9"
      },
      "outputs": [
        {
          "name": "stdout",
          "output_type": "stream",
          "text": [
            "Generating gradebook dataset...\n",
            "Dataset generation complete.\n"
          ]
        },
        {
          "data": {
            "text/html": [
              "<div>\n",
              "<style scoped>\n",
              "    .dataframe tbody tr th:only-of-type {\n",
              "        vertical-align: middle;\n",
              "    }\n",
              "\n",
              "    .dataframe tbody tr th {\n",
              "        vertical-align: top;\n",
              "    }\n",
              "\n",
              "    .dataframe thead th {\n",
              "        text-align: right;\n",
              "    }\n",
              "</style>\n",
              "<table border=\"1\" class=\"dataframe\">\n",
              "  <thead>\n",
              "    <tr style=\"text-align: right;\">\n",
              "      <th></th>\n",
              "      <th>Algebra II</th>\n",
              "      <th>American Literature</th>\n",
              "      <th>Biology</th>\n",
              "      <th>World History</th>\n",
              "      <th>Chemistry</th>\n",
              "      <th>Art History</th>\n",
              "    </tr>\n",
              "  </thead>\n",
              "  <tbody>\n",
              "    <tr>\n",
              "      <th>Liam Smith</th>\n",
              "      <td>[79, 94, 68, 86, 93, 66, 67, 75, 66, 87]</td>\n",
              "      <td>[69, 82, 71, 95, 72, 65, 69, 62, 93, 91]</td>\n",
              "      <td>[61, 98, 95, 89, 63, 68, 91, 82, 83, 78]</td>\n",
              "      <td>[84, 82, 82, 61, 79, 90, 84, 71, 67, 63]</td>\n",
              "      <td>[96, 69, 93, 67, 81, 82, 99, 89, 63, 97]</td>\n",
              "      <td>[93, 63, 64, 80, 79, 100, 67, 80, 80, 73]</td>\n",
              "    </tr>\n",
              "    <tr>\n",
              "      <th>Olivia Johnson</th>\n",
              "      <td>[70, 98, 70, 65, 71, 97, 94, 80, 82, 80]</td>\n",
              "      <td>[99, 89, 67, 65, 63, 88, 99, 63, 66, 85]</td>\n",
              "      <td>[65, 86, 65, 71, 71, 97, 91, 60, 73, 95]</td>\n",
              "      <td>[100, 66, 79, 88, 76, 66, 89, 77, 75, 79]</td>\n",
              "      <td>[98, 94, 85, 73, 97, 86, 76, 67, 92, 100]</td>\n",
              "      <td>[60, 84, 62, 66, 81, 86, 74, 69, 91, 63]</td>\n",
              "    </tr>\n",
              "    <tr>\n",
              "      <th>Noah Williams</th>\n",
              "      <td>[78, 92, 63, 95, 90, 74, 87, 62, 90, 98]</td>\n",
              "      <td>[83, 97, 98, 89, 99, 88, 94, 70, 88, 85]</td>\n",
              "      <td>[64, 71, 79, 79, 96, 72, 98, 67, 89, 84]</td>\n",
              "      <td>[88, 96, 92, 68, 73, 83, 67, 70, 65, 100]</td>\n",
              "      <td>[85, 86, 92, 91, 93, 83, 96, 72, 65, 79]</td>\n",
              "      <td>[63, 80, 75, 100, 98, 88, 68, 93, 100, 88]</td>\n",
              "    </tr>\n",
              "    <tr>\n",
              "      <th>Emma Brown</th>\n",
              "      <td>[67, 61, 87, 70, 65, 93, 76, 75, 86, 74]</td>\n",
              "      <td>[94, 66, 72, 91, 60, 92, 76, 60, 91, 82]</td>\n",
              "      <td>[86, 73, 80, 62, 72, 87, 76, 95, 65, 62]</td>\n",
              "      <td>[72, 86, 92, 91, 65, 80, 66, 72, 83, 74]</td>\n",
              "      <td>[86, 82, 60, 84, 83, 66, 92, 86, 60, 71]</td>\n",
              "      <td>[93, 96, 80, 66, 70, 90, 91, 97, 65, 76]</td>\n",
              "    </tr>\n",
              "    <tr>\n",
              "      <th>Oliver Jones</th>\n",
              "      <td>[73, 86, 81, 96, 66, 75, 87, 95, 97, 70]</td>\n",
              "      <td>[64, 83, 97, 74, 67, 85, 98, 86, 85, 93]</td>\n",
              "      <td>[71, 60, 69, 98, 88, 63, 72, 69, 61, 94]</td>\n",
              "      <td>[95, 65, 72, 75, 84, 98, 89, 74, 85, 86]</td>\n",
              "      <td>[75, 95, 92, 83, 67, 86, 77, 83, 91, 96]</td>\n",
              "      <td>[62, 78, 77, 75, 100, 64, 80, 61, 94, 93]</td>\n",
              "    </tr>\n",
              "    <tr>\n",
              "      <th>Ava Garcia</th>\n",
              "      <td>[74, 89, 85, 90, 87, 62, 100, 73, 70, 85]</td>\n",
              "      <td>[84, 93, 60, 82, 94, 87, 87, 95, 86, 95]</td>\n",
              "      <td>[88, 74, 93, 98, 72, 97, 87, 88, 60, 80]</td>\n",
              "      <td>[89, 80, 86, 96, 66, 77, 95, 91, 87, 65]</td>\n",
              "      <td>[82, 91, 61, 96, 76, 78, 68, 93, 67, 75]</td>\n",
              "      <td>[83, 100, 87, 90, 61, 72, 98, 82, 62, 72]</td>\n",
              "    </tr>\n",
              "    <tr>\n",
              "      <th>Elijah Miller</th>\n",
              "      <td>[84, 78, 62, 88, 65, 100, 72, 62, 62, 60]</td>\n",
              "      <td>[79, 90, 81, 79, 79, 89, 74, 62, 70, 68]</td>\n",
              "      <td>[68, 73, 75, 78, 63, 65, 64, 71, 65, 71]</td>\n",
              "      <td>[84, 74, 87, 72, 90, 83, 84, 70, 92, 83]</td>\n",
              "      <td>[89, 81, 84, 83, 68, 63, 66, 78, 93, 73]</td>\n",
              "      <td>[72, 97, 67, 97, 62, 73, 66, 64, 69, 64]</td>\n",
              "    </tr>\n",
              "    <tr>\n",
              "      <th>Sophia Davis</th>\n",
              "      <td>[60, 89, 70, 60, 61, 73, 76, 70, 60, 83]</td>\n",
              "      <td>[65, 100, 71, 88, 97, 80, 72, 99, 66, 97]</td>\n",
              "      <td>[68, 88, 74, 76, 76, 89, 86, 71, 72, 61]</td>\n",
              "      <td>[77, 76, 88, 60, 87, 82, 66, 89, 61, 81]</td>\n",
              "      <td>[79, 66, 90, 69, 71, 72, 76, 88, 82, 87]</td>\n",
              "      <td>[99, 73, 71, 88, 88, 77, 61, 88, 64, 81]</td>\n",
              "    </tr>\n",
              "    <tr>\n",
              "      <th>James Rodriguez</th>\n",
              "      <td>[84, 91, 69, 60, 91, 67, 76, 74, 64, 64]</td>\n",
              "      <td>[80, 91, 91, 72, 65, 80, 80, 73, 91, 90]</td>\n",
              "      <td>[81, 93, 80, 95, 79, 74, 61, 63, 70, 97]</td>\n",
              "      <td>[90, 62, 91, 64, 88, 96, 61, 92, 97, 80]</td>\n",
              "      <td>[93, 66, 96, 88, 62, 97, 84, 98, 66, 84]</td>\n",
              "      <td>[75, 78, 95, 63, 68, 77, 74, 63, 63, 69]</td>\n",
              "    </tr>\n",
              "    <tr>\n",
              "      <th>Isabella Martinez</th>\n",
              "      <td>[86, 74, 63, 73, 91, 76, 84, 70, 80, 63]</td>\n",
              "      <td>[70, 84, 82, 91, 95, 97, 74, 95, 64, 75]</td>\n",
              "      <td>[87, 64, 90, 97, 67, 90, 90, 87, 68, 74]</td>\n",
              "      <td>[76, 68, 75, 61, 64, 100, 65, 72, 84, 70]</td>\n",
              "      <td>[76, 66, 82, 82, 100, 64, 83, 77, 92, 70]</td>\n",
              "      <td>[76, 91, 70, 74, 75, 60, 82, 81, 86, 91]</td>\n",
              "    </tr>\n",
              "  </tbody>\n",
              "</table>\n",
              "</div>"
            ],
            "text/plain": [
              "                                                  Algebra II  \\\n",
              "Liam Smith          [79, 94, 68, 86, 93, 66, 67, 75, 66, 87]   \n",
              "Olivia Johnson      [70, 98, 70, 65, 71, 97, 94, 80, 82, 80]   \n",
              "Noah Williams       [78, 92, 63, 95, 90, 74, 87, 62, 90, 98]   \n",
              "Emma Brown          [67, 61, 87, 70, 65, 93, 76, 75, 86, 74]   \n",
              "Oliver Jones        [73, 86, 81, 96, 66, 75, 87, 95, 97, 70]   \n",
              "Ava Garcia         [74, 89, 85, 90, 87, 62, 100, 73, 70, 85]   \n",
              "Elijah Miller      [84, 78, 62, 88, 65, 100, 72, 62, 62, 60]   \n",
              "Sophia Davis        [60, 89, 70, 60, 61, 73, 76, 70, 60, 83]   \n",
              "James Rodriguez     [84, 91, 69, 60, 91, 67, 76, 74, 64, 64]   \n",
              "Isabella Martinez   [86, 74, 63, 73, 91, 76, 84, 70, 80, 63]   \n",
              "\n",
              "                                         American Literature  \\\n",
              "Liam Smith          [69, 82, 71, 95, 72, 65, 69, 62, 93, 91]   \n",
              "Olivia Johnson      [99, 89, 67, 65, 63, 88, 99, 63, 66, 85]   \n",
              "Noah Williams       [83, 97, 98, 89, 99, 88, 94, 70, 88, 85]   \n",
              "Emma Brown          [94, 66, 72, 91, 60, 92, 76, 60, 91, 82]   \n",
              "Oliver Jones        [64, 83, 97, 74, 67, 85, 98, 86, 85, 93]   \n",
              "Ava Garcia          [84, 93, 60, 82, 94, 87, 87, 95, 86, 95]   \n",
              "Elijah Miller       [79, 90, 81, 79, 79, 89, 74, 62, 70, 68]   \n",
              "Sophia Davis       [65, 100, 71, 88, 97, 80, 72, 99, 66, 97]   \n",
              "James Rodriguez     [80, 91, 91, 72, 65, 80, 80, 73, 91, 90]   \n",
              "Isabella Martinez   [70, 84, 82, 91, 95, 97, 74, 95, 64, 75]   \n",
              "\n",
              "                                                    Biology  \\\n",
              "Liam Smith         [61, 98, 95, 89, 63, 68, 91, 82, 83, 78]   \n",
              "Olivia Johnson     [65, 86, 65, 71, 71, 97, 91, 60, 73, 95]   \n",
              "Noah Williams      [64, 71, 79, 79, 96, 72, 98, 67, 89, 84]   \n",
              "Emma Brown         [86, 73, 80, 62, 72, 87, 76, 95, 65, 62]   \n",
              "Oliver Jones       [71, 60, 69, 98, 88, 63, 72, 69, 61, 94]   \n",
              "Ava Garcia         [88, 74, 93, 98, 72, 97, 87, 88, 60, 80]   \n",
              "Elijah Miller      [68, 73, 75, 78, 63, 65, 64, 71, 65, 71]   \n",
              "Sophia Davis       [68, 88, 74, 76, 76, 89, 86, 71, 72, 61]   \n",
              "James Rodriguez    [81, 93, 80, 95, 79, 74, 61, 63, 70, 97]   \n",
              "Isabella Martinez  [87, 64, 90, 97, 67, 90, 90, 87, 68, 74]   \n",
              "\n",
              "                                               World History  \\\n",
              "Liam Smith          [84, 82, 82, 61, 79, 90, 84, 71, 67, 63]   \n",
              "Olivia Johnson     [100, 66, 79, 88, 76, 66, 89, 77, 75, 79]   \n",
              "Noah Williams      [88, 96, 92, 68, 73, 83, 67, 70, 65, 100]   \n",
              "Emma Brown          [72, 86, 92, 91, 65, 80, 66, 72, 83, 74]   \n",
              "Oliver Jones        [95, 65, 72, 75, 84, 98, 89, 74, 85, 86]   \n",
              "Ava Garcia          [89, 80, 86, 96, 66, 77, 95, 91, 87, 65]   \n",
              "Elijah Miller       [84, 74, 87, 72, 90, 83, 84, 70, 92, 83]   \n",
              "Sophia Davis        [77, 76, 88, 60, 87, 82, 66, 89, 61, 81]   \n",
              "James Rodriguez     [90, 62, 91, 64, 88, 96, 61, 92, 97, 80]   \n",
              "Isabella Martinez  [76, 68, 75, 61, 64, 100, 65, 72, 84, 70]   \n",
              "\n",
              "                                                   Chemistry  \\\n",
              "Liam Smith          [96, 69, 93, 67, 81, 82, 99, 89, 63, 97]   \n",
              "Olivia Johnson     [98, 94, 85, 73, 97, 86, 76, 67, 92, 100]   \n",
              "Noah Williams       [85, 86, 92, 91, 93, 83, 96, 72, 65, 79]   \n",
              "Emma Brown          [86, 82, 60, 84, 83, 66, 92, 86, 60, 71]   \n",
              "Oliver Jones        [75, 95, 92, 83, 67, 86, 77, 83, 91, 96]   \n",
              "Ava Garcia          [82, 91, 61, 96, 76, 78, 68, 93, 67, 75]   \n",
              "Elijah Miller       [89, 81, 84, 83, 68, 63, 66, 78, 93, 73]   \n",
              "Sophia Davis        [79, 66, 90, 69, 71, 72, 76, 88, 82, 87]   \n",
              "James Rodriguez     [93, 66, 96, 88, 62, 97, 84, 98, 66, 84]   \n",
              "Isabella Martinez  [76, 66, 82, 82, 100, 64, 83, 77, 92, 70]   \n",
              "\n",
              "                                                  Art History  \n",
              "Liam Smith          [93, 63, 64, 80, 79, 100, 67, 80, 80, 73]  \n",
              "Olivia Johnson       [60, 84, 62, 66, 81, 86, 74, 69, 91, 63]  \n",
              "Noah Williams      [63, 80, 75, 100, 98, 88, 68, 93, 100, 88]  \n",
              "Emma Brown           [93, 96, 80, 66, 70, 90, 91, 97, 65, 76]  \n",
              "Oliver Jones        [62, 78, 77, 75, 100, 64, 80, 61, 94, 93]  \n",
              "Ava Garcia          [83, 100, 87, 90, 61, 72, 98, 82, 62, 72]  \n",
              "Elijah Miller        [72, 97, 67, 97, 62, 73, 66, 64, 69, 64]  \n",
              "Sophia Davis         [99, 73, 71, 88, 88, 77, 61, 88, 64, 81]  \n",
              "James Rodriguez      [75, 78, 95, 63, 68, 77, 74, 63, 63, 69]  \n",
              "Isabella Martinez    [76, 91, 70, 74, 75, 60, 82, 81, 86, 91]  "
            ]
          },
          "execution_count": 4,
          "metadata": {},
          "output_type": "execute_result"
        }
      ],
      "source": [
        "gradebook = generate_gradebook_dataset()\n",
        "grades = pd.DataFrame(gradebook)\n",
        "grades"
      ]
    },
    {
      "cell_type": "markdown",
      "metadata": {
        "id": "g8j7G8aULctc"
      },
      "source": [
        "## What This Code Does Overall\n",
        "\n",
        "This code transforms a wide-format(list grades) DataFrame to a more usable dataframe. Where student names are in the index, columns are class names, and each cell contains a list of grades—into a long-format(tidy) DataFrame. In the final output, each row represents a single grade with associated metadata: student name, class name, and assignment number.\n",
        "\n",
        "\n",
        "## Function-by-Function\n",
        "\n",
        "- **prepare_dataframe_for_melt(df)**: Resets the index and turns student names into a column called \"Student Name\" to prepare for reshaping.\n",
        "\n",
        "- **unpivot_classes_to_rows(df)**: Converts class columns into rows so that each row represents a student/class pairing, with all grades still bundled in a list.\n",
        "\n",
        "- **explode_grades_list(df)**: Breaks apart the list of grades so that each individual grade becomes its own row.\n",
        "\n",
        "- **add_assignment_numbers(df)**: Adds a sequential \"Assignment\" label (e.g., \"Assignment 1\", \"Assignment 2\") for each grade within a student/class group.\n",
        "\n",
        "- **finalize_columns(df)**: Selects and orders the final columns: \"Student Name\", \"Class Name\", \"Assignment\", and \"Grade\".\n",
        "\n",
        "- **transform_df_to_long_format(grades_df)**: Orchestrates the entire transformation by calling the steps above in sequence and returning the final tidy DataFrame."
      ]
    },
    {
      "cell_type": "code",
      "execution_count": 5,
      "metadata": {
        "id": "MlMOvbtxclkF"
      },
      "outputs": [],
      "source": [
        "def prepare_dataframe_for_melt(df: pd.DataFrame) -> pd.DataFrame:\n",
        "    \"\"\"sets the index to student names column.\"\"\"\n",
        "    return df.reset_index().rename(columns={'index': 'Student Name'})\n",
        "\n",
        "def unpivot_classes_to_rows(df: pd.DataFrame) -> pd.DataFrame:\n",
        "    \"\"\"Unpivots the DataFrame, turning class columns into rows.\"\"\"\n",
        "    return df.melt(\n",
        "        id_vars=['Student Name'],\n",
        "        var_name='Class Name',\n",
        "        value_name='Grades'\n",
        "    )\n",
        "\n",
        "def explode_grades_list(df: pd.DataFrame) -> pd.DataFrame:\n",
        "    \"\"\"Explodes the list in the 'Grades' column into separate rows for each grade.\"\"\"\n",
        "    return df.explode('Grades').rename(columns={'Grades': 'Grade'})\n",
        "\n",
        "def add_assignment_numbers(df: pd.DataFrame) -> pd.DataFrame:\n",
        "    \"\"\"Adds a numbered 'Assignment' column based on the grade's order.\"\"\"\n",
        "    df_with_assignments = df.assign(\n",
        "        Assignment='Assignment ' + (df.groupby(['Student Name', 'Class Name']).cumcount() + 1).astype(str)\n",
        "    )\n",
        "    return df_with_assignments\n",
        "\n",
        "def finalize_columns(df: pd.DataFrame) -> pd.DataFrame:\n",
        "    \"\"\"Selects and reorders columns to the final desired format.\"\"\"\n",
        "    return df[['Student Name', 'Class Name', 'Assignment', 'Grade']].reset_index(drop=True)\n",
        "\n",
        "\n",
        "def transform_df_to_long_format(grades_df: pd.DataFrame) -> pd.DataFrame:\n",
        "    \"\"\"\n",
        "    Transforms a \"wide\" format DataFrame into a \"long\" or \"tidy\" format\n",
        "    by executing a pipeline of data cleaning steps.\n",
        "\n",
        "    Args:\n",
        "        grades_df: A DataFrame where the index contains student names,\n",
        "                   columns are class names, and values are lists of grades.\n",
        "\n",
        "    Returns:\n",
        "        A tidy DataFrame with a row for each individual grade.\n",
        "    \"\"\"\n",
        "    # This is our data transformation pipeline. Each function is a distinct step.\n",
        "    prepared_df = prepare_dataframe_for_melt(grades_df)\n",
        "    unpivoted_df = unpivot_classes_to_rows(prepared_df)\n",
        "    exploded_df = explode_grades_list(unpivoted_df)\n",
        "    df_with_assignments = add_assignment_numbers(exploded_df)\n",
        "    final_df = finalize_columns(df_with_assignments)\n",
        "\n",
        "    return final_df"
      ]
    },
    {
      "cell_type": "code",
      "execution_count": 6,
      "metadata": {
        "colab": {
          "base_uri": "https://localhost:8080/",
          "height": 424
        },
        "id": "fGafDyNY-ib_",
        "outputId": "4852500f-2bc0-46f8-9e7c-aba94290427b"
      },
      "outputs": [
        {
          "data": {
            "text/html": [
              "<div>\n",
              "<style scoped>\n",
              "    .dataframe tbody tr th:only-of-type {\n",
              "        vertical-align: middle;\n",
              "    }\n",
              "\n",
              "    .dataframe tbody tr th {\n",
              "        vertical-align: top;\n",
              "    }\n",
              "\n",
              "    .dataframe thead th {\n",
              "        text-align: right;\n",
              "    }\n",
              "</style>\n",
              "<table border=\"1\" class=\"dataframe\">\n",
              "  <thead>\n",
              "    <tr style=\"text-align: right;\">\n",
              "      <th></th>\n",
              "      <th>Student Name</th>\n",
              "      <th>Class Name</th>\n",
              "      <th>Assignment</th>\n",
              "      <th>Grade</th>\n",
              "    </tr>\n",
              "  </thead>\n",
              "  <tbody>\n",
              "    <tr>\n",
              "      <th>0</th>\n",
              "      <td>Liam Smith</td>\n",
              "      <td>Algebra II</td>\n",
              "      <td>Assignment 1</td>\n",
              "      <td>79</td>\n",
              "    </tr>\n",
              "    <tr>\n",
              "      <th>1</th>\n",
              "      <td>Liam Smith</td>\n",
              "      <td>Algebra II</td>\n",
              "      <td>Assignment 2</td>\n",
              "      <td>94</td>\n",
              "    </tr>\n",
              "    <tr>\n",
              "      <th>2</th>\n",
              "      <td>Liam Smith</td>\n",
              "      <td>Algebra II</td>\n",
              "      <td>Assignment 3</td>\n",
              "      <td>68</td>\n",
              "    </tr>\n",
              "    <tr>\n",
              "      <th>3</th>\n",
              "      <td>Liam Smith</td>\n",
              "      <td>Algebra II</td>\n",
              "      <td>Assignment 4</td>\n",
              "      <td>86</td>\n",
              "    </tr>\n",
              "    <tr>\n",
              "      <th>4</th>\n",
              "      <td>Liam Smith</td>\n",
              "      <td>Algebra II</td>\n",
              "      <td>Assignment 5</td>\n",
              "      <td>93</td>\n",
              "    </tr>\n",
              "    <tr>\n",
              "      <th>...</th>\n",
              "      <td>...</td>\n",
              "      <td>...</td>\n",
              "      <td>...</td>\n",
              "      <td>...</td>\n",
              "    </tr>\n",
              "    <tr>\n",
              "      <th>595</th>\n",
              "      <td>Isabella Martinez</td>\n",
              "      <td>Art History</td>\n",
              "      <td>Assignment 6</td>\n",
              "      <td>60</td>\n",
              "    </tr>\n",
              "    <tr>\n",
              "      <th>596</th>\n",
              "      <td>Isabella Martinez</td>\n",
              "      <td>Art History</td>\n",
              "      <td>Assignment 7</td>\n",
              "      <td>82</td>\n",
              "    </tr>\n",
              "    <tr>\n",
              "      <th>597</th>\n",
              "      <td>Isabella Martinez</td>\n",
              "      <td>Art History</td>\n",
              "      <td>Assignment 8</td>\n",
              "      <td>81</td>\n",
              "    </tr>\n",
              "    <tr>\n",
              "      <th>598</th>\n",
              "      <td>Isabella Martinez</td>\n",
              "      <td>Art History</td>\n",
              "      <td>Assignment 9</td>\n",
              "      <td>86</td>\n",
              "    </tr>\n",
              "    <tr>\n",
              "      <th>599</th>\n",
              "      <td>Isabella Martinez</td>\n",
              "      <td>Art History</td>\n",
              "      <td>Assignment 10</td>\n",
              "      <td>91</td>\n",
              "    </tr>\n",
              "  </tbody>\n",
              "</table>\n",
              "<p>600 rows × 4 columns</p>\n",
              "</div>"
            ],
            "text/plain": [
              "          Student Name   Class Name     Assignment Grade\n",
              "0           Liam Smith   Algebra II   Assignment 1    79\n",
              "1           Liam Smith   Algebra II   Assignment 2    94\n",
              "2           Liam Smith   Algebra II   Assignment 3    68\n",
              "3           Liam Smith   Algebra II   Assignment 4    86\n",
              "4           Liam Smith   Algebra II   Assignment 5    93\n",
              "..                 ...          ...            ...   ...\n",
              "595  Isabella Martinez  Art History   Assignment 6    60\n",
              "596  Isabella Martinez  Art History   Assignment 7    82\n",
              "597  Isabella Martinez  Art History   Assignment 8    81\n",
              "598  Isabella Martinez  Art History   Assignment 9    86\n",
              "599  Isabella Martinez  Art History  Assignment 10    91\n",
              "\n",
              "[600 rows x 4 columns]"
            ]
          },
          "execution_count": 6,
          "metadata": {},
          "output_type": "execute_result"
        }
      ],
      "source": [
        "gradebook = transform_df_to_long_format(grades)\n",
        "gradebook"
      ]
    },
    {
      "cell_type": "markdown",
      "metadata": {
        "id": "cjZqOwGbW6A0"
      },
      "source": [
        "# Summary\n",
        "\n",
        "This setup is similar to many of the capstone or personal projects you've likely worked on. While we can see the code running and producing the expected output, it's important to go a step further. Writing tests helps ensure our code behaves as intended—and can catch bugs or edge cases we might overlook.\n",
        "\n",
        "In the sections below, we'll write some unit tests and walk through what they do and how they work."
      ]
    },
    {
      "cell_type": "markdown",
      "metadata": {
        "id": "CkQTvu3-FE3h"
      },
      "source": [
        "\n",
        "\n",
        "---\n",
        "\n",
        "\n",
        "\n",
        "---\n",
        "\n",
        "\n",
        "---\n",
        "\n"
      ]
    },
    {
      "cell_type": "markdown",
      "metadata": {
        "id": "laWtjK8-y5on"
      },
      "source": [
        "# Testing Time Using Pandas Testing"
      ]
    },
    {
      "cell_type": "markdown",
      "metadata": {
        "id": "8mGyJLzlzQeF"
      },
      "source": [
        "## Defining the test data generator function\n",
        "- we make a small set of data to test the functions with.\n",
        "\n"
      ]
    },
    {
      "cell_type": "code",
      "execution_count": 7,
      "metadata": {
        "colab": {
          "base_uri": "https://localhost:8080/"
        },
        "id": "d80GwlMLzHvR",
        "outputId": "97c44a12-a72d-46a2-8825-cb719865f5d1"
      },
      "outputs": [
        {
          "name": "stdout",
          "output_type": "stream",
          "text": [
            "--- Defining the test data generator function ---\n",
            "Test data function has been defined.\n",
            "\n",
            "==================================================\n",
            "\n"
          ]
        }
      ],
      "source": [
        "print(\"--- Defining the test data generator function ---\")\n",
        "\n",
        "def initial_wide_df() -> pd.DataFrame:\n",
        "    \"\"\"Provides the initial 'wide' DataFrame for testing.\"\"\"\n",
        "    return pd.DataFrame({\n",
        "        \"Biology\": {\"Liam Smith\": [85, 92], \"Olivia Johnson\": [78, 65]},\n",
        "        \"Algebra II\": {\"Liam Smith\": [95, 88], \"Olivia Johnson\": [72, 81]}\n",
        "    })\n",
        "\n",
        "print(\"Test data function has been defined.\")\n",
        "print(\"\\n\" + \"=\"*50 + \"\\n\")"
      ]
    },
    {
      "cell_type": "markdown",
      "metadata": {
        "id": "gL5xz0aJzgSM"
      },
      "source": [
        "## Demonstrating `prepare_dataframe_for_melt`\n",
        "- This demonstration checks if the student names in the index are correctly moved into a 'Student Name' column.\n"
      ]
    },
    {
      "cell_type": "code",
      "execution_count": null,
      "metadata": {
        "colab": {
          "base_uri": "https://localhost:8080/"
        },
        "id": "BwMbveVqzfWJ",
        "outputId": "b6ff0403-5dad-4ccc-8ed2-6bd4a755880e"
      },
      "outputs": [
        {
          "name": "stdout",
          "output_type": "stream",
          "text": [
            "--- Cell 3: Demonstrating `prepare_dataframe_for_melt` --- \n",
            "\n",
            "Demonstration Goal: Check if the index is converted to a 'Student Name' column.\n",
            "\n",
            "Initial DataFrame:\n",
            "                 Biology Algebra II\n",
            "Liam Smith      [85, 92]   [95, 88]\n",
            "Olivia Johnson  [78, 65]   [72, 81]\n",
            "\n",
            "Expected DataFrame:\n",
            "     Student Name   Biology Algebra II\n",
            "0      Liam Smith  [85, 92]   [95, 88]\n",
            "1  Olivia Johnson  [78, 65]   [72, 81]\n",
            "\n",
            "Result DataFrame:\n",
            "     Student Name   Biology Algebra II\n",
            "0      Liam Smith  [85, 92]   [95, 88]\n",
            "1  Olivia Johnson  [78, 65]   [72, 81]\n",
            "\n",
            "✅ Demonstration Passed!\n",
            "\n",
            "============================================================\n",
            "\n"
          ]
        }
      ],
      "source": [
        "print(\"Cell 3: Demonstrating `prepare_dataframe_for_melt`  \\n\")\n",
        "\n",
        "def demonstrate_prepare_for_melt():\n",
        "    # ARRANGE \n",
        "    # We get our starting data from the generator function.\n",
        "    initial_df = initial_wide_df()\n",
        "\n",
        "    # We define the state of the data we expect after the function runs.\n",
        "    expected_df = pd.DataFrame({\n",
        "        'Student Name': ['Liam Smith', 'Olivia Johnson'],\n",
        "        'Biology': [[85, 92], [78, 65]],\n",
        "        'Algebra II': [[95, 88], [72, 81]]\n",
        "    })\n",
        "\n",
        "    # ACT \n",
        "    # We run the function we're testing.\n",
        "    result_df = prepare_dataframe_for_melt(initial_df)\n",
        "\n",
        "    #  ASSERT (Visual & Actual) \n",
        "    print(\"Demonstration Goal: Check if the index is converted to a 'Student Name' column.\")\n",
        "    print(\"\\nInitial DataFrame:\")\n",
        "    print(initial_df)\n",
        "    print(\"\\nExpected DataFrame:\")\n",
        "    print(expected_df)\n",
        "    print(\"\\nResult DataFrame:\")\n",
        "    print(result_df)\n",
        "\n",
        "    # -------------------------------------------\n",
        "    # -------- look here \\/ ---------------------\n",
        "    # The actual assertion to confirm correctness\n",
        "    pd_testing.assert_frame_equal(result_df, expected_df)\n",
        "    print(\"\\n✅ Demonstration Passed!\")\n",
        "\n",
        "# calling our self-contained demonstration function.\n",
        "demonstrate_prepare_for_melt()\n",
        "print(\"\\n\" + \"=\"*60 + \"\\n\")"
      ]
    },
    {
      "cell_type": "markdown",
      "metadata": {
        "id": "w9B4kgkW13fC"
      },
      "source": [
        "## Demonstrating `unpivot_classes_to_rows`\n",
        "- This demonstration checks if the class columns (\"Biology\", \"Algebra II\") are correctly \"melted\" into rows."
      ]
    },
    {
      "cell_type": "code",
      "execution_count": null,
      "metadata": {
        "colab": {
          "base_uri": "https://localhost:8080/"
        },
        "id": "QBKiEvdp10EK",
        "outputId": "1624f125-0eef-4b61-dc5a-dfbbd979acc7"
      },
      "outputs": [
        {
          "name": "stdout",
          "output_type": "stream",
          "text": [
            "--- Cell 4: Demonstrating `unpivot_classes_to_rows` ---\n",
            "\n",
            "Demonstration Goal: Check if class columns are turned into rows.\n",
            "\n",
            "Initial DataFrame:\n",
            "     Student Name   Biology Algebra II\n",
            "0      Liam Smith  [85, 92]   [95, 88]\n",
            "1  Olivia Johnson  [78, 65]   [72, 81]\n",
            "\n",
            "Expected DataFrame:\n",
            "     Student Name  Class Name    Grades\n",
            "0      Liam Smith     Biology  [85, 92]\n",
            "1  Olivia Johnson     Biology  [78, 65]\n",
            "2      Liam Smith  Algebra II  [95, 88]\n",
            "3  Olivia Johnson  Algebra II  [72, 81]\n",
            "\n",
            "Result DataFrame:\n",
            "     Student Name  Class Name    Grades\n",
            "0      Liam Smith     Biology  [85, 92]\n",
            "1  Olivia Johnson     Biology  [78, 65]\n",
            "2      Liam Smith  Algebra II  [95, 88]\n",
            "3  Olivia Johnson  Algebra II  [72, 81]\n",
            "\n",
            "✅ Demonstration Passed!\n",
            "\n",
            "============================================================\n",
            "\n"
          ]
        }
      ],
      "source": [
        "print(\"--- Cell 4: Demonstrating `unpivot_classes_to_rows` ---\\n\")\n",
        "\n",
        "def demonstrate_unpivot_classes_to_rows():\n",
        "    # ARRANGE \n",
        "    # The input for this function is the output of the previous step.\n",
        "    start_df = prepare_dataframe_for_melt(initial_wide_df())\n",
        "\n",
        "    expected_df = pd.DataFrame({\n",
        "        'Student Name': ['Liam Smith', 'Olivia Johnson', 'Liam Smith', 'Olivia Johnson'],\n",
        "        'Class Name': ['Biology', 'Biology', 'Algebra II', 'Algebra II'],\n",
        "        'Grades': [[85, 92], [78, 65], [95, 88], [72, 81]]\n",
        "    })\n",
        "\n",
        "    # ACT \n",
        "    result_df = unpivot_classes_to_rows(start_df)\n",
        "\n",
        "    # ASSERT (Visual & Actual) \n",
        "    print(\"Demonstration Goal: Check if class columns are turned into rows.\")\n",
        "    print(\"\\nInitial DataFrame:\")\n",
        "    print(start_df)\n",
        "    print(\"\\nExpected DataFrame:\")\n",
        "    print(expected_df)\n",
        "    print(\"\\nResult DataFrame:\")\n",
        "    print(result_df)\n",
        "\n",
        "    # -------------------------------------------\n",
        "    # --------- look here \\/ --------------------\n",
        "    pd_testing.assert_frame_equal(result_df, expected_df)\n",
        "    print(\"\\n✅ Demonstration Passed!\")\n",
        "\n",
        "# We call our self-contained demonstration function.\n",
        "demonstrate_unpivot_classes_to_rows()\n",
        "print(\"\\n\" + \"=\"*60 + \"\\n\")"
      ]
    },
    {
      "cell_type": "markdown",
      "metadata": {
        "id": "VoW3iAOJ2UXe"
      },
      "source": [
        "\n",
        "## Demonstrating `_explode_grades_list`\n",
        "- This demonstration checks if the lists in the 'Grades' column are correctly\n",
        "\"exploded\" into separate rows.\n"
      ]
    },
    {
      "cell_type": "code",
      "execution_count": null,
      "metadata": {
        "colab": {
          "base_uri": "https://localhost:8080/"
        },
        "id": "HNFf7jfi2Thl",
        "outputId": "dfe3cbf6-33c0-49f7-fc16-70d14a6ba969"
      },
      "outputs": [
        {
          "name": "stdout",
          "output_type": "stream",
          "text": [
            "--- Cell 5: Demonstrating `explode_grades_list` ---\n",
            "\n",
            "Demonstration Goal: Check if lists of grades are converted into one row per grade.\n",
            "\n",
            "Initial DataFrame:\n",
            "     Student Name Class Name    Grades\n",
            "0      Liam Smith    Biology  [85, 92]\n",
            "1  Olivia Johnson    Biology  [78, 65]\n",
            "\n",
            "Expected DataFrame:\n",
            "     Student Name Class Name  Grade\n",
            "0      Liam Smith    Biology     85\n",
            "1      Liam Smith    Biology     92\n",
            "2  Olivia Johnson    Biology     78\n",
            "3  Olivia Johnson    Biology     65\n",
            "\n",
            "Result DataFrame (index reset for comparison):\n",
            "     Student Name Class Name  Grade\n",
            "0      Liam Smith    Biology     85\n",
            "1      Liam Smith    Biology     92\n",
            "2  Olivia Johnson    Biology     78\n",
            "3  Olivia Johnson    Biology     65\n",
            "\n",
            "✅ Demonstration Passed!\n",
            "\n",
            "================================================================================\n",
            "\n"
          ]
        }
      ],
      "source": [
        "\n",
        "print(\"--- Cell 5: Demonstrating `explode_grades_list` ---\\n\")\n",
        "\n",
        "def demonstrate_explode_grades_list():\n",
        "    # ARRANGE \n",
        "    # For this test, it's easier to define the input directly.\n",
        "    start_df = pd.DataFrame({\n",
        "        'Student Name': ['Liam Smith', 'Olivia Johnson'],\n",
        "        'Class Name': ['Biology', 'Biology'],\n",
        "        'Grades': [[85, 92], [78, 65]]\n",
        "    })\n",
        "    expected_df = pd.DataFrame({\n",
        "        'Student Name': ['Liam Smith', 'Liam Smith', 'Olivia Johnson', 'Olivia Johnson'],\n",
        "        'Class Name': ['Biology', 'Biology', 'Biology', 'Biology'],\n",
        "        'Grade': [85, 92, 78, 65]\n",
        "    })\n",
        "\n",
        "    # ACT \n",
        "    result_df = explode_grades_list(start_df)\n",
        "    result_df['Grade'] = pd.to_numeric(result_df['Grade'])\n",
        "\n",
        "    # ASSERT (Visual & Actual) \n",
        "    print(\"Demonstration Goal: Check if lists of grades are converted into one row per grade.\")\n",
        "    print(\"\\nInitial DataFrame:\")\n",
        "    print(start_df)\n",
        "    print(\"\\nExpected DataFrame:\")\n",
        "    print(expected_df)\n",
        "    print(\"\\nResult DataFrame (index reset for comparison):\")\n",
        "    print(result_df.reset_index(drop=True))\n",
        "    \n",
        "    # -------------------------------------------\n",
        "    # ---------- look here \\/ -------------------\n",
        "    pd_testing.assert_frame_equal(result_df.reset_index(drop=True), expected_df)\n",
        "    print(\"\\n✅ Demonstration Passed!\")\n",
        "\n",
        "demonstrate_explode_grades_list()\n",
        "print(\"\\n\" + \"=\"*80 + \"\\n\")"
      ]
    },
    {
      "cell_type": "markdown",
      "metadata": {
        "id": "Mw4jQwAp3R5f"
      },
      "source": [
        "## Demonstrating `add_assignment_numbers`\n",
        "- This demonstration checks that a unique assignment number is correctly calculated for each grade, grouped by student and class.\n"
      ]
    },
    {
      "cell_type": "code",
      "execution_count": null,
      "metadata": {
        "colab": {
          "base_uri": "https://localhost:8080/"
        },
        "id": "lo2pR8e7v1LB",
        "outputId": "ad7a4357-8dae-4dc9-c13a-55251cc9ca37"
      },
      "outputs": [
        {
          "name": "stdout",
          "output_type": "stream",
          "text": [
            "--- Cell 6: Demonstrating `_add_assignment_numbers` ---\n",
            "Demonstration Goal: Check if an 'Assignment' column is added with correct numbering.\n",
            "\n",
            "Initial DataFrame:\n",
            "     Student Name Class Name  Grade\n",
            "0      Liam Smith    Biology     85\n",
            "1      Liam Smith    Biology     92\n",
            "2  Olivia Johnson    Biology     78\n",
            "\n",
            "Expected DataFrame:\n",
            "     Student Name Class Name  Grade    Assignment\n",
            "0      Liam Smith    Biology     85  Assignment 1\n",
            "1      Liam Smith    Biology     92  Assignment 2\n",
            "2  Olivia Johnson    Biology     78  Assignment 1\n",
            "\n",
            "Result DataFrame:\n",
            "     Student Name Class Name  Grade    Assignment\n",
            "0      Liam Smith    Biology     85  Assignment 1\n",
            "1      Liam Smith    Biology     92  Assignment 2\n",
            "2  Olivia Johnson    Biology     78  Assignment 1\n",
            "\n",
            "✅ Demonstration Passed!\n"
          ]
        }
      ],
      "source": [
        "print(\"--- Cell 6: Demonstrating `_add_assignment_numbers` ---\\n\")\n",
        "\n",
        "def demonstrate_add_assignment_numbers():\n",
        "    # ARRANGE\n",
        "    start_df = pd.DataFrame({\n",
        "        'Student Name': ['Liam Smith', 'Liam Smith', 'Olivia Johnson'],\n",
        "        'Class Name': ['Biology', 'Biology', 'Biology'],\n",
        "        'Grade': [85, 92, 78]\n",
        "    })\n",
        "    expected_df = start_df.copy()\n",
        "    expected_df['Assignment'] = ['Assignment 1', 'Assignment 2', 'Assignment 1']\n",
        "\n",
        "    # ACT\n",
        "    result_df = add_assignment_numbers(start_df)\n",
        "\n",
        "    # ASSERT (Visual & Actual)\n",
        "    print(\"Demonstration Goal: Check if an 'Assignment' column is added with correct numbering.\")\n",
        "    print(\"\\nInitial DataFrame:\")\n",
        "    print(start_df)\n",
        "    print(\"\\nExpected DataFrame:\")\n",
        "    print(expected_df)\n",
        "    print(\"\\nResult DataFrame:\")\n",
        "    print(result_df)\n",
        "    pd_testing.assert_frame_equal(result_df, expected_df)\n",
        "    print(\"\\n✅ Demonstration Passed!\")\n",
        "\n",
        "demonstrate_add_assignment_numbers()\n"
      ]
    },
    {
      "cell_type": "markdown",
      "metadata": {
        "id": "IZONubWEMjGe"
      },
      "source": [
        "# A look at different tests"
      ]
    },
    {
      "cell_type": "markdown",
      "metadata": {
        "id": "h_6yBAv0MpY5"
      },
      "source": [
        "First we will look at our function again for reference. We are going to look at the explode_grades_list and go over a few things."
      ]
    },
    {
      "cell_type": "code",
      "execution_count": 12,
      "metadata": {
        "id": "VnA4yk4_MwvC"
      },
      "outputs": [],
      "source": [
        "def explode_grades_list(df: pd.DataFrame) -> pd.DataFrame:\n",
        "    \"\"\"Explodes the list in the 'Grades' column into separate rows for each grade.\"\"\"\n",
        "    return df.explode('Grades').rename(columns={'Grades': 'Grade'})"
      ]
    },
    {
      "cell_type": "markdown",
      "metadata": {
        "id": "Rs_UCNR9NAEr"
      },
      "source": [
        "In this function, we’ve added a simple safeguard to make sure the DataFrame contains the \"Grades\" column before we attempt to explode it. If the column is missing, the function raises a KeyError with a clear message.\n",
        "\n",
        "<br>\n",
        "\n",
        "This kind of check isn't a formal test using a testing framework like pytest, but it's still a valuable defensive programming technique. It helps make our code more robust in production by catching errors early and providing helpful context when something goes wrong—making debugging faster and easier."
      ]
    },
    {
      "cell_type": "code",
      "execution_count": 13,
      "metadata": {
        "id": "dryvusNINAhF"
      },
      "outputs": [],
      "source": [
        "def explode_grades_list(df: pd.DataFrame) -> pd.DataFrame:\n",
        "    \"\"\"Explodes the list in the 'Grades' column into separate rows for each grade.\"\"\"\n",
        "    # Added a check to ensure the column exists for more robust error handling\n",
        "    if 'Grades' not in df.columns:\n",
        "        raise KeyError(\"Input DataFrame must contain a 'Grades' column.\")\n",
        "    return df.explode('Grades').rename(columns={'Grades': 'Grade'})"
      ]
    },
    {
      "cell_type": "markdown",
      "metadata": {
        "id": "qJZoX-X-OZwi"
      },
      "source": [
        "# Unit testing\n",
        "\n",
        "### What Are Unit Tests?\n",
        "\n",
        "Unit tests are small, focused tests that verify the behavior of individual functions or components in your code. They're designed to check that your code does what it's supposed to do—especially under different inputs or edge cases—without relying on the rest of the system.\n",
        "\n",
        "<br>\n",
        "\n",
        "## This first test will fail\n",
        "\n",
        "This first test is expected to fail and that's a good thing.\n",
        "\n",
        "Let’s take a closer look and analyze what’s happening. While the function technically runs and returns a result, the test reveals hidden issues we didn’t account for, such as data type mismatches or unexpected behavior with edge cases.\n",
        "\n",
        "<br>\n",
        "\n",
        "### Why the Tests Failed (Short + Clear)\n",
        "\n",
        "test_basic_explosion:\n",
        "\n",
        "- The Grade column was expected to be int64, but the actual output had a dtype of object.\n",
        "\n",
        "- Pandas treats exploded lists as generic objects unless explicitly cast.\n",
        "\n",
        "test_with_empty_list:\n",
        "\n",
        "- The function didn’t drop students with empty grade lists, resulting in an extra row with NaN.\n",
        "\n",
        "test_missing_grades_column_raises_error:\n",
        "\n",
        "- The test compared the full error string directly, including Python’s automatic quotes.\n",
        "\n",
        "- This caused a mismatch, even though the raised error was correct.\n",
        "\n",
        "<br>\n",
        "\n",
        "### Why This Matters in Development\n",
        "\n",
        "- Prevents silent bugs: Unit tests catch mismatches, assumptions, and edge cases you might not notice during manual testing.\n",
        "\n",
        "- Improves reliability: Tests give you confidence that your code behaves correctly as you refactor or scale.\n",
        "\n",
        "- Speeds up debugging: When a test fails, it points you directly to the failing function and scenario.\n",
        "\n",
        "- Enforces consistency: Helps ensure things like data types, structure, and error handling remain predictable."
      ]
    },
    {
      "cell_type": "code",
      "execution_count": 1,
      "metadata": {
        "colab": {
          "base_uri": "https://localhost:8080/"
        },
        "id": "b1wP_AgHOfob",
        "outputId": "a68f92ca-a795-4655-8b7a-226b146761aa"
      },
      "outputs": [
        {
          "name": "stderr",
          "output_type": "stream",
          "text": [
            "FFF\n",
            "======================================================================\n",
            "FAIL: test_basic_explosion (__main__.TestExplodeGradesList.test_basic_explosion)\n",
            "Tests a standard case where the list of grades is correctly exploded.\n",
            "----------------------------------------------------------------------\n",
            "Traceback (most recent call last):\n",
            "  File \"/var/folders/2d/yt4_w6zn5pbfjg_jx5sdmm180000gn/T/ipykernel_75942/553072279.py\", line 30, in test_basic_explosion\n",
            "    assert_frame_equal(result_df, expected_df)\n",
            "  File \"/Users/dannymorton/Desktop/postGrad/CY_post_grad_data/venv/lib/python3.12/site-packages/pandas/_testing/asserters.py\", line 1303, in assert_frame_equal\n",
            "    assert_series_equal(\n",
            "  File \"/Users/dannymorton/Desktop/postGrad/CY_post_grad_data/venv/lib/python3.12/site-packages/pandas/_testing/asserters.py\", line 999, in assert_series_equal\n",
            "    assert_attr_equal(\"dtype\", left, right, obj=f\"Attributes of {obj}\")\n",
            "  File \"/Users/dannymorton/Desktop/postGrad/CY_post_grad_data/venv/lib/python3.12/site-packages/pandas/_testing/asserters.py\", line 421, in assert_attr_equal\n",
            "    raise_assert_detail(obj, msg, left_attr, right_attr)\n",
            "  File \"/Users/dannymorton/Desktop/postGrad/CY_post_grad_data/venv/lib/python3.12/site-packages/pandas/_testing/asserters.py\", line 620, in raise_assert_detail\n",
            "    raise AssertionError(msg)\n",
            "AssertionError: Attributes of DataFrame.iloc[:, 1] (column name=\"Grade\") are different\n",
            "\n",
            "Attribute \"dtype\" are different\n",
            "[left]:  object\n",
            "[right]: int64\n",
            "\n",
            "======================================================================\n",
            "FAIL: test_missing_grades_column_raises_error (__main__.TestExplodeGradesList.test_missing_grades_column_raises_error)\n",
            "Tests that a missing 'Grades' column raises a KeyError.\n",
            "----------------------------------------------------------------------\n",
            "Traceback (most recent call last):\n",
            "  File \"/var/folders/2d/yt4_w6zn5pbfjg_jx5sdmm180000gn/T/ipykernel_75942/553072279.py\", line 57, in test_missing_grades_column_raises_error\n",
            "    self.assertEqual(\n",
            "AssertionError: '\"Input DataFrame must contain a \\'Grades\\' column.\"' != \"Input DataFrame must contain a 'Grades' column.\"\n",
            "- \"Input DataFrame must contain a 'Grades' column.\"\n",
            "? -                                               -\n",
            "+ Input DataFrame must contain a 'Grades' column.\n",
            "\n",
            "\n",
            "======================================================================\n",
            "FAIL: test_with_empty_list (__main__.TestExplodeGradesList.test_with_empty_list)\n",
            "Tests that a student with an empty list of grades is dropped.\n",
            "----------------------------------------------------------------------\n",
            "Traceback (most recent call last):\n",
            "  File \"/var/folders/2d/yt4_w6zn5pbfjg_jx5sdmm180000gn/T/ipykernel_75942/553072279.py\", line 48, in test_with_empty_list\n",
            "    assert_frame_equal(result_df, expected_df)\n",
            "  File \"/Users/dannymorton/Desktop/postGrad/CY_post_grad_data/venv/lib/python3.12/site-packages/pandas/_testing/asserters.py\", line 1242, in assert_frame_equal\n",
            "    raise_assert_detail(\n",
            "  File \"/Users/dannymorton/Desktop/postGrad/CY_post_grad_data/venv/lib/python3.12/site-packages/pandas/_testing/asserters.py\", line 620, in raise_assert_detail\n",
            "    raise AssertionError(msg)\n",
            "AssertionError: DataFrame are different\n",
            "\n",
            "DataFrame shape mismatch\n",
            "[left]:  (3, 2)\n",
            "[right]: (2, 2)\n",
            "\n",
            "----------------------------------------------------------------------\n",
            "Ran 3 tests in 0.005s\n",
            "\n",
            "FAILED (failures=3)\n"
          ]
        }
      ],
      "source": [
        "import unittest\n",
        "import pandas as pd\n",
        "from pandas.testing import assert_frame_equal\n",
        "\n",
        "# The function being tested\n",
        "def explode_grades_list(df: pd.DataFrame) -> pd.DataFrame:\n",
        "    if 'Grades' not in df.columns:\n",
        "        raise KeyError(\"Input DataFrame must contain a 'Grades' column.\")\n",
        "    return df.explode('Grades').rename(columns={'Grades': 'Grade'})\n",
        "\n",
        "\n",
        "class TestExplodeGradesList(unittest.TestCase):\n",
        "\n",
        "    def test_basic_explosion(self):\n",
        "        \"\"\"Tests a standard case where the list of grades is correctly exploded.\"\"\"\n",
        "        input_data = {\n",
        "            'Student': ['Alice', 'Bob'],\n",
        "            'Grades': [[90, 85], [78]]\n",
        "        }\n",
        "        input_df = pd.DataFrame(input_data)\n",
        "\n",
        "        result_df = explode_grades_list(input_df).reset_index(drop=True)\n",
        "\n",
        "        expected_data = {\n",
        "            'Student': ['Alice', 'Alice', 'Bob'],\n",
        "            'Grade': [90, 85, 78]\n",
        "        }\n",
        "        expected_df = pd.DataFrame(expected_data).reset_index(drop=True)\n",
        "\n",
        "        assert_frame_equal(result_df, expected_df)\n",
        "\n",
        "    def test_with_empty_list(self):\n",
        "        \"\"\"Tests that a student with an empty list of grades is dropped.\"\"\"\n",
        "        input_data = {\n",
        "            'Student': ['Alice', 'Charlie'],\n",
        "            'Grades': [[90, 85], []]\n",
        "        }\n",
        "        input_df = pd.DataFrame(input_data)\n",
        "\n",
        "        result_df = explode_grades_list(input_df).reset_index(drop=True)\n",
        "\n",
        "        expected_data = {\n",
        "            'Student': ['Alice', 'Alice'],\n",
        "            'Grade': [90, 85]\n",
        "        }\n",
        "        expected_df = pd.DataFrame(expected_data).reset_index(drop=True)\n",
        "\n",
        "        assert_frame_equal(result_df, expected_df)\n",
        "\n",
        "    def test_missing_grades_column_raises_error(self):\n",
        "        \"\"\"Tests that a missing 'Grades' column raises a KeyError.\"\"\"\n",
        "        input_df = pd.DataFrame({'Student': ['David']})\n",
        "\n",
        "        with self.assertRaises(KeyError) as cm:\n",
        "            explode_grades_list(input_df)\n",
        "\n",
        "        self.assertEqual(\n",
        "            str(cm.exception),\n",
        "            \"Input DataFrame must contain a 'Grades' column.\"\n",
        "        )\n",
        "\n",
        "\n",
        "if __name__ == '__main__':\n",
        "    unittest.main(argv=['first-arg-is-ignored'], exit=False)\n"
      ]
    },
    {
      "cell_type": "markdown",
      "metadata": {
        "id": "if9skRswSVF7"
      },
      "source": [
        "## We have 3 things to fix and now have to edit the function to no longer break.\n",
        "\n",
        "### **Fix 1:** dtype mismatch in test_basic_explosion\n",
        "\n",
        "**Problem:**\n",
        "<br>\n",
        "The explode() method with lists of integers results in a column of object dtype, but your expected DataFrame uses native int64. Pandas is strict about dtype matching in tests.\n",
        "\n",
        "**Solution:**\n",
        "<br>\n",
        "Explicitly cast the Grade column to int in both result and expected DataFrames.\n",
        "\n",
        "### Fix 2: Error message mismatch in test_missing_grades_column_raises_error\n",
        "\n",
        "**Problem:**\n",
        "<br>\n",
        "The actual error string includes quotes automatically when raised, so comparing it as a raw string fails.\n",
        "\n",
        "**Solution:**\n",
        "<br>\n",
        "**Either:**\n",
        "\n",
        "Use .args[0] on the exception to get the raw message, OR\n",
        "\n",
        "Use assertIn() instead of assertEqual().\n",
        "\n",
        "We'll use .args[0] here for precision.\n",
        "\n",
        "###Fix 3: test_with_empty_list unexpected row\n",
        "\n",
        "**Problem:**\n",
        "<br>\n",
        "By default, explode() does not drop empty rows when the list is empty—it will produce a NaN.\n",
        "\n",
        "**Solution:**\n",
        "<br>\n",
        "Manually drop rows with NaN in the \"Grade\" column after exploding.\n",
        "\n"
      ]
    },
    {
      "cell_type": "markdown",
      "metadata": {
        "id": "XkRelhCZVrn3"
      },
      "source": [
        "# corrected function example"
      ]
    },
    {
      "cell_type": "code",
      "execution_count": 15,
      "metadata": {
        "id": "h294gsx5VCjD"
      },
      "outputs": [],
      "source": [
        "############################################################################\n",
        "########                       Old function                         ########\n",
        "############################################################################\n",
        "\n",
        "def explode_grades_list(df: pd.DataFrame) -> pd.DataFrame:\n",
        "    if 'Grades' not in df.columns:\n",
        "        raise KeyError(\"Input DataFrame must contain a 'Grades' column.\")\n",
        "    return df.explode('Grades').rename(columns={'Grades': 'Grade'})\n",
        "\n",
        "\n",
        "############################################################################\n",
        "########                       New function                         ########\n",
        "############################################################################\n",
        "\n",
        "def explode_grades_list(df: pd.DataFrame) -> pd.DataFrame:\n",
        "    if 'Grades' not in df.columns:\n",
        "        raise KeyError(\"Input DataFrame must contain a 'Grades' column.\")\n",
        "\n",
        "    exploded = df.explode('Grades').rename(columns={'Grades': 'Grade'})\n",
        "\n",
        "    # Drop rows where the exploded value is NaN (e.g., from empty lists)\n",
        "    return exploded.dropna(subset=['Grade'])"
      ]
    },
    {
      "cell_type": "markdown",
      "metadata": {
        "id": "RoMUvFGJWhht"
      },
      "source": [
        "# working Unit test"
      ]
    },
    {
      "cell_type": "code",
      "execution_count": 16,
      "metadata": {
        "colab": {
          "base_uri": "https://localhost:8080/"
        },
        "id": "DrGNzqIKSCDF",
        "outputId": "8577b2b8-0bd9-4fa1-a848-58b849e984aa"
      },
      "outputs": [
        {
          "name": "stderr",
          "output_type": "stream",
          "text": [
            "...\n",
            "----------------------------------------------------------------------\n",
            "Ran 3 tests in 0.004s\n",
            "\n",
            "OK\n"
          ]
        }
      ],
      "source": [
        "import unittest\n",
        "import pandas as pd\n",
        "from pandas.testing import assert_frame_equal\n",
        "\n",
        "# The new function being tested\n",
        "def explode_grades_list(df: pd.DataFrame) -> pd.DataFrame:\n",
        "    if 'Grades' not in df.columns:\n",
        "        raise KeyError(\"Input DataFrame must contain a 'Grades' column.\")\n",
        "    exploded = df.explode('Grades').rename(columns={'Grades': 'Grade'})\n",
        "    return exploded.dropna(subset=['Grade'])\n",
        "\n",
        "\n",
        "class TestExplodeGradesList(unittest.TestCase):\n",
        "\n",
        "    def test_basic_explosion(self):\n",
        "        \"\"\"Tests a standard case where the list of grades is correctly exploded.\"\"\"\n",
        "        input_data = {\n",
        "            'Student': ['Alice', 'Bob'],\n",
        "            'Grades': [[90, 85], [78]]\n",
        "        }\n",
        "        input_df = pd.DataFrame(input_data)\n",
        "\n",
        "        result_df = explode_grades_list(input_df).reset_index(drop=True)\n",
        "        result_df['Grade'] = result_df['Grade'].astype(int)\n",
        "\n",
        "        expected_data = {\n",
        "            'Student': ['Alice', 'Alice', 'Bob'],\n",
        "            'Grade': [90, 85, 78]\n",
        "        }\n",
        "        expected_df = pd.DataFrame(expected_data).reset_index(drop=True)\n",
        "\n",
        "        assert_frame_equal(result_df, expected_df)\n",
        "\n",
        "    def test_with_empty_list(self):\n",
        "        \"\"\"Tests that a student with an empty list of grades is dropped.\"\"\"\n",
        "        input_data = {\n",
        "            'Student': ['Alice', 'Charlie'],\n",
        "            'Grades': [[90, 85], []]\n",
        "        }\n",
        "        input_df = pd.DataFrame(input_data)\n",
        "\n",
        "        result_df = explode_grades_list(input_df).reset_index(drop=True)\n",
        "        result_df['Grade'] = result_df['Grade'].astype(int)\n",
        "\n",
        "        expected_data = {\n",
        "            'Student': ['Alice', 'Alice'],\n",
        "            'Grade': [90, 85]\n",
        "        }\n",
        "        expected_df = pd.DataFrame(expected_data).reset_index(drop=True)\n",
        "\n",
        "        assert_frame_equal(result_df, expected_df)\n",
        "\n",
        "    def test_missing_grades_column_raises_error(self):\n",
        "        \"\"\"Tests that a missing 'Grades' column raises a KeyError.\"\"\"\n",
        "        input_df = pd.DataFrame({'Student': ['David']})\n",
        "\n",
        "        with self.assertRaises(KeyError) as cm:\n",
        "            explode_grades_list(input_df)\n",
        "\n",
        "        self.assertEqual(\n",
        "            cm.exception.args[0],\n",
        "            \"Input DataFrame must contain a 'Grades' column.\"\n",
        "        )\n",
        "\n",
        "# Run tests\n",
        "if __name__ == '__main__':\n",
        "    unittest.main(argv=['first-arg-is-ignored'], exit=False)\n"
      ]
    },
    {
      "cell_type": "markdown",
      "metadata": {
        "id": "gwE9LoJXPNBh"
      },
      "source": [
        "# pytest\n",
        "\n",
        "pytest is a powerful and flexible Python testing framework used to write simple, readable tests and scale to complex test suites. It’s widely used in professional development and supports features like fixtures, parameterized tests, and detailed failure reports out of the box.\n",
        "\n",
        "<br>\n",
        "\n",
        "## How pytest Differs from Other Testing Approaches\n",
        "\n",
        "**Compared to unittest:**\n",
        "\n",
        "- pytest is simpler and less verbose—no need for classes or self.assertEqual().\n",
        "\n",
        "- Tests are just plain Python functions that start with test_, and assertions use the built-in assert keyword.\n",
        "\n",
        "- pytest gives better failure output and is easier to scale for large projects.\n",
        "\n",
        "<br>\n",
        "\n",
        "**Compared to pandas.testing:**\n",
        "\n",
        "- pandas.testing provides low-level utilities like assert_frame_equal() for comparing DataFrames, but it doesn't manage full test workflows or output.\n",
        "\n",
        "- We often use pandas.testing inside pytest for precise DataFrame validation.\n",
        "\n",
        "<br>\n",
        "\n",
        "## Why pytest Needs a Separate File\n",
        "\n",
        "- Unlike unittest, which can be run inline in a notebook or script, pytest relies on test discovery\n",
        "\n",
        "- it scans files starting with test_ or ending in _test.py to find and run test functions.\n",
        "\n",
        "<br>\n",
        "\n",
        "That means:\n",
        "\n",
        "- You usually need to save your tests to a .py file (like test_explode.py).\n",
        "\n",
        "- You run them with a command like !pytest test_explode.py in the terminal or Colab.\n",
        "\n",
        "<br>\n",
        "\n",
        "## How We Got pytest Working in a Notebook\n",
        "\n",
        "- Since Colab/Jupyter doesn’t automatically support pytest inline:\n",
        "\n",
        "    - We used the %%writefile magic command to write our test code into a .py file.\n",
        "\n",
        "    - Then, we ran it using !pytest test_explode.py, which allowed pytest to discover and execute the tests properly.\n",
        "\n",
        "    - Alternatively, we manually called test functions for quick feedback without using the full pytest CLI (Command Line Interface)."
      ]
    },
    {
      "cell_type": "code",
      "execution_count": 17,
      "metadata": {
        "colab": {
          "base_uri": "https://localhost:8080/"
        },
        "id": "ATXrLdkCXAC0",
        "outputId": "8a337a4e-a74e-478a-cd8c-cab3ffc4e2e7"
      },
      "outputs": [
        {
          "name": "stdout",
          "output_type": "stream",
          "text": [
            "Writing test_explode.py\n"
          ]
        }
      ],
      "source": [
        "%%writefile test_explode.py\n",
        "import pytest\n",
        "import pandas as pd\n",
        "from pandas.testing import assert_frame_equal\n",
        "\n",
        "\n",
        "def explode_grades_list(df: pd.DataFrame) -> pd.DataFrame:\n",
        "    if 'Grades' not in df.columns:\n",
        "        raise KeyError(\"Input DataFrame must contain a 'Grades' column.\")\n",
        "    exploded = df.explode('Grades').rename(columns={'Grades': 'Grade'})\n",
        "    return exploded.dropna(subset=['Grade'])\n",
        "\n",
        "\n",
        "@pytest.fixture\n",
        "def sample_dataframe():\n",
        "    data = {\n",
        "        'Student': ['Alice', 'Bob'],\n",
        "        'Class': ['Math', 'History'],\n",
        "        'Grades': [[90, 85], [78]]\n",
        "    }\n",
        "    return pd.DataFrame(data)\n",
        "\n",
        "\n",
        "def test_basic_explosion_pytest(sample_dataframe):\n",
        "    result_df = explode_grades_list(sample_dataframe).reset_index(drop=True)\n",
        "    result_df[\"Grade\"] = result_df[\"Grade\"].astype(int)\n",
        "\n",
        "    expected_df = pd.DataFrame({\n",
        "        'Student': ['Alice', 'Alice', 'Bob'],\n",
        "        'Class': ['Math', 'Math', 'History'],\n",
        "        'Grade': [90, 85, 78]\n",
        "    }).reset_index(drop=True)\n",
        "    expected_df[\"Grade\"] = expected_df[\"Grade\"].astype(int)\n",
        "\n",
        "    assert_frame_equal(result_df, expected_df)\n",
        "\n",
        "\n",
        "def test_with_empty_list_pytest():\n",
        "    input_df = pd.DataFrame({\n",
        "        'Student': ['Alice', 'Charlie'],\n",
        "        'Grades': [[90, 85], []]\n",
        "    })\n",
        "    result_df = explode_grades_list(input_df).reset_index(drop=True)\n",
        "    result_df[\"Grade\"] = result_df[\"Grade\"].astype(int)\n",
        "\n",
        "    expected_df = pd.DataFrame({\n",
        "        'Student': ['Alice', 'Alice'],\n",
        "        'Grade': [90, 85]\n",
        "    }).reset_index(drop=True)\n",
        "    expected_df[\"Grade\"] = expected_df[\"Grade\"].astype(int)\n",
        "\n",
        "    assert_frame_equal(result_df, expected_df)\n",
        "\n",
        "\n",
        "def test_missing_grades_column_raises_error_pytest():\n",
        "    df = pd.DataFrame({'Student': ['David']})\n",
        "    with pytest.raises(KeyError, match=\"Input DataFrame must contain a 'Grades' column.\"):\n",
        "        explode_grades_list(df)\n"
      ]
    },
    {
      "cell_type": "markdown",
      "metadata": {},
      "source": [
        "This will:\n",
        "- Use pytest to run the test file test_explode.py\n",
        "- Suppress warnings with --disable-warnings\n",
        "- Run in quiet mode (-q) so the output is cleaner"
      ]
    },
    {
      "cell_type": "code",
      "execution_count": 6,
      "metadata": {
        "colab": {
          "base_uri": "https://localhost:8080/"
        },
        "id": "YX5asB16XQCO",
        "outputId": "89561353-b949-4e90-f26d-cd41cde12139"
      },
      "outputs": [
        {
          "name": "stdout",
          "output_type": "stream",
          "text": [
            "\u001b[32m.\u001b[0m\u001b[32m.\u001b[0m\u001b[32m.\u001b[0m\u001b[32m                                                                      [100%]\u001b[0m\n",
            "\u001b[32m\u001b[32m\u001b[1m3 passed\u001b[0m\u001b[32m in 0.22s\u001b[0m\u001b[0m\n"
          ]
        }
      ],
      "source": [
        "!pytest test_explode.py --disable-warnings -q"
      ]
    },
    {
      "cell_type": "markdown",
      "metadata": {},
      "source": [
        "## To run your pytest test file from a regular terminal\n",
        "\n",
        "- Navigate to `3_tests` folder\n",
        "\n",
        "Run this command:\n",
        "\n",
        "```bash\n",
        "pytest test_explode.py\n",
        "```"
      ]
    },
    {
      "cell_type": "markdown",
      "metadata": {},
      "source": [
        "---\n",
        "---\n",
        "\n",
        "FIN\n",
        "\n",
        "---\n",
        "---\n",
        "<br>\n",
        "<br>\n",
        "<br>\n",
        "<br>\n",
        "<br>\n",
        "<br>\n",
        "<br>\n",
        "<br>\n",
        "<br>\n",
        "<br>\n",
        "<br>\n",
        "<br>\n",
        "<br>\n",
        "<br>\n",
        "<br>\n",
        "<br>\n",
        "<br>\n",
        "<br>\n",
        "<br>\n",
        "<br>\n",
        "<br>\n",
        "<br>\n",
        "<br>\n",
        "<br>\n",
        "<br>\n",
        "<br>\n",
        "<br>\n",
        "---"
      ]
    },
    {
      "cell_type": "markdown",
      "metadata": {},
      "source": [
        "# For use in colab only"
      ]
    },
    {
      "cell_type": "code",
      "execution_count": 8,
      "metadata": {
        "colab": {
          "base_uri": "https://localhost:8080/"
        },
        "id": "YjYnhoO5beOb",
        "outputId": "0bf433f9-aea7-4318-8203-5f41eb369c7e"
      },
      "outputs": [],
      "source": [
        "# from google.colab import drive\n",
        "# drive.mount('/content/drive')"
      ]
    },
    {
      "cell_type": "markdown",
      "metadata": {},
      "source": [
        "# Used to make the table of contents. "
      ]
    },
    {
      "cell_type": "code",
      "execution_count": null,
      "metadata": {
        "colab": {
          "base_uri": "https://localhost:8080/"
        },
        "id": "QYwGW4bkauAJ",
        "outputId": "22920f95-e7d6-49ab-f3d2-80c76b99e83c"
      },
      "outputs": [
        {
          "name": "stdout",
          "output_type": "stream",
          "text": [
            "--- Copy the Markdown below and paste it into a new Text Cell ---\n",
            "### **Table of Contents**\n",
            "* [Data Track Ideas](#data-track-ideas)\n",
            "* [Tests using Pandas Tests](#tests-using-pandas-tests)\n",
            "  * [What This Code Does Overall](#what-this-code-does-overall)\n",
            "  * [Function-by-Function](#function-by-function)\n",
            "* [Summary](#summary)\n",
            "* [Testing Time Using Pandas Testing](#testing-time-using-pandas-testing)\n",
            "  * [Defining the test data generator function](#defining-the-test-data-generator-function)\n",
            "  * [Demonstrating `prepare_dataframe_for_melt`](#demonstrating-`prepare_dataframe_for_melt`)\n",
            "  * [Demonstrating `unpivot_classes_to_rows`](#demonstrating-`unpivot_classes_to_rows`)\n",
            "  * [Demonstrating `_explode_grades_list`](#demonstrating-`_explode_grades_list`)\n",
            "  * [Demonstrating `add_assignment_numbers`](#demonstrating-`add_assignment_numbers`)\n",
            "* [A look at different tests](#a-look-at-different-tests)\n",
            "* [Unit testing](#unit-testing)\n",
            "    * [What Are Unit Tests?](#what-are-unit-tests?)\n",
            "  * [This first test will fail](#this-first-test-will-fail)\n",
            "    * [Why the Tests Failed (Short + Clear)](#why-the-tests-failed-(short-+-clear)\n",
            "    * [Why This Matters in Development](#why-this-matters-in-development)\n",
            "  * [We have 3 things to fix and now have to edit the function to no longer break.](#we-have-3-things-to-fix-and-now-have-to-edit-the-function-to-no-longer-break)\n",
            "    * [**Fix 1:** dtype mismatch in test_basic_explosion](#**fix-1:**-dtype-mismatch-in-test_basic_explosion)\n",
            "    * [Fix 2: Error message mismatch in test_missing_grades_column_raises_error](#fix-2:-error-message-mismatch-in-test_missing_grades_column_raises_error)\n",
            "    * [Fix 3: test_with_empty_list unexpected row](#fix-3:-test_with_empty_list-unexpected-row)\n",
            "* [corrected function example](#corrected-function-example)\n",
            "* [working Unit test](#working-unit-test)\n",
            "* [pytest](#pytest)\n",
            "  * [How pytest Differs from Other Testing Approaches](#how-pytest-differs-from-other-testing-approaches)\n",
            "  * [Why pytest Needs a Separate File](#why-pytest-needs-a-separate-file)\n",
            "  * [How We Got pytest Working in a Notebook](#how-we-got-pytest-working-in-a-notebook)\n",
            "\n"
          ]
        }
      ],
      "source": [
        "# import json\n",
        "\n",
        "# # Path to the notebook file in the Colab environment\n",
        "# notebook_path = '/content/drive/MyDrive/path/to/your/notebook.ipynb' #<-- CHANGE THIS to your notebook's path\n",
        "\n",
        "# # Or, if you're working with a notebook that's not saved to Drive yet,\n",
        "# # you can try to find it in the local Colab file system.\n",
        "# # This requires you to know the name it's currently running as.\n",
        "# # from google.colab import _instance_id\n",
        "# # notebook_path = f'/content/sample_data/colab_notebooks/{_instance_id}' # This is an advanced trick and may not always work\n",
        "\n",
        "# def generate_toc_from_notebook(notebook_path):\n",
        "#     \"\"\"Parses a notebook and generates Markdown for a Table of Contents.\"\"\"\n",
        "#     try:\n",
        "#         with open(notebook_path, 'r', encoding='utf-8') as f:\n",
        "#             notebook = json.load(f)\n",
        "#     except FileNotFoundError:\n",
        "#         print(f\"Error: Notebook file not found at '{notebook_path}'\")\n",
        "#         print(\"Please make sure you have mounted your Google Drive and updated the path.\")\n",
        "#         return\n",
        "\n",
        "#     toc_markdown = \"### **Table of Contents**\\n\"\n",
        "#     for cell in notebook['cells']:\n",
        "#         if cell['cell_type'] == 'markdown':\n",
        "#             # Check each line of the markdown cell for a heading\n",
        "#             for line in cell['source']:\n",
        "#                 if line.startswith('#'):\n",
        "#                     # Found a heading\n",
        "#                     level = line.count('#')\n",
        "#                     title = line.strip('#').strip()\n",
        "#                     link = title.lower().replace(' ', '-').strip('-.()') # Basic cleaning\n",
        "\n",
        "#                     # Create indentation based on heading level\n",
        "#                     indent = '  ' * (level - 1)\n",
        "#                     toc_markdown += f\"{indent}* [{title}](#{link})\\n\"\n",
        "\n",
        "#     print(\"--- Copy the Markdown below and paste it into a new Text Cell ---\")\n",
        "#     print(toc_markdown)\n",
        "\n",
        "\n",
        "# # IMPORTANT: You need to know the path to your notebook for this to work.\n",
        "# # 1. Paste the path below.\n",
        "# notebook_file_path = '/content/drive/MyDrive/Colab Notebooks/post_grad_ideas.ipynb'  # <-- PASTE YOUR COPIED PATH HERE\n",
        "\n",
        "# generate_toc_from_notebook(notebook_file_path)"
      ]
    }
  ],
  "metadata": {
    "colab": {
      "provenance": []
    },
    "kernelspec": {
      "display_name": "venv",
      "language": "python",
      "name": "python3"
    },
    "language_info": {
      "codemirror_mode": {
        "name": "ipython",
        "version": 3
      },
      "file_extension": ".py",
      "mimetype": "text/x-python",
      "name": "python",
      "nbconvert_exporter": "python",
      "pygments_lexer": "ipython3",
      "version": "3.12.2"
    }
  },
  "nbformat": 4,
  "nbformat_minor": 0
}
