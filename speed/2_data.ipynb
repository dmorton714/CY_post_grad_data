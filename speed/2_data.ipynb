{
 "cells": [
  {
   "cell_type": "markdown",
   "id": "9acc3262",
   "metadata": {},
   "source": [
    "# Data Optimizations, Does it Really Matter?\n",
    "\n",
    "In this notebook, we’ll explore how small code optimizations and best practices can lead to significant improvements in performance. By making seemingly minor adjustments, we can speed up workflows, reduce resource usage, and improve overall efficiency—both on our local machines and in production environments.\n",
    "\n",
    "We'll also walk through a real-world example showing how a simple change, like specifying data types during CSV import, can save substantial time and money when scaled across an entire year."
   ]
  },
  {
   "cell_type": "markdown",
   "id": "a7cf97b5",
   "metadata": {},
   "source": [
    "### **Table of Contents**\n",
    "* [Data Optimizations, Does it Really Matter?](#data-optimizations,-does-it-really-matter?)\n",
    "  * [Real-World Example: The Cost of Not Optimizing](#real-world-example:-the-cost-of-not-optimizing)\n",
    "  * [Use Case: The Job](#use-case:-the-job)\n",
    "  * [Two Approaches](#two-approaches)\n",
    "    * [Inefficient Approach:](#inefficient-approach:)\n",
    "    * [Optimized Approach:](#optimized-approach:)\n",
    "  * [Estimated Time Savings](#estimated-time-savings)\n",
    "  * [Infrastructure Cost Savings](#infrastructure-cost-savings)\n",
    "  * [Conclusion](#conclusion)\n",
    "* [Pandas Data Types Cheat Sheet](#pandas-data-types-cheat-sheet)\n",
    "  * [Numeric Types](#numeric-types)\n",
    "  * [String and Categorical](#string-and-categorical)\n",
    "  * [Date/Time](#date/time)\n",
    "  * [Boolean](#boolean)\n",
    "  * [Pro Tips](#pro-tips)\n",
    "  * [Summary Table](#summary-table)\n"
   ]
  },
  {
   "cell_type": "markdown",
   "id": "72e82b2a",
   "metadata": {},
   "source": [
    "## Real-World Example: The Cost of Not Optimizing\n",
    "\n",
    "Let’s look at a simple yet common task: \n",
    "- loading and preprocessing a dataset with **15 million rows and 9 columns**. \n",
    "\n",
    "This could represent something like:\n",
    "- Daily logs from IoT sensors, web traffic, or transactional data across multiple business units.\n",
    "\n",
    "## Use Case: The Job\n",
    "\n",
    "Imagine this ETL (Extract, Transform, Load) task is run:\n",
    "- **4 times per day** (hourly imports + daily reprocessing)\n",
    "- **365 days per year**\n",
    "- That’s **1,460 executions annually**\n",
    "\n",
    "\n",
    "\n",
    "## Two Approaches\n",
    "\n",
    "Here we will look at 2 different approaches doing the task. One will be less idea and the other optimized. \n",
    "\n",
    "### Inefficient Approach:\n",
    "Loading the data manually and letting pandas infer data types:\n",
    "\n",
    "```python\n",
    "df = pd.read_csv(\"data.csv\")\n",
    "```\n",
    "Takes ~12.4 seconds on average per run\n",
    "\n",
    "High memory footprint due to object and float64 defaults\n",
    "\n",
    "\n",
    "### Optimized Approach:\n",
    "Using a function to apply predefined types on import:\n",
    "\n",
    "```python\n",
    "def load_typed_df(path):\n",
    "    dtypes = {\n",
    "        \"id\": \"int32\",\n",
    "        \"status\": \"category\",\n",
    "        \"timestamp\": \"datetime64[ns]\",\n",
    "        \"sensor_1\": \"float32\",\n",
    "        \"sensor_2\": \"float32\",\n",
    "        # and so on...\n",
    "    }\n",
    "    return pd.read_csv(path, dtype=dtypes, parse_dates=[\"timestamp\"])\n",
    "```\n",
    "\n",
    "Takes ~3.2 seconds on average\n",
    "\n",
    "Uses less than half the memory\n",
    "\n",
    "#### Estimated Time Savings\n",
    "| Metric |\tValue | \n",
    "|:----: | :-----: | \n",
    "| Time saved per run | 9.2 seconds |\n",
    "| Runs per year | 1,460 |\n",
    "| Total time saved per year | 13,432 seconds (~3.7 hours) |\n",
    "\n",
    "## Infrastructure Cost Savings\n",
    "Let’s assume this process runs on a cloud machine costing $0.05 per minute (e.g., AWS EC2 or Databricks jobs):\n",
    "- 3.7 hours saved × $3.00/hour = ~$11.10 saved per year per script\n",
    "\n",
    "In a modern data pipeline with dozens of similar jobs, the savings scale exponentially:\n",
    "- 25 such jobs × $11.10 = $277.50/year\n",
    "- 100 jobs = $1,110/year, just from applying types and function reuse\n",
    "\n",
    "## Conclusion\n",
    "What seems like a small tweak, predefining data types and using a reusable function, leads to:\n",
    "- Dramatically faster load times\n",
    "- Lower memory usage\n",
    "- Real infrastructure cost savings\n",
    "- More readable and maintainable code\n",
    "- These optimizations are easy wins in any production pipeline.\n"
   ]
  },
  {
   "cell_type": "markdown",
   "id": "7f339885",
   "metadata": {},
   "source": [
    "--- \n",
    "\n",
    "\n",
    "\n",
    "---"
   ]
  },
  {
   "cell_type": "markdown",
   "id": "9a53d2fa",
   "metadata": {},
   "source": [
    "# Pandas Data Types Cheat Sheet\n",
    "\n",
    "Optimize performance and memory in your data analysis by explicitly setting column types.\n",
    "\n",
    "---\n",
    "\n",
    "## Numeric Types\n",
    "\n",
    "| Pandas dtype | Python equivalent | When to use                     | Memory-efficient? |\n",
    "|--------------|--------------------|----------------------------------|--------------------|\n",
    "| `int64`      | `int`              | Default for integers             | ❌ No              |\n",
    "| `int32`      | `int`              | Smaller integers (±2B)           | ✅ Yes             |\n",
    "| `int8`       | `int`              | Small values or flags (0/1)      | ✅ Yes             |\n",
    "| `float64`    | `float`            | Default for floats               | ❌ No              |\n",
    "| `float32`    | `float`            | Lower-precision floats           | ✅ Yes             |\n",
    "| `float16`    | `float`            | Large arrays, limited precision  | ✅⚠️ Yes           |\n",
    "\n",
    "---\n",
    "\n",
    "## String and Categorical\n",
    "\n",
    "| Pandas dtype | When to use                              | Notes                          |\n",
    "|--------------|-------------------------------------------|--------------------------------|\n",
    "| `object`     | Default for strings/mixed types           | ❌ Slow, memory-heavy          |\n",
    "| `string`     | New dedicated string type                 | Safer than `object`           |\n",
    "| `category`   | Repeating text values (e.g. country)      | ✅ Great for groupby/filtering |\n",
    "\n",
    "```python\n",
    "df[\"gender\"] = df[\"gender\"].astype(\"category\")\n",
    "```\n",
    "\n",
    "---\n",
    "\n",
    "## Date/Time\n",
    "\n",
    "| Pandas dtype      | When to use               | Notes                     |\n",
    "|-------------------|----------------------------|---------------------------|\n",
    "| `datetime64[ns]`  | Date/time values           | Use `pd.to_datetime()`    |\n",
    "| `timedelta64[ns]` | Durations or differences   | Use `pd.to_timedelta()`   |\n",
    "\n",
    "```python\n",
    "df[\"date\"] = pd.to_datetime(df[\"date\"], errors=\"coerce\")\n",
    "```\n",
    "\n",
    "---\n",
    "\n",
    "## Boolean\n",
    "\n",
    "| Pandas dtype | When to use        | Notes                          |\n",
    "|--------------|--------------------|--------------------------------|\n",
    "| `bool`       | True/False          | ✅ Very efficient               |\n",
    "| `boolean`    | With missing values | Use for nullable booleans      |\n",
    "\n",
    "```python\n",
    "df[\"is_active\"] = df[\"is_active\"].astype(\"bool\")\n",
    "```\n",
    "\n",
    "---\n",
    "\n",
    "## Pro Tips\n",
    "\n",
    "- **Set types when loading CSVs**\n",
    "```python\n",
    "pd.read_csv(\"file.csv\", dtype={\"id\": \"int32\", \"gender\": \"category\"})\n",
    "```\n",
    "\n",
    "- **Downcast numerics**\n",
    "```python\n",
    "df[\"score\"] = pd.to_numeric(df[\"score\"], downcast=\"float\")\n",
    "df[\"id\"] = pd.to_numeric(df[\"id\"], downcast=\"integer\")\n",
    "```\n",
    "\n",
    "- **Check memory usage**\n",
    "```python\n",
    "df.info(memory_usage=\"deep\")\n",
    "```\n",
    "\n",
    "---\n",
    "\n",
    "## Summary Table\n",
    "\n",
    "| Column Type | Best dtype         | Why                          |\n",
    "|-------------|--------------------|-------------------------------|\n",
    "| IDs         | `int32`/`int64`    | Save memory, keep accuracy    |\n",
    "| Flags       | `bool`/`int8`      | Small and efficient           |\n",
    "| Categories  | `category`         | Speeds up groupby/filtering   |\n",
    "| Prices      | `float32`          | Good enough for most floats   |\n",
    "| Dates       | `datetime64[ns]`   | Enables time-based filtering  |\n",
    "| Short text  | `category`/`string`| Faster than `object`          |\n",
    "| Long text   | `object`           | Only real option (for now)    |\n",
    "\n",
    "---\n",
    "\n",
    "> Use `astype()` or `dtype=` to control types and avoid surprises.\n",
    "\n",
    "--- \n",
    "--- "
   ]
  },
  {
   "cell_type": "markdown",
   "id": "8044a332",
   "metadata": {},
   "source": [
    "# Getting started! "
   ]
  },
  {
   "cell_type": "code",
   "execution_count": 66,
   "id": "97ce5735",
   "metadata": {},
   "outputs": [],
   "source": [
    "import pandas as pd\n",
    "import numpy as np\n",
    "import random\n",
    "import matplotlib.pyplot as plt"
   ]
  },
  {
   "cell_type": "markdown",
   "id": "0d68f72a",
   "metadata": {},
   "source": [
    "Let’s generate a large set of synthetic data to work with for this example. If you encounter performance issues, I’ll point out where you can adjust the size of the dataset to better suit your machine’s capabilities."
   ]
  },
  {
   "cell_type": "code",
   "execution_count": null,
   "id": "46b17171",
   "metadata": {},
   "outputs": [
    {
     "name": "stdout",
     "output_type": "stream",
     "text": [
      "Generating a dataset with 5500000 rows...\n",
      "DataFrame created. Now saving to 'my_tricky_data.csv'...\n",
      "Save complete.\n"
     ]
    },
    {
     "data": {
      "text/html": [
       "<div>\n",
       "<style scoped>\n",
       "    .dataframe tbody tr th:only-of-type {\n",
       "        vertical-align: middle;\n",
       "    }\n",
       "\n",
       "    .dataframe tbody tr th {\n",
       "        vertical-align: top;\n",
       "    }\n",
       "\n",
       "    .dataframe thead th {\n",
       "        text-align: right;\n",
       "    }\n",
       "</style>\n",
       "<table border=\"1\" class=\"dataframe\">\n",
       "  <thead>\n",
       "    <tr style=\"text-align: right;\">\n",
       "      <th></th>\n",
       "      <th>id</th>\n",
       "      <th>mixed_numeric</th>\n",
       "      <th>boolean_like</th>\n",
       "      <th>date_like</th>\n",
       "      <th>categorical_noise</th>\n",
       "      <th>mostly_empty</th>\n",
       "    </tr>\n",
       "  </thead>\n",
       "  <tbody>\n",
       "    <tr>\n",
       "      <th>0</th>\n",
       "      <td>0</td>\n",
       "      <td>4114</td>\n",
       "      <td>0</td>\n",
       "      <td>2020-08-19</td>\n",
       "      <td>alpha</td>\n",
       "      <td>NaN</td>\n",
       "    </tr>\n",
       "    <tr>\n",
       "      <th>1</th>\n",
       "      <td>1</td>\n",
       "      <td>4328</td>\n",
       "      <td>N/A</td>\n",
       "      <td>2022-03-08</td>\n",
       "      <td>epsilon</td>\n",
       "      <td>NaN</td>\n",
       "    </tr>\n",
       "    <tr>\n",
       "      <th>2</th>\n",
       "      <td>2</td>\n",
       "      <td>3936</td>\n",
       "      <td>True</td>\n",
       "      <td>07/26/2020</td>\n",
       "      <td>alpha</td>\n",
       "      <td>NaN</td>\n",
       "    </tr>\n",
       "    <tr>\n",
       "      <th>3</th>\n",
       "      <td>3</td>\n",
       "      <td>4275</td>\n",
       "      <td></td>\n",
       "      <td>Jul 14, 2021</td>\n",
       "      <td>epsilon</td>\n",
       "      <td>NaN</td>\n",
       "    </tr>\n",
       "    <tr>\n",
       "      <th>4</th>\n",
       "      <td>4</td>\n",
       "      <td>5210</td>\n",
       "      <td>false</td>\n",
       "      <td>03/16/2023</td>\n",
       "      <td>epsilon</td>\n",
       "      <td>NaN</td>\n",
       "    </tr>\n",
       "    <tr>\n",
       "      <th>...</th>\n",
       "      <td>...</td>\n",
       "      <td>...</td>\n",
       "      <td>...</td>\n",
       "      <td>...</td>\n",
       "      <td>...</td>\n",
       "      <td>...</td>\n",
       "    </tr>\n",
       "    <tr>\n",
       "      <th>5499995</th>\n",
       "      <td>5499995</td>\n",
       "      <td>2431</td>\n",
       "      <td>N/A</td>\n",
       "      <td>2024-01-01</td>\n",
       "      <td>beta</td>\n",
       "      <td>NaN</td>\n",
       "    </tr>\n",
       "    <tr>\n",
       "      <th>5499996</th>\n",
       "      <td>5499996</td>\n",
       "      <td>7194</td>\n",
       "      <td>1</td>\n",
       "      <td>2021-04-09</td>\n",
       "      <td>delta</td>\n",
       "      <td>NaN</td>\n",
       "    </tr>\n",
       "    <tr>\n",
       "      <th>5499997</th>\n",
       "      <td>5499997</td>\n",
       "      <td>9048</td>\n",
       "      <td>yes</td>\n",
       "      <td>2024-10-26</td>\n",
       "      <td>delta</td>\n",
       "      <td>NaN</td>\n",
       "    </tr>\n",
       "    <tr>\n",
       "      <th>5499998</th>\n",
       "      <td>5499998</td>\n",
       "      <td>1613</td>\n",
       "      <td>0</td>\n",
       "      <td>Jan 27, 2020</td>\n",
       "      <td>epsilon</td>\n",
       "      <td>NaN</td>\n",
       "    </tr>\n",
       "    <tr>\n",
       "      <th>5499999</th>\n",
       "      <td>5499999</td>\n",
       "      <td>5527</td>\n",
       "      <td>False</td>\n",
       "      <td>02/08/2024</td>\n",
       "      <td>epsilon</td>\n",
       "      <td>NaN</td>\n",
       "    </tr>\n",
       "  </tbody>\n",
       "</table>\n",
       "<p>5500000 rows × 6 columns</p>\n",
       "</div>"
      ],
      "text/plain": [
       "              id mixed_numeric boolean_like     date_like categorical_noise  \\\n",
       "0              0          4114            0    2020-08-19             alpha   \n",
       "1              1          4328          N/A    2022-03-08           epsilon   \n",
       "2              2          3936         True    07/26/2020             alpha   \n",
       "3              3          4275               Jul 14, 2021           epsilon   \n",
       "4              4          5210        false    03/16/2023           epsilon   \n",
       "...          ...           ...          ...           ...               ...   \n",
       "5499995  5499995          2431          N/A    2024-01-01              beta   \n",
       "5499996  5499996          7194            1    2021-04-09             delta   \n",
       "5499997  5499997          9048          yes    2024-10-26             delta   \n",
       "5499998  5499998          1613            0  Jan 27, 2020           epsilon   \n",
       "5499999  5499999          5527        False    02/08/2024           epsilon   \n",
       "\n",
       "         mostly_empty  \n",
       "0                 NaN  \n",
       "1                 NaN  \n",
       "2                 NaN  \n",
       "3                 NaN  \n",
       "4                 NaN  \n",
       "...               ...  \n",
       "5499995           NaN  \n",
       "5499996           NaN  \n",
       "5499997           NaN  \n",
       "5499998           NaN  \n",
       "5499999           NaN  \n",
       "\n",
       "[5500000 rows x 6 columns]"
      ]
     },
     "execution_count": 67,
     "metadata": {},
     "output_type": "execute_result"
    }
   ],
   "source": [
    "import data_maker\n",
    "\n",
    "# Generate a file with 5,500,000 rows\n",
    "# change the number of rows to suit your machine's capabilities\n",
    "data_maker.create_tricky_csv(num_rows=50000, output_filename='my_tricky_data.csv')"
   ]
  },
  {
   "cell_type": "code",
   "execution_count": 68,
   "id": "7460fa79",
   "metadata": {},
   "outputs": [
    {
     "name": "stdout",
     "output_type": "stream",
     "text": [
      "1.4 s ± 77.6 ms per loop (mean ± std. dev. of 7 runs, 1 loop each)\n"
     ]
    }
   ],
   "source": [
    "%%timeit\n",
    "df = pd.read_csv('my_tricky_data.csv')"
   ]
  },
  {
   "cell_type": "markdown",
   "id": "0754a1c5",
   "metadata": {},
   "source": [
    "Copy your output and paste it to the variable `standard_import_time` and rerun that cell"
   ]
  },
  {
   "cell_type": "code",
   "execution_count": 69,
   "id": "ab0945ba",
   "metadata": {},
   "outputs": [],
   "source": [
    "standard_import_time = \"1.29 s ± 15.7 ms per loop (mean ± std. dev. of 7 runs, 1 loop each)\""
   ]
  },
  {
   "cell_type": "code",
   "execution_count": 70,
   "id": "14217674",
   "metadata": {},
   "outputs": [
    {
     "name": "stdout",
     "output_type": "stream",
     "text": [
      "1.35 s ± 84 ms per loop (mean ± std. dev. of 7 runs, 1 loop each)\n"
     ]
    }
   ],
   "source": [
    "%%timeit\n",
    "\n",
    "dtypes = {\n",
    "    'id': 'int32',\n",
    "    'mixed_numeric': 'object',\n",
    "    'boolean_like': 'category',\n",
    "    'date_like': 'object',\n",
    "    'categorical_noise': 'category',\n",
    "    'mostly_empty': 'float32'\n",
    "}\n",
    "df_fast = pd.read_csv('my_tricky_data.csv', dtype=dtypes)"
   ]
  },
  {
   "cell_type": "markdown",
   "id": "a31245cf",
   "metadata": {},
   "source": [
    "Copy your output and paste it to the variable `dtype_import_time` and rerun that cell"
   ]
  },
  {
   "cell_type": "code",
   "execution_count": 71,
   "id": "9f38d9d7",
   "metadata": {},
   "outputs": [],
   "source": [
    "dtype_import_time = \"1.27 s ± 6.46 ms per loop (mean ± std. dev. of 7 runs, 1 loop each)\""
   ]
  },
  {
   "cell_type": "code",
   "execution_count": 72,
   "id": "a54c616b",
   "metadata": {},
   "outputs": [
    {
     "name": "stdout",
     "output_type": "stream",
     "text": [
      "--- Inferred Dtypes ---\n",
      "<class 'pandas.core.frame.DataFrame'>\n",
      "RangeIndex: 5500000 entries, 0 to 5499999\n",
      "Data columns (total 6 columns):\n",
      " #   Column             Dtype  \n",
      "---  ------             -----  \n",
      " 0   id                 int64  \n",
      " 1   mixed_numeric      object \n",
      " 2   boolean_like       object \n",
      " 3   date_like          object \n",
      " 4   categorical_noise  object \n",
      " 5   mostly_empty       float64\n",
      "dtypes: float64(1), int64(1), object(4)\n",
      "memory usage: 1.2 GB\n",
      "\n",
      "--- Specified Dtypes ---\n",
      "<class 'pandas.core.frame.DataFrame'>\n",
      "RangeIndex: 5500000 entries, 0 to 5499999\n",
      "Data columns (total 6 columns):\n",
      " #   Column             Dtype   \n",
      "---  ------             -----   \n",
      " 0   id                 int32   \n",
      " 1   mixed_numeric      object  \n",
      " 2   boolean_like       category\n",
      " 3   date_like          object  \n",
      " 4   categorical_noise  category\n",
      " 5   mostly_empty       float32 \n",
      "dtypes: category(2), float32(1), int32(1), object(2)\n",
      "memory usage: 663.1 MB\n"
     ]
    }
   ],
   "source": [
    "# The slow/memory-heavy way\n",
    "df = pd.read_csv('my_tricky_data.csv')\n",
    "print(\"--- Inferred Dtypes ---\")\n",
    "df.info(memory_usage='deep')\n",
    "\n",
    "# The fast/memory-efficient way\n",
    "dtypes = {\n",
    "    'id': 'int32',\n",
    "    'mixed_numeric': 'object',\n",
    "    'boolean_like': 'category',\n",
    "    'date_like': 'object',\n",
    "    'categorical_noise': 'category',\n",
    "    'mostly_empty': 'float32'\n",
    "}\n",
    "df_fast = pd.read_csv('my_tricky_data.csv', dtype=dtypes)\n",
    "print(\"\\n--- Specified Dtypes ---\")\n",
    "df_fast.info(memory_usage='deep')"
   ]
  },
  {
   "cell_type": "markdown",
   "id": "8e75a1c4",
   "metadata": {},
   "source": [
    "Copy your output for memory usage and paste it to the variables below then rerun the cell"
   ]
  },
  {
   "cell_type": "code",
   "execution_count": 73,
   "id": "38d4be8d",
   "metadata": {},
   "outputs": [],
   "source": [
    "standard_import_memory = \"memory usage: 1.2 GB\"\n",
    "dtype_import_memory = \"memory usage: 663.1 MB\""
   ]
  },
  {
   "cell_type": "markdown",
   "id": "d25202ff",
   "metadata": {},
   "source": [
    "## Plotting your performance \n",
    "\n",
    "Run the cell below after you update your variables and see how much of an impact this had on your machine."
   ]
  },
  {
   "cell_type": "code",
   "execution_count": 74,
   "id": "ca9bbd9d",
   "metadata": {},
   "outputs": [
    {
     "name": "stdout",
     "output_type": "stream",
     "text": [
      "Parsing results and generating plots...\n"
     ]
    },
    {
     "data": {
      "image/png": "[encoded data removed]",
      "text/plain": [
       "<Figure size 1400x600 with 2 Axes>"
      ]
     },
     "metadata": {},
     "output_type": "display_data"
    }
   ],
   "source": [
    "from plot_tool import plot_benchmark_results\n",
    "\n",
    "plot_benchmark_results(\n",
    "    standard_import_time,\n",
    "    dtype_import_time,\n",
    "    standard_import_memory,\n",
    "    dtype_import_memory\n",
    ")"
   ]
  },
  {
   "cell_type": "markdown",
   "id": "8163f075",
   "metadata": {},
   "source": [
    "# What this means\n",
    "\n",
    "I saw very little difference in the read time on my machine being a **20ms** difference. However I saw a dramatic difference in the memory usage. We achieved a **~46%** reduction in memory usage by declaring the data types on import. \n",
    "\n",
    "## Impact in an AWS Production Environment\n",
    "A 46% memory reduction is not just a minor improvement in an AWS environment. It's a massive win that has direct and significant impacts on cost, performance, and stability.\n",
    "\n",
    "### Here’s how this would affect a script running in production:\n",
    "Direct Cost Savings\n",
    "- Most AWS services are billed based on resource consumption (memory and CPU) over time.\n",
    "\n",
    "- AWS Lambda: If this script runs in a Lambda function, you are billed for the memory allocated per millisecond of runtime (GB-seconds). Cutting memory usage by 46% could nearly halve the cost of every execution.\n",
    "\n",
    "- AWS Fargate / ECS (Containers): You provision container tasks with specific memory limits (e.g., 2 GB). With this optimization, you could run your task in a 1 GB container instead of a 2GB one. This directly cuts the cost and allows you to pack more containers onto your underlying infrastructure, improving efficiency.\n",
    "\n",
    "- EC2 Instances (Virtual Servers): If this job is a major part of an application running on an EC2 instance, you could choose a smaller, cheaper instance type. Moving from a memory-optimized instance to a general-purpose one, or simply a smaller size, results in direct hourly savings.\n",
    "\n",
    "- AWS Glue: For serverless ETL jobs, you are billed by the DPU (Data Processing Unit) hour. More memory-efficient code means your job can process more data per DPU or finish faster, directly reducing your AWS Glue bill.\n",
    "\n",
    "### Improved Performance and Scalability\n",
    "- Faster Downstream Processing: While the initial file read time was similar, any subsequent operations on the DataFrame (calculations, aggregations, filtering) are significantly faster on columns with proper numeric or categorical dtypes compared to the generic object dtype. This reduces the total job runtime, which also lowers costs.\n",
    "\n",
    "- Better Scalability: When your service needs to scale out to handle more traffic, each new instance or container requires less memory. This makes scaling cheaper and reduces the risk of hitting service limits that could prevent your application from scaling when needed.\n",
    "\n",
    "### Increased Stability and Reliability\n",
    "- Avoiding OutOfMemory Errors: This is the most critical point. In a production environment, running out of memory is a common cause of failed jobs and application crashes. By cutting your memory footprint by nearly half, you drastically reduce the risk of these errors, making your entire application more robust and reliable.\n",
    "\n",
    "- Predictable Resource Profile: A job with a lower, more predictable memory usage is easier to manage and operate. You can be more confident in your resource allocation and less likely to have one memory-intensive job negatively impact other services running on the same machine.\n",
    "\n",
    "In short, while a 20ms time saving on your laptop seems trivial, a 46% memory reduction in a pay-as-you-go cloud environment is a major engineering achievement that leads to a cheaper, faster, and more stable product.\n",
    "\n",
    "--- "
   ]
  },
  {
   "cell_type": "markdown",
   "id": "751f9d31",
   "metadata": {},
   "source": [
    "# How to do this yourself \n",
    "\n",
    "Let’s walk through a simple example to see how we can build up to this point. We'll cover a basic workflow that makes this process possible. While it's tempting to assign data types by manually inspecting a dataset, that's not always the most effective or scalable approach. Instead, we can determine the appropriate data types as part of our exploratory data analysis (EDA). As we learn more about the data, we can iterate on our code—refining and cleaning it along the way to keep everything organized and efficient."
   ]
  },
  {
   "cell_type": "code",
   "execution_count": 75,
   "id": "8a30d0da",
   "metadata": {},
   "outputs": [],
   "source": [
    "data = {\n",
    "    \"Name\": [\"Alice\", \"Bob\", \"Charlie\", \"Diana\"],\n",
    "    \"Age\": [\"25\", \"30\", \"35\", None],  # Notice: Age is stored as strings and one missing value\n",
    "    \"Member\": [\"Yes\", \"No\", \"Yes\", \"No\"],  # Could be a boolean\n",
    "    \"JoinDate\": [\"2023-01-15\", \"2022-06-01\", \"2021-11-23\", \"not available\"],  # Needs conversion\n",
    "    \"Score\": [88.5, \"92.0\", 79, \"N/A\"]  # Mixed types\n",
    "}\n",
    "\n",
    "df = pd.DataFrame(data)\n",
    "df.to_csv('lil_data.csv') # Save the DataFrame to a CSV file for later use"
   ]
  },
  {
   "cell_type": "markdown",
   "id": "60fabe9a",
   "metadata": {},
   "source": [
    "He we have a very basic dataset. I made some notes so that we can see the issues. "
   ]
  },
  {
   "cell_type": "code",
   "execution_count": 76,
   "id": "ac80de51",
   "metadata": {},
   "outputs": [
    {
     "data": {
      "text/html": [
       "<div>\n",
       "<style scoped>\n",
       "    .dataframe tbody tr th:only-of-type {\n",
       "        vertical-align: middle;\n",
       "    }\n",
       "\n",
       "    .dataframe tbody tr th {\n",
       "        vertical-align: top;\n",
       "    }\n",
       "\n",
       "    .dataframe thead th {\n",
       "        text-align: right;\n",
       "    }\n",
       "</style>\n",
       "<table border=\"1\" class=\"dataframe\">\n",
       "  <thead>\n",
       "    <tr style=\"text-align: right;\">\n",
       "      <th></th>\n",
       "      <th>Name</th>\n",
       "      <th>Age</th>\n",
       "      <th>Member</th>\n",
       "      <th>JoinDate</th>\n",
       "      <th>Score</th>\n",
       "    </tr>\n",
       "  </thead>\n",
       "  <tbody>\n",
       "    <tr>\n",
       "      <th>0</th>\n",
       "      <td>Alice</td>\n",
       "      <td>25</td>\n",
       "      <td>Yes</td>\n",
       "      <td>2023-01-15</td>\n",
       "      <td>88.5</td>\n",
       "    </tr>\n",
       "    <tr>\n",
       "      <th>1</th>\n",
       "      <td>Bob</td>\n",
       "      <td>30</td>\n",
       "      <td>No</td>\n",
       "      <td>2022-06-01</td>\n",
       "      <td>92.0</td>\n",
       "    </tr>\n",
       "    <tr>\n",
       "      <th>2</th>\n",
       "      <td>Charlie</td>\n",
       "      <td>35</td>\n",
       "      <td>Yes</td>\n",
       "      <td>2021-11-23</td>\n",
       "      <td>79</td>\n",
       "    </tr>\n",
       "    <tr>\n",
       "      <th>3</th>\n",
       "      <td>Diana</td>\n",
       "      <td>None</td>\n",
       "      <td>No</td>\n",
       "      <td>not available</td>\n",
       "      <td>N/A</td>\n",
       "    </tr>\n",
       "  </tbody>\n",
       "</table>\n",
       "</div>"
      ],
      "text/plain": [
       "      Name   Age Member       JoinDate Score\n",
       "0    Alice    25    Yes     2023-01-15  88.5\n",
       "1      Bob    30     No     2022-06-01  92.0\n",
       "2  Charlie    35    Yes     2021-11-23    79\n",
       "3    Diana  None     No  not available   N/A"
      ]
     },
     "execution_count": 76,
     "metadata": {},
     "output_type": "execute_result"
    }
   ],
   "source": [
    "df"
   ]
  },
  {
   "cell_type": "code",
   "execution_count": 77,
   "id": "f40e4fc3",
   "metadata": {},
   "outputs": [
    {
     "data": {
      "text/plain": [
       "Name        object\n",
       "Age         object\n",
       "Member      object\n",
       "JoinDate    object\n",
       "Score       object\n",
       "dtype: object"
      ]
     },
     "execution_count": 77,
     "metadata": {},
     "output_type": "execute_result"
    }
   ],
   "source": [
    "df.dtypes"
   ]
  },
  {
   "cell_type": "markdown",
   "id": "57a56cd0",
   "metadata": {},
   "source": [
    "2 ways to look at types\n",
    "\n",
    "**Observation:** Everything is an object! \n",
    "- This is because each column contains at least one non-numeric value (or numbers stored as strings). \n",
    "- This is our signal to investigate each one."
   ]
  },
  {
   "cell_type": "code",
   "execution_count": 78,
   "id": "0671d808",
   "metadata": {},
   "outputs": [
    {
     "name": "stdout",
     "output_type": "stream",
     "text": [
      "<class 'pandas.core.frame.DataFrame'>\n",
      "RangeIndex: 4 entries, 0 to 3\n",
      "Data columns (total 5 columns):\n",
      " #   Column    Non-Null Count  Dtype \n",
      "---  ------    --------------  ----- \n",
      " 0   Name      4 non-null      object\n",
      " 1   Age       3 non-null      object\n",
      " 2   Member    4 non-null      object\n",
      " 3   JoinDate  4 non-null      object\n",
      " 4   Score     4 non-null      object\n",
      "dtypes: object(5)\n",
      "memory usage: 292.0+ bytes\n"
     ]
    }
   ],
   "source": [
    "df.info()"
   ]
  },
  {
   "cell_type": "code",
   "execution_count": 79,
   "id": "2baf6bf9",
   "metadata": {},
   "outputs": [
    {
     "data": {
      "text/plain": [
       "array(['25', '30', '35', None], dtype=object)"
      ]
     },
     "execution_count": 79,
     "metadata": {},
     "output_type": "execute_result"
    }
   ],
   "source": [
    "df['Age'].unique()"
   ]
  },
  {
   "cell_type": "markdown",
   "id": "034d7eed",
   "metadata": {},
   "source": [
    "**Conclusion:** \n",
    "- These are clearly numbers\n",
    "- The None value means we'll need a nullable integer type\n",
    "- Ideal Type: `Int64`"
   ]
  },
  {
   "cell_type": "code",
   "execution_count": 80,
   "id": "a2b56836",
   "metadata": {},
   "outputs": [
    {
     "data": {
      "text/plain": [
       "Member\n",
       "Yes    2\n",
       "No     2\n",
       "Name: count, dtype: int64"
      ]
     },
     "execution_count": 80,
     "metadata": {},
     "output_type": "execute_result"
    }
   ],
   "source": [
    "df['Member'].value_counts()"
   ]
  },
  {
   "cell_type": "markdown",
   "id": "1d9a9136",
   "metadata": {},
   "source": [
    "**Conclusion:** \n",
    "- This is a binary choice with very few unique values  \n",
    "- Ideal Type: category (or boolean if we map 'Yes'/'No' to True/False)"
   ]
  },
  {
   "cell_type": "code",
   "execution_count": 81,
   "id": "6a0264cb",
   "metadata": {},
   "outputs": [
    {
     "data": {
      "text/plain": [
       "array(['2023-01-15', '2022-06-01', '2021-11-23', 'not available'],\n",
       "      dtype=object)"
      ]
     },
     "execution_count": 81,
     "metadata": {},
     "output_type": "execute_result"
    }
   ],
   "source": [
    "df['JoinDate'].unique()"
   ]
  },
  {
   "cell_type": "markdown",
   "id": "187f4382",
   "metadata": {},
   "source": [
    "**Conclusion:** \n",
    "- Most of these are dates\n",
    "- There's a problem string (\"not available\")\n",
    "- Ideal Type: datetime64."
   ]
  },
  {
   "cell_type": "code",
   "execution_count": 82,
   "id": "8ce623f8",
   "metadata": {},
   "outputs": [
    {
     "data": {
      "text/plain": [
       "array([88.5, '92.0', 79, 'N/A'], dtype=object)"
      ]
     },
     "execution_count": 82,
     "metadata": {},
     "output_type": "execute_result"
    }
   ],
   "source": [
    "df['Score'].unique()"
   ]
  },
  {
   "cell_type": "markdown",
   "id": "ab5a15eb",
   "metadata": {},
   "source": [
    "**Conclusion:** \n",
    "- A mix of floats and integers\n",
    "- With a problem string ('N/A')\n",
    "- Ideal Type: `float64`"
   ]
  },
  {
   "cell_type": "markdown",
   "id": "88b25fcb",
   "metadata": {},
   "source": [
    "## The Optimized Import Strategy\n",
    "\n",
    "Now that we know the ideal types, we can build a strategy to load a large CSV version of this data efficiently.\n",
    "\n",
    "The key is to understand that `pd.read_csv` cannot perform data cleaning. If a column contains values that dont match the dtype you specify, it will fail. Therefore, the best strategy is a two-step process:\n",
    "\n",
    "Read the CSV with an initial dtype dictionary, loading problematic columns as object.\n",
    "\n",
    "Clean and convert the problematic columns after they are loaded into memory.\n",
    "\n",
    "\n",
    "- Name: string - Use the modern string dtype for text\n",
    "- Age: object - Must load as object to handle string-to-int conversion\n",
    "- Member: category - Perfect for low-cardinality text\n",
    "- JoinDate: object - Must load as object to handle not available\n",
    "- Score: object - Must load as object to handle N/A"
   ]
  },
  {
   "cell_type": "code",
   "execution_count": 83,
   "id": "af74e6d9",
   "metadata": {},
   "outputs": [
    {
     "data": {
      "text/html": [
       "<div>\n",
       "<style scoped>\n",
       "    .dataframe tbody tr th:only-of-type {\n",
       "        vertical-align: middle;\n",
       "    }\n",
       "\n",
       "    .dataframe tbody tr th {\n",
       "        vertical-align: top;\n",
       "    }\n",
       "\n",
       "    .dataframe thead th {\n",
       "        text-align: right;\n",
       "    }\n",
       "</style>\n",
       "<table border=\"1\" class=\"dataframe\">\n",
       "  <thead>\n",
       "    <tr style=\"text-align: right;\">\n",
       "      <th></th>\n",
       "      <th>Unnamed: 0</th>\n",
       "      <th>Name</th>\n",
       "      <th>Age</th>\n",
       "      <th>Member</th>\n",
       "      <th>JoinDate</th>\n",
       "      <th>Score</th>\n",
       "    </tr>\n",
       "  </thead>\n",
       "  <tbody>\n",
       "    <tr>\n",
       "      <th>0</th>\n",
       "      <td>0</td>\n",
       "      <td>Alice</td>\n",
       "      <td>25</td>\n",
       "      <td>Yes</td>\n",
       "      <td>2023-01-15</td>\n",
       "      <td>88.5</td>\n",
       "    </tr>\n",
       "    <tr>\n",
       "      <th>1</th>\n",
       "      <td>1</td>\n",
       "      <td>Bob</td>\n",
       "      <td>30</td>\n",
       "      <td>No</td>\n",
       "      <td>2022-06-01</td>\n",
       "      <td>92.0</td>\n",
       "    </tr>\n",
       "    <tr>\n",
       "      <th>2</th>\n",
       "      <td>2</td>\n",
       "      <td>Charlie</td>\n",
       "      <td>35</td>\n",
       "      <td>Yes</td>\n",
       "      <td>2021-11-23</td>\n",
       "      <td>79</td>\n",
       "    </tr>\n",
       "    <tr>\n",
       "      <th>3</th>\n",
       "      <td>3</td>\n",
       "      <td>Diana</td>\n",
       "      <td>NaN</td>\n",
       "      <td>No</td>\n",
       "      <td>NaN</td>\n",
       "      <td>NaN</td>\n",
       "    </tr>\n",
       "  </tbody>\n",
       "</table>\n",
       "</div>"
      ],
      "text/plain": [
       "   Unnamed: 0     Name  Age Member    JoinDate Score\n",
       "0           0    Alice   25    Yes  2023-01-15  88.5\n",
       "1           1      Bob   30     No  2022-06-01  92.0\n",
       "2           2  Charlie   35    Yes  2021-11-23    79\n",
       "3           3    Diana  NaN     No         NaN   NaN"
      ]
     },
     "execution_count": 83,
     "metadata": {},
     "output_type": "execute_result"
    }
   ],
   "source": [
    "best_dtypes = {\n",
    "    'Name': 'string',\n",
    "    'Age': 'object',\n",
    "    'Member': 'category',\n",
    "    'JoinDate': 'object',\n",
    "    'Score': 'object'\n",
    "}\n",
    "\n",
    "missing_values = ['N/A', 'not available']\n",
    "\n",
    "df_optimized = pd.read_csv('lil_data.csv', dtype=best_dtypes, na_values=missing_values)\n",
    "\n",
    "df_optimized"
   ]
  },
  {
   "cell_type": "markdown",
   "id": "4bf2d6d3",
   "metadata": {},
   "source": [
    "With the data successfully loading, the next step is to turn this process into a function so it can be reused easily."
   ]
  },
  {
   "cell_type": "code",
   "execution_count": 84,
   "id": "88826965",
   "metadata": {},
   "outputs": [
    {
     "data": {
      "text/html": [
       "<div>\n",
       "<style scoped>\n",
       "    .dataframe tbody tr th:only-of-type {\n",
       "        vertical-align: middle;\n",
       "    }\n",
       "\n",
       "    .dataframe tbody tr th {\n",
       "        vertical-align: top;\n",
       "    }\n",
       "\n",
       "    .dataframe thead th {\n",
       "        text-align: right;\n",
       "    }\n",
       "</style>\n",
       "<table border=\"1\" class=\"dataframe\">\n",
       "  <thead>\n",
       "    <tr style=\"text-align: right;\">\n",
       "      <th></th>\n",
       "      <th>Unnamed: 0</th>\n",
       "      <th>Name</th>\n",
       "      <th>Age</th>\n",
       "      <th>Member</th>\n",
       "      <th>JoinDate</th>\n",
       "      <th>Score</th>\n",
       "    </tr>\n",
       "  </thead>\n",
       "  <tbody>\n",
       "    <tr>\n",
       "      <th>0</th>\n",
       "      <td>0</td>\n",
       "      <td>Alice</td>\n",
       "      <td>25</td>\n",
       "      <td>Yes</td>\n",
       "      <td>2023-01-15</td>\n",
       "      <td>88.5</td>\n",
       "    </tr>\n",
       "    <tr>\n",
       "      <th>1</th>\n",
       "      <td>1</td>\n",
       "      <td>Bob</td>\n",
       "      <td>30</td>\n",
       "      <td>No</td>\n",
       "      <td>2022-06-01</td>\n",
       "      <td>92.0</td>\n",
       "    </tr>\n",
       "    <tr>\n",
       "      <th>2</th>\n",
       "      <td>2</td>\n",
       "      <td>Charlie</td>\n",
       "      <td>35</td>\n",
       "      <td>Yes</td>\n",
       "      <td>2021-11-23</td>\n",
       "      <td>79</td>\n",
       "    </tr>\n",
       "    <tr>\n",
       "      <th>3</th>\n",
       "      <td>3</td>\n",
       "      <td>Diana</td>\n",
       "      <td>NaN</td>\n",
       "      <td>No</td>\n",
       "      <td>NaN</td>\n",
       "      <td>NaN</td>\n",
       "    </tr>\n",
       "  </tbody>\n",
       "</table>\n",
       "</div>"
      ],
      "text/plain": [
       "   Unnamed: 0     Name  Age Member    JoinDate Score\n",
       "0           0    Alice   25    Yes  2023-01-15  88.5\n",
       "1           1      Bob   30     No  2022-06-01  92.0\n",
       "2           2  Charlie   35    Yes  2021-11-23    79\n",
       "3           3    Diana  NaN     No         NaN   NaN"
      ]
     },
     "execution_count": 84,
     "metadata": {},
     "output_type": "execute_result"
    }
   ],
   "source": [
    "def load_data_with_optimized_dtypes(file_path):\n",
    "    best_dtypes = {\n",
    "        'Name': 'string',\n",
    "        'Age': 'object',\n",
    "        'Member': 'category',\n",
    "        'JoinDate': 'object',\n",
    "        'Score': 'object'\n",
    "    }\n",
    "    \n",
    "    missing_values = ['N/A', 'not available']\n",
    "    \n",
    "    return pd.read_csv(file_path, dtype=best_dtypes, na_values=missing_values)\n",
    "\n",
    "# Example usage\n",
    "df_optimized = load_data_with_optimized_dtypes('lil_data.csv')\n",
    "df_optimized"
   ]
  },
  {
   "cell_type": "markdown",
   "id": "f8bfc9e7",
   "metadata": {},
   "source": [
    "We're almost there! Now it's time to take things up a notch by adding type hints and docstrings! Hallmarks of clean, professional Python code. As you can see below we are missing information when we try to get more info on our function. "
   ]
  },
  {
   "cell_type": "code",
   "execution_count": 85,
   "id": "5eb0c737",
   "metadata": {},
   "outputs": [
    {
     "name": "stdout",
     "output_type": "stream",
     "text": [
      "\u001b[31mSignature:\u001b[39m load_data_with_optimized_dtypes(file_path)\n",
      "\u001b[31mDocstring:\u001b[39m <no docstring>\n",
      "\u001b[31mFile:\u001b[39m      /var/folders/2d/yt4_w6zn5pbfjg_jx5sdmm180000gn/T/ipykernel_96301/602534025.py\n",
      "\u001b[31mType:\u001b[39m      function"
     ]
    }
   ],
   "source": [
    "load_data_with_optimized_dtypes?"
   ]
  },
  {
   "cell_type": "code",
   "execution_count": 86,
   "id": "11994cb2",
   "metadata": {},
   "outputs": [
    {
     "data": {
      "text/html": [
       "<div>\n",
       "<style scoped>\n",
       "    .dataframe tbody tr th:only-of-type {\n",
       "        vertical-align: middle;\n",
       "    }\n",
       "\n",
       "    .dataframe tbody tr th {\n",
       "        vertical-align: top;\n",
       "    }\n",
       "\n",
       "    .dataframe thead th {\n",
       "        text-align: right;\n",
       "    }\n",
       "</style>\n",
       "<table border=\"1\" class=\"dataframe\">\n",
       "  <thead>\n",
       "    <tr style=\"text-align: right;\">\n",
       "      <th></th>\n",
       "      <th>Unnamed: 0</th>\n",
       "      <th>Name</th>\n",
       "      <th>Age</th>\n",
       "      <th>Member</th>\n",
       "      <th>JoinDate</th>\n",
       "      <th>Score</th>\n",
       "    </tr>\n",
       "  </thead>\n",
       "  <tbody>\n",
       "    <tr>\n",
       "      <th>0</th>\n",
       "      <td>0</td>\n",
       "      <td>Alice</td>\n",
       "      <td>25</td>\n",
       "      <td>Yes</td>\n",
       "      <td>2023-01-15</td>\n",
       "      <td>88.5</td>\n",
       "    </tr>\n",
       "    <tr>\n",
       "      <th>1</th>\n",
       "      <td>1</td>\n",
       "      <td>Bob</td>\n",
       "      <td>30</td>\n",
       "      <td>No</td>\n",
       "      <td>2022-06-01</td>\n",
       "      <td>92.0</td>\n",
       "    </tr>\n",
       "    <tr>\n",
       "      <th>2</th>\n",
       "      <td>2</td>\n",
       "      <td>Charlie</td>\n",
       "      <td>35</td>\n",
       "      <td>Yes</td>\n",
       "      <td>2021-11-23</td>\n",
       "      <td>79</td>\n",
       "    </tr>\n",
       "    <tr>\n",
       "      <th>3</th>\n",
       "      <td>3</td>\n",
       "      <td>Diana</td>\n",
       "      <td>NaN</td>\n",
       "      <td>No</td>\n",
       "      <td>NaN</td>\n",
       "      <td>NaN</td>\n",
       "    </tr>\n",
       "  </tbody>\n",
       "</table>\n",
       "</div>"
      ],
      "text/plain": [
       "   Unnamed: 0     Name  Age Member    JoinDate Score\n",
       "0           0    Alice   25    Yes  2023-01-15  88.5\n",
       "1           1      Bob   30     No  2022-06-01  92.0\n",
       "2           2  Charlie   35    Yes  2021-11-23    79\n",
       "3           3    Diana  NaN     No         NaN   NaN"
      ]
     },
     "execution_count": 86,
     "metadata": {},
     "output_type": "execute_result"
    }
   ],
   "source": [
    "from typing import Union\n",
    "from pathlib import Path\n",
    "\n",
    "def load_data_with_optimized_dtypes(file_path: Union[str, Path]) -> pd.DataFrame:\n",
    "    \"\"\"\n",
    "    Load a CSV file using predefined dtypes and custom missing value handling\n",
    "    for improved memory efficiency and data consistency.\n",
    "\n",
    "    Args:\n",
    "        file_path (str or Path): Path to the CSV file.\n",
    "\n",
    "    Returns:\n",
    "        pd.DataFrame: Loaded DataFrame with specified dtypes and missing values handled.\n",
    "    \"\"\"\n",
    "    best_dtypes = {\n",
    "        'Name': 'string',\n",
    "        'Age': 'object',\n",
    "        'Member': 'category',\n",
    "        'JoinDate': 'object',\n",
    "        'Score': 'object'\n",
    "    }\n",
    "    \n",
    "    missing_values = ['N/A', 'not available']\n",
    "\n",
    "    return pd.read_csv(file_path, dtype=best_dtypes, na_values=missing_values)\n",
    "# Example usage\n",
    "df_optimized = load_data_with_optimized_dtypes('lil_data.csv')\n",
    "df_optimized"
   ]
  },
  {
   "cell_type": "code",
   "execution_count": 87,
   "id": "39876c6b",
   "metadata": {},
   "outputs": [
    {
     "name": "stdout",
     "output_type": "stream",
     "text": [
      "\u001b[31mSignature:\u001b[39m load_data_with_optimized_dtypes(file_path: Union[str, pathlib.Path]) -> pandas.core.frame.DataFrame\n",
      "\u001b[31mDocstring:\u001b[39m\n",
      "Load a CSV file using predefined dtypes and custom missing value handling\n",
      "for improved memory efficiency and data consistency.\n",
      "\n",
      "Args:\n",
      "    file_path (str or Path): Path to the CSV file.\n",
      "\n",
      "Returns:\n",
      "    pd.DataFrame: Loaded DataFrame with specified dtypes and missing values handled.\n",
      "\u001b[31mFile:\u001b[39m      /var/folders/2d/yt4_w6zn5pbfjg_jx5sdmm180000gn/T/ipykernel_96301/1768501867.py\n",
      "\u001b[31mType:\u001b[39m      function"
     ]
    }
   ],
   "source": [
    "load_data_with_optimized_dtypes?"
   ]
  },
  {
   "cell_type": "code",
   "execution_count": 88,
   "id": "5114dd1a",
   "metadata": {},
   "outputs": [
    {
     "name": "stdout",
     "output_type": "stream",
     "text": [
      "\n",
      "--- ✅ Copy the Markdown below and paste it into a new markdown cell ---\n",
      "\n",
      "### **Table of Contents**\n",
      "* [Data Optimizations, Does it Really Matter?](#data-optimizations,-does-it-really-matter?)\n",
      "    * [**Table of Contents**](#**table-of-contents**)\n",
      "  * [Real-World Example: The Cost of Not Optimizing](#real-world-example:-the-cost-of-not-optimizing)\n",
      "  * [Use Case: The Job](#use-case:-the-job)\n",
      "  * [Two Approaches](#two-approaches)\n",
      "    * [Inefficient Approach:](#inefficient-approach:)\n",
      "    * [Optimized Approach:](#optimized-approach:)\n",
      "* [# and so on...](##-and-so-on)\n",
      "      * [Estimated Time Savings](#estimated-time-savings)\n",
      "  * [Infrastructure Cost Savings](#infrastructure-cost-savings)\n",
      "  * [Conclusion](#conclusion)\n",
      "* [Pandas Data Types Cheat Sheet](#pandas-data-types-cheat-sheet)\n",
      "  * [Numeric Types](#numeric-types)\n",
      "  * [String and Categorical](#string-and-categorical)\n",
      "  * [Date/Time](#date/time)\n",
      "  * [Boolean](#boolean)\n",
      "  * [Pro Tips](#pro-tips)\n",
      "  * [Summary Table](#summary-table)\n",
      "* [Getting started!](#getting-started!)\n",
      "  * [Plotting your performance](#plotting-your-performance)\n",
      "* [What this means](#what-this-means)\n",
      "  * [Impact in an AWS Production Environment](#impact-in-an-aws-production-environment)\n",
      "    * [Here’s how this would affect a script running in production:](#here’s-how-this-would-affect-a-script-running-in-production:)\n",
      "    * [Improved Performance and Scalability](#improved-performance-and-scalability)\n",
      "    * [Increased Stability and Reliability](#increased-stability-and-reliability)\n",
      "* [How to do this yourself](#how-to-do-this-yourself)\n",
      "  * [The Optimized Import Strategy](#the-optimized-import-strategy)\n",
      "\n"
     ]
    }
   ],
   "source": [
    "import json\n",
    "import os\n",
    "\n",
    "def generate_toc_from_notebook(notebook_path):\n",
    "    \"\"\"\n",
    "    Parses a local .ipynb file and generates Markdown for a Table of Contents.\n",
    "    \"\"\"\n",
    "    if not os.path.isfile(notebook_path):\n",
    "        print(f\"❌ Error: File not found at '{notebook_path}'\")\n",
    "        return\n",
    "\n",
    "    with open(notebook_path, 'r', encoding='utf-8') as f:\n",
    "        notebook = json.load(f)\n",
    "\n",
    "    toc_markdown = \"### **Table of Contents**\\n\"\n",
    "    for cell in notebook.get('cells', []):\n",
    "        if cell.get('cell_type') == 'markdown':\n",
    "            for line in cell.get('source', []):\n",
    "                if line.strip().startswith('#'):\n",
    "                    level = line.count('#')\n",
    "                    title = line.strip('#').strip()\n",
    "                    link = title.lower().replace(' ', '-').strip('-.()')\n",
    "                    indent = '  ' * (level - 1)\n",
    "                    toc_markdown += f\"{indent}* [{title}](#{link})\\n\"\n",
    "\n",
    "    print(\"\\n--- ✅ Copy the Markdown below and paste it into a new markdown cell ---\\n\")\n",
    "    print(toc_markdown)\n",
    "\n",
    "\n",
    "notebook_path = '2_data.ipynb' \n",
    "generate_toc_from_notebook(notebook_path)\n"
   ]
  }
 ],
 "metadata": {
  "kernelspec": {
   "display_name": "venv",
   "language": "python",
   "name": "python3"
  },
  "language_info": {
   "codemirror_mode": {
    "name": "ipython",
    "version": 3
   },
   "file_extension": ".py",
   "mimetype": "text/x-python",
   "name": "python",
   "nbconvert_exporter": "python",
   "pygments_lexer": "ipython3",
   "version": "3.12.2"
  }
 },
 "nbformat": 4,
 "nbformat_minor": 5
}
