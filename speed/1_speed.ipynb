{
 "cells": [
  {
   "cell_type": "markdown",
   "id": "fe6b8b59",
   "metadata": {},
   "source": [
    "# Writing Efficient Code: A Practical Exploration\n",
    "\n",
    "In this notebook, we'll explore strategies for writing more efficient Python code. Our focus is not just on making code work, but on making it work well. We'll use the Jupyter magic command `%%timeit` to compare the performance of different code blocks and measure execution time in a meaningful way.\n",
    "\n",
    "By examining the speed and efficiency of various coding approaches, you’ll gain a deeper understanding of how small changes in syntax or structure can lead to significant performance improvements. Especially when working with large data sets or in production environments.\n",
    "\n",
    "Adopting best practices early helps prevent the need to refactor or rewrite inefficient code later. That said, it's important to strike a healthy balance: while efficiency matters, it's just one part of good development. Readability, maintainability, and your ability to iterate quickly are just as important. Our goal here is to build awareness around performance while still keeping development practical and productive."
   ]
  },
  {
   "cell_type": "markdown",
   "id": "8fa6231e",
   "metadata": {},
   "source": [
    "## Simple Net Salary Calculator\n",
    "\n",
    "In this section, we’ll build a basic net salary calculator. We’ll do it a few different ways to explore how small changes in code structure can dramatically impact performance and efficiency.\n",
    "\n",
    "We’ll walk through the process in three steps:\n",
    "\n",
    "- Start with simple one-liner expressions\n",
    "    - We'll begin with straightforward calculations written directly in code cells.\n",
    "\n",
    "- Refactor into a basic function\n",
    "    - Next, we’ll wrap our logic in a function to improve reusability and readability.\n",
    "\n",
    "- Refine the function for better performance and clarity\n",
    "    - Finally, we’ll enhance the function by applying best practices to make it more efficient, maintainable, and scalable.\n",
    "\n",
    "By comparing these versions, you’ll gain insight into how code organization affects performance and why writing clean, optimized functions matters, even for simple tasks."
   ]
  },
  {
   "cell_type": "markdown",
   "id": "562c17a0",
   "metadata": {},
   "source": [
    "## simple one-liner expressions\n",
    "\n",
    "This is often how we begin exploring the logic behind a task—by quickly writing out one-liner expressions to test and understand how the code should work."
   ]
  },
  {
   "cell_type": "code",
   "execution_count": 47,
   "id": "39868d05",
   "metadata": {},
   "outputs": [
    {
     "name": "stdout",
     "output_type": "stream",
     "text": [
      "The net salary is: 48000.0\n"
     ]
    }
   ],
   "source": [
    "base_salary = 50000\n",
    "bonus = 10000\n",
    "tax_rate = 0.2\n",
    "\n",
    "gross_salary = base_salary + bonus\n",
    "tax = gross_salary * tax_rate\n",
    "net_salary = gross_salary - tax\n",
    "\n",
    "print(f\"The net salary is: {net_salary}\")"
   ]
  },
  {
   "cell_type": "markdown",
   "id": "c60c7eea",
   "metadata": {},
   "source": [
    "## Refactor into a basic function\n",
    "\n",
    "Once we’ve figured out the logic using simple expressions, the next step is to wrap that logic into a function. This makes our code more reusable, easier to read, and more maintainable.\n",
    "\n",
    "Below is a basic function that calculates net salary using predefined values:"
   ]
  },
  {
   "cell_type": "code",
   "execution_count": 48,
   "id": "98ed9af3",
   "metadata": {},
   "outputs": [
    {
     "name": "stdout",
     "output_type": "stream",
     "text": [
      "The net salary is: 48000.0\n"
     ]
    }
   ],
   "source": [
    "base_salary = 50000\n",
    "bonus = 10000\n",
    "tax_rate = 0.2\n",
    "\n",
    "\n",
    "def calculate_net_salary():\n",
    "    gross_salary = base_salary + bonus\n",
    "    tax = gross_salary * tax_rate\n",
    "    net_salary = gross_salary - tax\n",
    "    return net_salary\n",
    "\n",
    "\n",
    "net_salary = calculate_net_salary()\n",
    "print(f\"The net salary is: {net_salary}\")"
   ]
  },
  {
   "cell_type": "markdown",
   "id": "f17f95ad",
   "metadata": {},
   "source": [
    "## Refined function\n",
    "\n",
    "Now that we’ve structured our logic into a function, we can improve it further by making it more flexible. Instead of relying on hardcoded variables from the outer scope, this version takes in parameters—allowing us to reuse the function with different inputs.\n",
    "\n",
    "We’ve also added type hints to make the function more readable and to help with error checking and documentation."
   ]
  },
  {
   "cell_type": "code",
   "execution_count": 49,
   "id": "553ec3b8",
   "metadata": {},
   "outputs": [
    {
     "name": "stdout",
     "output_type": "stream",
     "text": [
      "The net salary is: 48000.0\n"
     ]
    }
   ],
   "source": [
    "def calculate_net_salary(base_salary: float, bonus: float, tax_rate: float):\n",
    "    gross_salary = base_salary + bonus\n",
    "    tax = gross_salary * tax_rate\n",
    "    net_salary = gross_salary - tax\n",
    "    return net_salary\n",
    "\n",
    "\n",
    "net_salary = calculate_net_salary(50000, 10000, .2)\n",
    "print(f\"The net salary is: {net_salary}\")"
   ]
  },
  {
   "cell_type": "markdown",
   "id": "91f68280",
   "metadata": {},
   "source": [
    "## Converted into a class"
   ]
  },
  {
   "cell_type": "code",
   "execution_count": 50,
   "id": "1fdfb732",
   "metadata": {},
   "outputs": [
    {
     "name": "stdout",
     "output_type": "stream",
     "text": [
      "The net salary is: 48000.0\n"
     ]
    }
   ],
   "source": [
    "class SalaryCalculator:\n",
    "    def __init__(self, base_salary: float, bonus: float, tax_rate: float):\n",
    "        self.base_salary = base_salary\n",
    "        self.bonus = bonus\n",
    "        self.tax_rate = tax_rate\n",
    "\n",
    "    def calculate_net_salary(self) -> float:\n",
    "        gross_salary = self.base_salary + self.bonus\n",
    "        tax = gross_salary * self.tax_rate\n",
    "        net_salary = gross_salary - tax\n",
    "        return net_salary\n",
    "\n",
    "# Example usage\n",
    "calculator = SalaryCalculator(50000, 10000, 0.2)\n",
    "net_salary = calculator.calculate_net_salary()\n",
    "print(f\"The net salary is: {net_salary}\")"
   ]
  },
  {
   "cell_type": "markdown",
   "id": "0f61aeeb",
   "metadata": {},
   "source": [
    "Now lets test them with %%timeit to see how each change effected the performance of the code."
   ]
  },
  {
   "cell_type": "markdown",
   "id": "c6e5c8fc",
   "metadata": {},
   "source": [
    "## %%timeit\n",
    "\n",
    "#### what is this %%timeit all about anyways?\n",
    "- The %%timeit magic command in Jupyter is used to measure the execution time of a code block.\n",
    "\n",
    "#### `%%timeit -r 20 -n 10` -> What It Means:\n",
    "- -n 10 (number):\n",
    "    - Run the code 10 times per loop. This is the number of executions per repetition.\n",
    "\n",
    "- -r 20 (repeat):\n",
    "    - Repeat the loop 20 times. This means the set of 10 executions will be done 20 times, and the best average time (usually) is reported.\n",
    "\n",
    "#### In total:\n",
    "- Your code runs 10 × 20 = 200 times.\n",
    "- Each group of 10 runs is timed and averaged.\n",
    "- You get 20 such averages\n",
    "\n",
    "The final result shows the mean (or best) time of those 20 averaged runs.\n",
    "\n",
    "#### Why use these flags?\n",
    "- -n: Controls how many times the code is executed in one timing loop. More runs = smoother timing.\n",
    "\n"
   ]
  },
  {
   "cell_type": "code",
   "execution_count": 51,
   "id": "5eefe6fa",
   "metadata": {},
   "outputs": [
    {
     "name": "stdout",
     "output_type": "stream",
     "text": [
      "78.7 ns ± 31.4 ns per loop (mean ± std. dev. of 20 runs, 10 loops each)\n"
     ]
    }
   ],
   "source": [
    "%%timeit -r 20 -n 10\n",
    "\n",
    "base_salary = 50000\n",
    "bonus = 10000\n",
    "tax_rate = 0.2\n",
    "\n",
    "gross_salary = base_salary + bonus\n",
    "tax = gross_salary * tax_rate\n",
    "net_salary = gross_salary - tax\n",
    "\n",
    "# print(f\"The net salary is: {net_salary}\")"
   ]
  },
  {
   "cell_type": "code",
   "execution_count": 52,
   "id": "0a279242",
   "metadata": {},
   "outputs": [
    {
     "name": "stdout",
     "output_type": "stream",
     "text": [
      "The slowest run took 23.64 times longer than the fastest. This could mean that an intermediate result is being cached.\n",
      "514 ns ± 808 ns per loop (mean ± std. dev. of 20 runs, 10 loops each)\n"
     ]
    }
   ],
   "source": [
    "%%timeit -r 20 -n 10\n",
    "\n",
    "base_salary = 50000\n",
    "bonus = 10000\n",
    "tax_rate = 0.2\n",
    "\n",
    "\n",
    "def calculate_net_salary():\n",
    "    gross_salary = base_salary + bonus\n",
    "    tax = gross_salary * tax_rate\n",
    "    net_salary = gross_salary - tax\n",
    "    return net_salary\n",
    "\n",
    "\n",
    "net_salary = calculate_net_salary()\n",
    "# print(f\"The net salary is: {net_salary}\")"
   ]
  },
  {
   "cell_type": "code",
   "execution_count": 53,
   "id": "5aa512d8",
   "metadata": {},
   "outputs": [
    {
     "name": "stdout",
     "output_type": "stream",
     "text": [
      "320 ns ± 76.1 ns per loop (mean ± std. dev. of 20 runs, 10 loops each)\n"
     ]
    }
   ],
   "source": [
    "%%timeit -r 20 -n 10\n",
    "\n",
    "def calculate_net_salary(base_salary: float, bonus: float, tax_rate: float):\n",
    "    gross_salary = base_salary + bonus\n",
    "    tax = gross_salary * tax_rate\n",
    "    net_salary = gross_salary - tax\n",
    "    return net_salary\n",
    "\n",
    "\n",
    "net_salary = calculate_net_salary(50000, 10000, .2)\n",
    "# print(f\"The net salary is: {net_salary}\")"
   ]
  },
  {
   "cell_type": "code",
   "execution_count": 54,
   "id": "9d59c22d",
   "metadata": {},
   "outputs": [
    {
     "name": "stdout",
     "output_type": "stream",
     "text": [
      "9.34 μs ± 1.29 μs per loop (mean ± std. dev. of 20 runs, 10 loops each)\n"
     ]
    }
   ],
   "source": [
    "%%timeit -r 20 -n 10\n",
    "\n",
    "class SalaryCalculator:\n",
    "    def __init__(self, base_salary: float, bonus: float, tax_rate: float):\n",
    "        self.base_salary = base_salary\n",
    "        self.bonus = bonus\n",
    "        self.tax_rate = tax_rate\n",
    "\n",
    "    def calculate_net_salary(self) -> float:\n",
    "        gross_salary = self.base_salary + self.bonus\n",
    "        tax = gross_salary * self.tax_rate\n",
    "        net_salary = gross_salary - tax\n",
    "        return net_salary\n",
    "\n",
    "\n",
    "calculator = SalaryCalculator(50000, 10000, 0.2)\n",
    "net_salary = calculator.calculate_net_salary()\n",
    "# print(f\"The net salary is: {net_salary}\")"
   ]
  },
  {
   "cell_type": "markdown",
   "id": "9bacb51c",
   "metadata": {},
   "source": [
    "## Formula for conversion\n",
    "\n",
    "formula to convert Microseconds (μs) → Seconds (s)\n",
    "\n",
    "Mean time:\n",
    "\n",
    "$$\n",
    "10.4\\,\\mu s = \\frac{10.4}{1{,}000{,}000} = 0.0000104 \\text{ seconds}\n",
    "$$\n",
    "\n",
    "## Why These Tiny Differences Matter\n",
    "At first glance, a time like 10.4 microseconds (μs) may seem insignificant and for a single operation, it is. But the goal here is not to obsess over micro-optimizations.\n",
    "\n",
    "Instead, this example is meant to demonstrate how even small improvements in code efficiency can scale up to major time savings, especially in real-world projects involving:\n",
    "\n",
    "- Large datasets (millions of rows)\n",
    "- Complex operations (e.g., joins, aggregations, model training)\n",
    "- High-frequency computations (inside loops, APIs, or batch jobs)\n",
    "\n",
    "For instance, if you're processing data row-by-row in a dataset with 10 million records, saving even 10 microseconds per row translates to a total savings of over 100 seconds.\n",
    "\n",
    "So while this is a simplified example, it shows how important it is to:\n",
    "\n",
    "- Understand performance trade-offs\n",
    "- Build efficient habits early\n",
    "- Recognize when optimizations are worth the effort"
   ]
  },
  {
   "cell_type": "markdown",
   "id": "90df2826",
   "metadata": {},
   "source": [
    "### Function That converts time to seconds"
   ]
  },
  {
   "cell_type": "code",
   "execution_count": 55,
   "id": "235ff54c",
   "metadata": {},
   "outputs": [],
   "source": [
    "def extract_mean_seconds(timeit_str):\n",
    "    \"\"\"\n",
    "    Extracts the mean time from a timeit output string like\n",
    "    '10.4 μs ± 7.22 μs per loop' and returns it in seconds.\n",
    "    \"\"\"\n",
    "    import re\n",
    "\n",
    "    match = re.search(r'([\\d.]+)\\s*μs', timeit_str)\n",
    "    if not match:\n",
    "        raise ValueError(\"Input string not in expected format.\")\n",
    "\n",
    "    mean_us = float(match.group(1))\n",
    "    return mean_us / 1_000_000\n"
   ]
  },
  {
   "cell_type": "code",
   "execution_count": 56,
   "id": "dbf6e4ea",
   "metadata": {},
   "outputs": [
    {
     "name": "stdout",
     "output_type": "stream",
     "text": [
      "Single Line Mean time: 0.00001040 seconds\n",
      "Basic Function Mean time: 0.00000828 seconds\n",
      "Refined Function Mean time: 0.00000767 seconds\n",
      "Class Mean time: 0.00001950 seconds\n"
     ]
    }
   ],
   "source": [
    "single_line_result = \"10.4 μs ± 7.22 μs per loop\"\n",
    "slr = extract_mean_seconds(single_line_result)\n",
    "print(f\"Single Line Mean time: {slr:.8f} seconds\")\n",
    "\n",
    "base_fun = \"8.28 μs ± 2.44 μs per loop\"\n",
    "bf = extract_mean_seconds(base_fun)\n",
    "print(f\"Basic Function Mean time: {bf:.8f} seconds\")\n",
    "\n",
    "refined_fun = \"7.67 μs ± 2.88 μs per loop\"\n",
    "rf = extract_mean_seconds(refined_fun)\n",
    "print(f\"Refined Function Mean time: {rf:.8f} seconds\")\n",
    "\n",
    "class_test = \"19.5 μs ± 9.16 μs per loop\"\n",
    "ct = extract_mean_seconds(class_test)\n",
    "print(f\"Class Mean time: {ct:.8f} seconds\")"
   ]
  },
  {
   "cell_type": "markdown",
   "id": "1a9ff56c",
   "metadata": {},
   "source": [
    "### Plotting our findings"
   ]
  },
  {
   "cell_type": "code",
   "execution_count": 57,
   "id": "8d429dd5",
   "metadata": {},
   "outputs": [
    {
     "data": {
      "image/png": "[encoded data removed]",
      "text/plain": [
       "<Figure size 800x500 with 1 Axes>"
      ]
     },
     "metadata": {},
     "output_type": "display_data"
    }
   ],
   "source": [
    "import matplotlib.pyplot as plt\n",
    "\n",
    "implementations = [\n",
    "    'Refined Function',\n",
    "    'Basic Function',\n",
    "    'Single Line',\n",
    "    'Class Method'\n",
    "]\n",
    "\n",
    "mean_times = [\n",
    "    0.00000767,  # Refined Function\n",
    "    0.00000828,  # Basic Function\n",
    "    0.00001040,  # Single Line\n",
    "    0.00001950   # Class Method\n",
    "]\n",
    "\n",
    "sorted_data = sorted(zip(implementations, mean_times), key=lambda x: x[1])\n",
    "labels, times = zip(*sorted_data)\n",
    "\n",
    "colors = ['green'] + ['grey'] * (len(times) - 1)\n",
    "\n",
    "plt.figure(figsize=(8, 5))\n",
    "bars = plt.bar(labels, times, color=colors)\n",
    "\n",
    "plt.ylabel('Mean Time (seconds)')\n",
    "plt.title('Performance Comparison (shorter is better)')\n",
    "plt.yscale('log')  \n",
    "\n",
    "plt.tight_layout()\n",
    "plt.show()"
   ]
  },
  {
   "cell_type": "markdown",
   "id": "d7ff42d1",
   "metadata": {},
   "source": [
    "# Performance Comparison: Different Net Salary Implementations\n",
    "\n",
    "| Implementation       | Mean Time (seconds) | Relative Speed vs. Single Line | Relative Speed vs. Class      |\n",
    "|----------------------|---------------------|-------------------------------|------------------------------|\n",
    "| Single Line          | 0.00001040          | 1.00× (baseline)               | ~1.88× faster                 |\n",
    "| Basic Function       | 0.00000828          | ~1.26× faster                  | ~2.36× faster                 |\n",
    "| Refined Function     | 0.00000767          | ~1.36× faster                  | ~2.54× faster                 |\n",
    "| Class Method         | 0.00001950          | ~1.87× slower                  | 1.00× (baseline)             |\n",
    "\n",
    "---\n",
    "\n",
    "## Explanation\n",
    "\n",
    "- **Single Line Code**  \n",
    "  Simple and quick to write; good for quick tests or very small scripts. However, it's not reusable or scalable and can quickly get messy in larger projects.\n",
    "\n",
    "- **Basic Function**  \n",
    "  Introduces reusability and clearer structure. It’s faster than the single line version here because function calls help organize the code better without much overhead.\n",
    "\n",
    "- **Refined Function**  \n",
    "  Improves readability and flexibility by accepting parameters and using type hints. This is the fastest approach among these and ideal for most cases where performance and clarity matter.\n",
    "\n",
    "- **Class Method**  \n",
    "  While slower (about 87% slower than single-line code in this test), classes provide a powerful way to encapsulate data and related behavior. This is invaluable for complex systems where you want to:\n",
    "\n",
    "  - Group related attributes and methods logically.\n",
    "  - Support extensions like adding benefits, deductions, or different tax rules.\n",
    "  - Maintain and test code more effectively in large projects.\n",
    "\n",
    "---\n",
    "\n",
    "## When to Use Which?\n",
    "\n",
    "| Use Case                          | Recommended Implementation                      |\n",
    "|----------------------------------|------------------------------------------------|\n",
    "| Quick one-off calculations        | Single line or Basic Function                   |\n",
    "| Reusable, parameterized logic    | Refined Function                                |\n",
    "| Complex systems with multiple related operations and state | Class Method                                  |\n",
    "\n",
    "---\n",
    "\n",
    "### Why Use Classes Even Though They Are Slower?\n",
    "\n",
    "- **Maintainability & Organization:** Classes help keep your code modular and easier to maintain as projects grow.\n",
    "- **Extensibility:** You can add new features (e.g., different salary components, tax rules) without rewriting core logic.\n",
    "- **Real-world Applications:** Most large codebases rely heavily on OOP for its clear structure despite minor performance costs.\n",
    "\n",
    "In most practical scenarios, the performance cost of classes is negligible compared to the benefits they provide.\n",
    "\n"
   ]
  }
 ],
 "metadata": {
  "kernelspec": {
   "display_name": "venv",
   "language": "python",
   "name": "python3"
  },
  "language_info": {
   "codemirror_mode": {
    "name": "ipython",
    "version": 3
   },
   "file_extension": ".py",
   "mimetype": "text/x-python",
   "name": "python",
   "nbconvert_exporter": "python",
   "pygments_lexer": "ipython3",
   "version": "3.12.2"
  }
 },
 "nbformat": 4,
 "nbformat_minor": 5
}
